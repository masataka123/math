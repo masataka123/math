{
 "cells": [
  {
   "cell_type": "markdown",
   "metadata": {},
   "source": [
    "Miyaoka-YauやBogomolov-Giesekerの等式がいつ成り立つか調べる.\n",
    "\n",
    "Let $X$ be a smooth variety and $D =\\sum_{i=1}^{l} D_i$ be a simple normal crossing divisor.\n",
    "Then \n",
    "$$\n",
    "c_1\\bigl(T_X(- \\log D)\\bigr)=-(K_X + D)\n",
    "$$\n",
    "and\n",
    "\n",
    "\\begin{align*}\n",
    "\\begin{split}\n",
    "c_2\\bigl(T_X(- \\log D)\\bigr)\n",
    "&= c_2(T_X) + K_X D + \\sum_{i=1}^{l}D_{i}^{2} + \\sum_{i<j}D_i D_j \\\\\n",
    "&= c_2(T_X) + K_X D +D^2 - \\sum_{i<j}D_i D_j.\\\\\n",
    "\\end{split}\n",
    " \\end{align*}\n",
    "  "
   ]
  },
  {
   "cell_type": "markdown",
   "metadata": {},
   "source": [
    "$X \\subset \\mathbb{P}^{n+1}$に関して,$X$を次数$q$の超曲面, $H$をhyperplaneとする.\n",
    "$D = \\sum_{i=1}^{l} D_i$かつ$D_i \\sim d_i H$とおく\n",
    "Set $d := \\sum d_i$ and $X := \\sum_{i<j}d_i d_j$,\n",
    "\n",
    "$$\n",
    "c_1(T_X) = (n+1-q)H\n",
    "$$\n",
    "$$\n",
    "c_2(T_X) = \\frac{n(n+1)}{2} -q(n+1) + q^2 -\\frac{q(q-1)}{2}\n",
    "$$\n",
    "である.\n",
    "\n",
    "$$\n",
    "c_1\\bigl(T_X(- \\log D)\\bigr)= c_1(T_X)-d\n",
    "$$ and\n",
    "$$\n",
    "c_2\\bigl(T_X(- \\log D)\\bigr)= \n",
    "c_2(T_X)-c_1(T_X)d+ d^2 -X\n",
    "$$\n",
    "である."
   ]
  },
  {
   "cell_type": "markdown",
   "metadata": {},
   "source": [
    "$BMY_{n+1}$等式\n",
    "$$\n",
    "2(n+1)c_2(E) - nc_1(E)^2 =0\n",
    "$$\n",
    "と$BMY_{n}$等式\n",
    "$$\n",
    "2n c_2(E) - (n-1)c_1(E)^2 =0\n",
    "$$\n",
    "がいつ成り立つか調べる"
   ]
  },
  {
   "cell_type": "code",
   "execution_count": 130,
   "metadata": {},
   "outputs": [],
   "source": [
    "def cp1(n,d):\n",
    "    return (n+1-d)\n",
    "def cp2(n,d):\n",
    "    return n*(n+1)/2 -d*(n+1) + d*d -(d*(d-1)/2)\n",
    "def bmyp(n,d):\n",
    "    if 2*(n+1)*cp2(n,d) - n*cp1(n,d)*cp1(n,d) ==0:\n",
    "        return 1\n",
    "    else:\n",
    "        return 0\n",
    "def bmyp2(n,d):\n",
    "    if 2*(n)*cp2(n,d) - (n-1)*cp1(n,d)*cp1(n,d) ==0:\n",
    "        return 1\n",
    "    else:\n",
    "        return 0\n",
    "    \n",
    "def cq1(n,d):\n",
    "    return n-d\n",
    "def cq2(n,d):\n",
    "    return (n*n -n +2)/2 -n*d + d*d -(d*(d-1)/2)\n",
    "def bmyq(n,d):\n",
    "    if 2*(n+1)*cq2(n,d) - n*cq1(n,d)*cq1(n,d) ==0:\n",
    "        return 1\n",
    "    else:\n",
    "        return 0\n",
    "def bmyq2(n,d):\n",
    "    if 2*(n)*cq2(n,d) - (n-1)*cq1(n,d)*cq1(n,d) ==0:\n",
    "        return 1\n",
    "    else:\n",
    "        return 0  \n",
    "    "
   ]
  },
  {
   "cell_type": "markdown",
   "metadata": {},
   "source": [
    "全ての$d_i$について$d_i=1$である時, $\\mathbb{P}^n$について$(\\mathbb{P}^n, D)$がいつ$BMY_{n+1}$を満たすか調べた"
   ]
  },
  {
   "cell_type": "code",
   "execution_count": 131,
   "metadata": {
    "collapsed": true
   },
   "outputs": [
    {
     "name": "stdout",
     "output_type": "stream",
     "text": [
      "1 0\n",
      "1 2\n",
      "2 0\n",
      "2 3\n",
      "3 0\n",
      "3 4\n",
      "4 0\n",
      "4 5\n",
      "5 0\n",
      "5 6\n",
      "6 0\n",
      "6 7\n",
      "7 0\n",
      "7 8\n",
      "8 0\n",
      "8 9\n",
      "9 0\n",
      "9 10\n",
      "10 0\n",
      "10 11\n",
      "11 0\n",
      "11 12\n",
      "12 0\n",
      "12 13\n",
      "13 0\n",
      "13 14\n",
      "14 0\n",
      "14 15\n",
      "15 0\n",
      "15 16\n",
      "16 0\n",
      "16 17\n",
      "17 0\n",
      "17 18\n",
      "18 0\n",
      "18 19\n",
      "19 0\n",
      "19 20\n",
      "20 0\n",
      "20 21\n"
     ]
    }
   ],
   "source": [
    "N=20\n",
    "for n in range(1,N+1):\n",
    "    for d in range(n+2):\n",
    "        if bmyp(n,d):\n",
    "            print(n,d)"
   ]
  },
  {
   "cell_type": "markdown",
   "metadata": {},
   "source": [
    "結果は$d=0$ or $d=n+1$の時のみであった"
   ]
  },
  {
   "cell_type": "markdown",
   "metadata": {},
   "source": [
    "全ての$d_i$について$d_i=1$である時, $\\mathbb{P}^n$について$(\\mathbb{P}^n, D)$がいつ$BMY_{n}$を満たすか調べた"
   ]
  },
  {
   "cell_type": "code",
   "execution_count": 132,
   "metadata": {
    "scrolled": true
   },
   "outputs": [
    {
     "name": "stdout",
     "output_type": "stream",
     "text": [
      "1 1\n",
      "1 2\n",
      "2 1\n",
      "2 3\n",
      "3 1\n",
      "3 4\n",
      "4 1\n",
      "4 5\n",
      "5 1\n",
      "5 6\n",
      "6 1\n",
      "6 7\n",
      "7 1\n",
      "7 8\n",
      "8 1\n",
      "8 9\n",
      "9 1\n",
      "9 10\n",
      "10 1\n",
      "10 11\n",
      "11 1\n",
      "11 12\n",
      "12 1\n",
      "12 13\n",
      "13 1\n",
      "13 14\n",
      "14 1\n",
      "14 15\n",
      "15 1\n",
      "15 16\n",
      "16 1\n",
      "16 17\n",
      "17 1\n",
      "17 18\n",
      "18 1\n",
      "18 19\n",
      "19 1\n",
      "19 20\n",
      "20 1\n",
      "20 21\n"
     ]
    }
   ],
   "source": [
    "N=20\n",
    "for n in range(1,N+1):\n",
    "    for d in range(n+2):\n",
    "        if bmyp2(n,d):\n",
    "            print(n,d)"
   ]
  },
  {
   "cell_type": "markdown",
   "metadata": {},
   "source": [
    "結果は$d=1$ or $d=n+1$の時のみであった"
   ]
  },
  {
   "cell_type": "markdown",
   "metadata": {},
   "source": [
    "全ての$d_i$について$d_i=1$である時, $\\mathbb{Q}^n \\subset \\mathbb{P}^{n+1}$について$(\\mathbb{Q}^n , D)$がいつ$BMY_{n+1}$を満たすか調べた"
   ]
  },
  {
   "cell_type": "code",
   "execution_count": 133,
   "metadata": {},
   "outputs": [
    {
     "name": "stdout",
     "output_type": "stream",
     "text": [
      "7 3\n",
      "8 2\n",
      "8 5\n"
     ]
    }
   ],
   "source": [
    "N=1000\n",
    "for n in range(1,N+1):\n",
    "    for d in range(n+1):\n",
    "        if bmyq(n,d):\n",
    "            print(n,d)"
   ]
  },
  {
   "cell_type": "markdown",
   "metadata": {},
   "source": [
    "$(n,d)=(7, 3), (8, 2), (8, 5)$\n",
    "などなど結構色々あるっぽい"
   ]
  },
  {
   "cell_type": "markdown",
   "metadata": {},
   "source": [
    "全ての$d_i$について$d_i=1$である時, $\\mathbb{Q}^n \\subset \\mathbb{P}^{n+1}$について$(\\mathbb{Q}^n , D)$がいつ$BMY_{n}$を満たすか調べた"
   ]
  },
  {
   "cell_type": "code",
   "execution_count": 134,
   "metadata": {},
   "outputs": [
    {
     "name": "stdout",
     "output_type": "stream",
     "text": [
      "8 4\n",
      "9 3\n",
      "9 6\n"
     ]
    }
   ],
   "source": [
    "N=1000\n",
    "for n in range(1,N+1):\n",
    "    for d in range(n+1):\n",
    "        if bmyq2(n,d):\n",
    "            print(n,d)"
   ]
  },
  {
   "cell_type": "markdown",
   "metadata": {},
   "source": [
    "$(n,d)=(8, 4), (9, 3), (9, 6)$\n",
    "などなど結構色々あるっぽい"
   ]
  },
  {
   "cell_type": "markdown",
   "metadata": {},
   "source": [
    "次は$X \\subset \\mathbb{P}^{n+1}$に関して,$X$を次数$q$の超曲面の場合を見る.\n"
   ]
  },
  {
   "cell_type": "code",
   "execution_count": 126,
   "metadata": {},
   "outputs": [],
   "source": [
    "def c1(n,q):\n",
    "    return n+2-q\n",
    "def c2(n,q):\n",
    "    return ((n+2)*(n+1))/2 - q*(n+2)+q*q\n",
    "\n",
    "def cr1(n,q,d):\n",
    "    return c1(n,q)-d\n",
    "def cr2(n,q,d):\n",
    "    return c2(n,q)-c1(n,q)*d+ d*d -(d*(d-1))/2\n",
    "\n",
    "def bmyr(n,q,d):\n",
    "    s=2*(n+1)*cr2(n,q,d) - n*cr1(n,q,d)*cr1(n,q,d)\n",
    "    if s ==0:\n",
    "        return 1\n",
    "    elif s>0:\n",
    "        return 2\n",
    "    else:\n",
    "        return 0"
   ]
  },
  {
   "cell_type": "markdown",
   "metadata": {},
   "source": [
    "全ての$d_i$について$d_i=1$である時, $(X , D)$がいつ$BMY_{n+1}$を満たすか調べた"
   ]
  },
  {
   "cell_type": "code",
   "execution_count": 122,
   "metadata": {
    "scrolled": true
   },
   "outputs": [
    {
     "name": "stdout",
     "output_type": "stream",
     "text": [
      "7 2 3\n",
      "8 2 2\n",
      "8 2 5\n",
      "23 3 10\n",
      "24 3 8\n",
      "24 3 13\n",
      "26 3 7\n",
      "26 3 16\n",
      "31 3 6\n",
      "31 3 22\n",
      "47 4 21\n",
      "48 3 5\n",
      "48 3 40\n",
      "48 4 18\n",
      "48 4 25\n",
      "49 4 17\n",
      "49 4 27\n",
      "53 4 15\n",
      "53 4 33\n",
      "63 4 13\n",
      "63 4 45\n",
      "74 4 12\n",
      "74 4 57\n",
      "79 5 36\n",
      "80 5 32\n",
      "80 5 41\n",
      "89 5 26\n",
      "89 5 56\n",
      "97 4 11\n",
      "97 4 81\n",
      "97 5 24\n",
      "97 5 66\n",
      "119 6 55\n",
      "120 6 50\n",
      "120 6 61\n",
      "124 5 21\n",
      "124 5 96\n",
      "124 6 45\n",
      "124 6 70\n",
      "127 6 43\n",
      "127 6 75\n",
      "134 6 40\n",
      "134 6 85\n",
      "143 5 20\n",
      "143 5 116\n",
      "146 6 37\n",
      "146 6 100\n",
      "159 6 35\n",
      "159 6 115\n",
      "167 7 78\n",
      "168 4 10\n",
      "168 4 153\n",
      "168 6 34\n",
      "168 6 125\n",
      "168 7 72\n",
      "168 7 85\n",
      "174 7 64\n",
      "174 7 99\n",
      "188 7 57\n",
      "188 7 120\n",
      "199 7 54\n",
      "199 7 134\n",
      "215 6 31\n",
      "215 6 175\n",
      "223 7 50\n",
      "223 7 162\n",
      "223 8 105\n",
      "224 8 98\n",
      "224 8 113\n",
      "241 5 18\n",
      "241 5 216\n",
      "241 8 81\n",
      "241 8 147\n",
      "242 7 48\n",
      "242 7 183\n",
      "244 6 30\n",
      "244 6 205\n",
      "251 8 77\n",
      "251 8 161\n",
      "287 9 136\n",
      "288 6 29\n",
      "288 6 250\n",
      "288 7 45\n",
      "288 7 232\n",
      "288 9 128\n",
      "288 9 145\n",
      "293 9 118\n",
      "293 9 160\n",
      "299 9 112\n",
      "299 9 172\n",
      "90\n"
     ]
    }
   ],
   "source": [
    "N=300\n",
    "count =0\n",
    "for n in range(1,N+1):\n",
    "    for q in range(2,n+3):\n",
    "        for d in range(n+2-q+1):\n",
    "            if bmyr(n,q,d)==1:\n",
    "                print(n,q,d)\n",
    "                count+=1\n",
    "print(count)"
   ]
  },
  {
   "cell_type": "markdown",
   "metadata": {},
   "source": [
    "$(n,q,d) = (7,2,3)$などなど色々あるっぽい"
   ]
  },
  {
   "cell_type": "markdown",
   "metadata": {},
   "source": [
    "全ての$d_i$について$d_i=1$である時, $(X , D)$がいつ$BMY_{n}$を満たすか調べた"
   ]
  },
  {
   "cell_type": "code",
   "execution_count": 129,
   "metadata": {
    "collapsed": true
   },
   "outputs": [
    {
     "name": "stdout",
     "output_type": "stream",
     "text": [
      "8 2 4\n",
      "9 2 3\n",
      "9 2 6\n",
      "24 3 11\n",
      "25 3 9\n",
      "25 3 14\n",
      "27 3 8\n",
      "27 3 17\n",
      "32 3 7\n",
      "32 3 23\n",
      "48 4 22\n",
      "49 3 6\n",
      "49 3 41\n",
      "49 4 19\n",
      "49 4 26\n",
      "50 4 18\n",
      "50 4 28\n",
      "54 4 16\n",
      "54 4 34\n",
      "64 4 14\n",
      "64 4 46\n",
      "75 4 13\n",
      "75 4 58\n",
      "80 5 37\n",
      "81 5 33\n",
      "81 5 42\n",
      "90 5 27\n",
      "90 5 57\n",
      "98 4 12\n",
      "98 4 82\n",
      "98 5 25\n",
      "98 5 67\n",
      "120 6 56\n",
      "121 6 51\n",
      "121 6 62\n",
      "125 5 22\n",
      "125 5 97\n",
      "125 6 46\n",
      "125 6 71\n",
      "128 6 44\n",
      "128 6 76\n",
      "135 6 41\n",
      "135 6 86\n",
      "144 5 21\n",
      "144 5 117\n",
      "147 6 38\n",
      "147 6 101\n",
      "160 6 36\n",
      "160 6 116\n",
      "168 7 79\n",
      "169 4 11\n",
      "169 4 154\n",
      "169 6 35\n",
      "169 6 126\n",
      "169 7 73\n",
      "169 7 86\n",
      "175 7 65\n",
      "175 7 100\n",
      "189 7 58\n",
      "189 7 121\n",
      "200 7 55\n",
      "200 7 135\n",
      "216 6 32\n",
      "216 6 176\n",
      "224 7 51\n",
      "224 7 163\n",
      "224 8 106\n",
      "225 8 99\n",
      "225 8 114\n",
      "242 5 19\n",
      "242 5 217\n",
      "242 8 82\n",
      "242 8 148\n",
      "243 7 49\n",
      "243 7 184\n",
      "245 6 31\n",
      "245 6 206\n",
      "252 8 78\n",
      "252 8 162\n",
      "288 9 137\n",
      "289 6 30\n",
      "289 6 251\n",
      "289 7 46\n",
      "289 7 233\n",
      "289 9 129\n",
      "289 9 146\n",
      "294 9 119\n",
      "294 9 161\n",
      "300 9 113\n",
      "300 9 173\n",
      "90\n"
     ]
    }
   ],
   "source": [
    "def bmyr2(n,q,d):\n",
    "    if 2*(n)*cr2(n,q,d) - (n-1)*cr1(n,q,d)*cr1(n,q,d) ==0:\n",
    "        return 1\n",
    "    else:\n",
    "        return 0\n",
    "N=300\n",
    "count=0\n",
    "for n in range(1,N+1):\n",
    "    for q in range(2,n+3):\n",
    "        for d in range(n+2-q+1):\n",
    "            if bmyr2(n,q,d):\n",
    "                print(n,q,d)\n",
    "                count+=1\n",
    "print(count)"
   ]
  },
  {
   "cell_type": "markdown",
   "metadata": {},
   "source": [
    "これも\n",
    "$(n,q,d) = (8,2,4)$などなど色々あるっぽい"
   ]
  },
  {
   "cell_type": "markdown",
   "metadata": {},
   "source": [
    "次に$l=1$つまり$D=D_1$の時, $BMY_n$を見る. \n",
    "$(\\mathbb{P}^n, H)$の時に$BMY_n$が成り立つのはわかっているので，$q >1$の時を考える"
   ]
  },
  {
   "cell_type": "code",
   "execution_count": 124,
   "metadata": {},
   "outputs": [],
   "source": [
    "def c1(n,q):\n",
    "    return n+2-q\n",
    "def c2(n,q):\n",
    "    return ((n+2)*(n+1))/2 - q*(n+2)+q*q\n",
    "\n",
    "def cr1(n,q,d):\n",
    "    return c1(n,q)-d\n",
    "def cr2(n,q,d):\n",
    "    return c2(n,q)-c1(n,q)*d+ d*d \n",
    "    #return c2(n,q)-c1(n,q)*d+ d*d -(d*(d-1))/2\n",
    "\n",
    "def bmyr(n,q,d):\n",
    "    s=2*n*cr2(n,q,d) - (n-1)*cr1(n,q,d)*cr1(n,q,d)\n",
    "    if s==0:\n",
    "        return 1\n",
    "    else:\n",
    "        return 0\n",
    "    \n",
    "N=300\n",
    "count =0\n",
    "for n in range(1,N+1):\n",
    "    for q in range(2,n+3):\n",
    "        for d in range(n+2-q+1):\n",
    "            if bmyr(n,q,d)==1:\n",
    "                print(n,q,d)"
   ]
  },
  {
   "cell_type": "markdown",
   "metadata": {},
   "source": [
    "どうも存在しなさそう.\n",
    "それはmain theoremからわかるんだけれども"
   ]
  },
  {
   "cell_type": "markdown",
   "metadata": {},
   "source": [
    "$\\mathbb{P}^n$について, $D = \\sum_{i=1}^{l} D_i$かつ$D_i \\sim d_i H$とおく\n",
    "Set $d := \\sum d_i$ and $X := \\sum_{i<j}d_i d_j$とおく\n",
    "$(\\mathbb{P}^n, D)$がいつ$BMY_{n+1}$や$BMY_n$がいつ成り立つか調べる.\n"
   ]
  },
  {
   "cell_type": "markdown",
   "metadata": {},
   "source": [
    "分割を求める"
   ]
  },
  {
   "cell_type": "code",
   "execution_count": 1,
   "metadata": {},
   "outputs": [],
   "source": [
    "from collections import defaultdict\n",
    "from copy import deepcopy\n",
    "\n",
    "def adis(a):\n",
    "    S=set()\n",
    "    t=len(a)\n",
    "    L=list(a)\n",
    "    for i in range (t):\n",
    "        X=deepcopy(L)\n",
    "        X[i]+=1\n",
    "        X=tuple(sorted(X)[::-1])\n",
    "        S.add(X)\n",
    "    X=deepcopy(L)\n",
    "    X.append(1)\n",
    "    X=tuple(sorted(X)[::-1])\n",
    "    S.add(X)\n",
    "    return S\n",
    "L=30\n",
    "dd = defaultdict(set)\n",
    "dd[1]=set()\n",
    "dd[1].add(tuple([1]))\n",
    "for i in range(1,L+1):\n",
    "    D=dd[i]\n",
    "    for a in D:\n",
    "        X= adis(a)\n",
    "        for y in X:\n",
    "            dd[i+1].add(y)"
   ]
  },
  {
   "cell_type": "code",
   "execution_count": 2,
   "metadata": {
    "collapsed": true
   },
   "outputs": [
    {
     "name": "stdout",
     "output_type": "stream",
     "text": [
      "{(1,)}\n",
      "{(2,), (1, 1)}\n",
      "{(1, 1, 1), (3,), (2, 1)}\n",
      "{(2, 1, 1), (3, 1), (1, 1, 1, 1), (4,), (2, 2)}\n",
      "{(3, 2), (3, 1, 1), (2, 2, 1), (2, 1, 1, 1), (1, 1, 1, 1, 1), (5,), (4, 1)}\n",
      "{(2, 2, 2), (5, 1), (2, 2, 1, 1), (2, 1, 1, 1, 1), (3, 3), (3, 2, 1), (3, 1, 1, 1), (4, 1, 1), (6,), (4, 2), (1, 1, 1, 1, 1, 1)}\n",
      "{(3, 1, 1, 1, 1), (6, 1), (7,), (2, 2, 2, 1), (5, 1, 1), (4, 2, 1), (4, 1, 1, 1), (1, 1, 1, 1, 1, 1, 1), (3, 2, 2), (3, 3, 1), (4, 3), (3, 2, 1, 1), (5, 2), (2, 1, 1, 1, 1, 1), (2, 2, 1, 1, 1)}\n",
      "{(4, 2, 2), (4, 2, 1, 1), (6, 2), (5, 2, 1), (4, 3, 1), (2, 2, 2, 2), (3, 3, 2), (4, 4), (6, 1, 1), (7, 1), (1, 1, 1, 1, 1, 1, 1, 1), (4, 1, 1, 1, 1), (8,), (3, 1, 1, 1, 1, 1), (3, 2, 2, 1), (5, 1, 1, 1), (2, 2, 1, 1, 1, 1), (5, 3), (2, 2, 2, 1, 1), (2, 1, 1, 1, 1, 1, 1), (3, 3, 1, 1), (3, 2, 1, 1, 1)}\n",
      "{(2, 1, 1, 1, 1, 1, 1, 1), (4, 4, 1), (3, 3, 1, 1, 1), (4, 2, 1, 1, 1), (4, 3, 2), (9,), (6, 1, 1, 1), (3, 2, 1, 1, 1, 1), (7, 1, 1), (5, 2, 2), (7, 2), (3, 3, 3), (3, 3, 2, 1), (4, 3, 1, 1), (8, 1), (4, 1, 1, 1, 1, 1), (5, 2, 1, 1), (6, 3), (1, 1, 1, 1, 1, 1, 1, 1, 1), (6, 2, 1), (2, 2, 1, 1, 1, 1, 1), (5, 4), (5, 1, 1, 1, 1), (4, 2, 2, 1), (3, 2, 2, 1, 1), (2, 2, 2, 1, 1, 1), (3, 2, 2, 2), (3, 1, 1, 1, 1, 1, 1), (2, 2, 2, 2, 1), (5, 3, 1)}\n"
     ]
    }
   ],
   "source": [
    "for i in range(1,10):\n",
    "    print(dd[i])"
   ]
  },
  {
   "cell_type": "markdown",
   "metadata": {},
   "source": [
    "分割数あってるか確認, これはdpやるだけ\n",
    "https://drken1215.hatenablog.com/entry/2018/01/16/222843"
   ]
  },
  {
   "cell_type": "code",
   "execution_count": 3,
   "metadata": {},
   "outputs": [],
   "source": [
    "N=100\n",
    "dp=[ [0]*(N+1) for i in range(N+1)]\n",
    "dp[0][0]=1\n",
    "for k in range(1,N+1):\n",
    "    for n in range(N+1):\n",
    "        if n-k>=0:\n",
    "            dp[n][k]=dp[n-k][k]+dp[n][k-1]\n",
    "        else:\n",
    "            dp[n][k]=dp[n][k-1]      \n",
    "for i in range(1,L+1):\n",
    "    if len(dd[i])!=dp[i][i]:\n",
    "        print(i)"
   ]
  },
  {
   "cell_type": "markdown",
   "metadata": {},
   "source": [
    "わかりづらいがあってた.\n",
    "\n",
    "これから$(\\mathbb{P}^n, D)$がいつ$BMY_{n+1}$や$BMY_n$がいつ成り立つか調べる."
   ]
  },
  {
   "cell_type": "code",
   "execution_count": 4,
   "metadata": {},
   "outputs": [],
   "source": [
    "def cr1(n,d):\n",
    "    return n+1-d\n",
    "def cross(a):\n",
    "    if len(a)==0:\n",
    "        return 0\n",
    "    t=0\n",
    "    for i in range(len(a)):\n",
    "        for j in range(i+1, len(a)):\n",
    "            t+=a[i]*a[j]\n",
    "    return t\n",
    "def cr2(n,d,a):\n",
    "    return ((n*(n+1))//2 - d*(n+1) + d*d - cross(a))\n",
    "\n",
    "def bmyr(n,d,a):\n",
    "    s=2*(n+1)*cr2(n,d,a) - n*cr1(n,d)*cr1(n,d)\n",
    "    if s ==0:\n",
    "        return 1\n",
    "    else:\n",
    "        return 0\n",
    "    \n",
    "def bmyr2(n,d,a):\n",
    "    s=2*(n)*cr2(n,d,a) - (n-1)*cr1(n,d)*cr1(n,d)\n",
    "    if s ==0:\n",
    "        return 1\n",
    "    else:\n",
    "        return 0 "
   ]
  },
  {
   "cell_type": "code",
   "execution_count": 5,
   "metadata": {},
   "outputs": [
    {
     "name": "stdout",
     "output_type": "stream",
     "text": [
      "7 4 (2, 1, 1)\n",
      "8 3 (2, 1)\n",
      "8 6 (2, 1, 1, 1, 1)\n",
      "15 8 (2, 2, 1, 1, 1, 1)\n",
      "17 6 (2, 2, 1, 1)\n",
      "17 12 (2, 2, 1, 1, 1, 1, 1, 1, 1, 1)\n",
      "23 12 (3, 1, 1, 1, 1, 1, 1, 1, 1, 1)\n",
      "23 12 (2, 2, 2, 1, 1, 1, 1, 1, 1)\n",
      "24 5 (2, 2, 1)\n",
      "24 10 (3, 1, 1, 1, 1, 1, 1, 1)\n",
      "24 10 (2, 2, 2, 1, 1, 1, 1)\n",
      "24 15 (3, 1, 1, 1, 1, 1, 1, 1, 1, 1, 1, 1, 1)\n",
      "24 15 (2, 2, 2, 1, 1, 1, 1, 1, 1, 1, 1, 1)\n",
      "24 20 (2, 2, 1, 1, 1, 1, 1, 1, 1, 1, 1, 1, 1, 1, 1, 1, 1, 1)\n",
      "26 9 (2, 2, 2, 1, 1, 1)\n",
      "26 9 (3, 1, 1, 1, 1, 1, 1)\n",
      "26 18 (3, 1, 1, 1, 1, 1, 1, 1, 1, 1, 1, 1, 1, 1, 1, 1)\n",
      "26 18 (2, 2, 2, 1, 1, 1, 1, 1, 1, 1, 1, 1, 1, 1, 1)\n",
      "18\n"
     ]
    }
   ],
   "source": [
    "count=0\n",
    "for n in range(L+1):\n",
    "    for d in range(n+1):\n",
    "        for a in dd[d]:\n",
    "            if bmyr(n,d,a):\n",
    "                print(n,d,a)\n",
    "                count+=1\n",
    "print(count)"
   ]
  },
  {
   "cell_type": "markdown",
   "metadata": {},
   "source": [
    "つまり$(n,d,(d_1, \\cdots, d_l))=(7,4,(2,1,1))$などは$BMY_{n+1}$を満たす."
   ]
  },
  {
   "cell_type": "code",
   "execution_count": 7,
   "metadata": {},
   "outputs": [
    {
     "name": "stdout",
     "output_type": "stream",
     "text": [
      "8 5 (2, 1, 1, 1)\n",
      "9 4 (2, 1, 1)\n",
      "9 7 (2, 1, 1, 1, 1, 1)\n",
      "16 9 (2, 2, 1, 1, 1, 1, 1)\n",
      "18 7 (2, 2, 1, 1, 1)\n",
      "18 13 (2, 2, 1, 1, 1, 1, 1, 1, 1, 1, 1)\n",
      "24 13 (2, 2, 2, 1, 1, 1, 1, 1, 1, 1)\n",
      "24 13 (3, 1, 1, 1, 1, 1, 1, 1, 1, 1, 1)\n",
      "25 6 (2, 2, 1, 1)\n",
      "25 11 (2, 2, 2, 1, 1, 1, 1, 1)\n",
      "25 11 (3, 1, 1, 1, 1, 1, 1, 1, 1)\n",
      "25 16 (3, 1, 1, 1, 1, 1, 1, 1, 1, 1, 1, 1, 1, 1)\n",
      "25 16 (2, 2, 2, 1, 1, 1, 1, 1, 1, 1, 1, 1, 1)\n",
      "25 21 (2, 2, 1, 1, 1, 1, 1, 1, 1, 1, 1, 1, 1, 1, 1, 1, 1, 1, 1)\n",
      "27 10 (3, 1, 1, 1, 1, 1, 1, 1)\n",
      "27 10 (2, 2, 2, 1, 1, 1, 1)\n",
      "27 19 (3, 1, 1, 1, 1, 1, 1, 1, 1, 1, 1, 1, 1, 1, 1, 1, 1)\n",
      "27 19 (2, 2, 2, 1, 1, 1, 1, 1, 1, 1, 1, 1, 1, 1, 1, 1)\n",
      "18\n"
     ]
    }
   ],
   "source": [
    "count=0\n",
    "for n in range(L+1):\n",
    "    for d in range(n+1):\n",
    "        for a in dd[d]:\n",
    "            if bmyr2(n,d,a) and len(a)!=1:\n",
    "                print(n,d,a)\n",
    "                count+=1\n",
    "print(count)"
   ]
  },
  {
   "cell_type": "markdown",
   "metadata": {},
   "source": [
    "つまり$(n,d,(d_1, \\cdots, d_l))=(8,5,(2,1,1,1))$などは$BMY_{n}$を満たす."
   ]
  },
  {
   "cell_type": "code",
   "execution_count": null,
   "metadata": {},
   "outputs": [],
   "source": []
  }
 ],
 "metadata": {
  "kernelspec": {
   "display_name": "python 3.6.3",
   "language": "python",
   "name": "python3.6"
  },
  "language_info": {
   "codemirror_mode": {
    "name": "ipython",
    "version": 3
   },
   "file_extension": ".py",
   "mimetype": "text/x-python",
   "name": "python",
   "nbconvert_exporter": "python",
   "pygments_lexer": "ipython3",
   "version": "3.6.3"
  },
  "toc": {
   "base_numbering": 1,
   "nav_menu": {},
   "number_sections": true,
   "sideBar": true,
   "skip_h1_title": false,
   "title_cell": "Table of Contents",
   "title_sidebar": "Contents",
   "toc_cell": false,
   "toc_position": {},
   "toc_section_display": true,
   "toc_window_display": false
  }
 },
 "nbformat": 4,
 "nbformat_minor": 2
}
