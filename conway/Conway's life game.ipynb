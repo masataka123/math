{
 "cells": [
  {
   "cell_type": "code",
   "execution_count": 1,
   "metadata": {},
   "outputs": [],
   "source": [
    "import random\n",
    "from copy import deepcopy\n",
    "import numpy as np\n",
    "import matplotlib.pyplot as plt\n",
    "from matplotlib.animation import ArtistAnimation\n",
    "import matplotlib.animation as animation"
   ]
  },
  {
   "cell_type": "code",
   "execution_count": 63,
   "metadata": {},
   "outputs": [],
   "source": [
    "def check(Mat,i,j):\n",
    "    count =0\n",
    "    for s in range(max(0,i-1),min(N,i+2)):\n",
    "        for t in range(max(0,j-1),min(N,j+2)):\n",
    "            if s==i and t==j:\n",
    "                continue\n",
    "            if Mat[s][t]==0:\n",
    "                count+=1\n",
    "    if Mat[i][j]==1:\n",
    "        if count==3:\n",
    "            return True\n",
    "        return False\n",
    "    if 2<=count<=4:\n",
    "        return True\n",
    "    return False\n",
    "def generation(Mat):\n",
    "    L=[[1]*N for i in range(N)]\n",
    "    for i in range(N):\n",
    "        for j in range(N):\n",
    "            if check(Mat,i,j):\n",
    "                L[i][j]=0\n",
    "    return L"
   ]
  },
  {
   "cell_type": "code",
   "execution_count": 64,
   "metadata": {},
   "outputs": [
    {
     "name": "stderr",
     "output_type": "stream",
     "text": [
      "MovieWriter imagemagick unavailable.\n"
     ]
    },
    {
     "data": {
      "image/png": "[encoded data removed]",
      "text/plain": [
       "<Figure size 432x288 with 1 Axes>"
      ]
     },
     "metadata": {},
     "output_type": "display_data"
    }
   ],
   "source": [
    "N=100\n",
    "#Mat=[[random.randint(0,1) for i in range(N)] for i in range(N)]\n",
    "#Mat=[[np.random.choice([0,1],p=[0.7,0.3]) for i in range(N)] for i in range(N)]\n",
    "Mat=[[1]*N for i in range(N)]\n",
    "for i in range(N):\n",
    "    Mat[0][i]=0\n",
    "fig = plt.figure()   \n",
    "ims=[]\n",
    "process=500\n",
    "for i in range(process):\n",
    "    image=np.array(Mat)*255\n",
    "    image=plt.imshow(image, cmap = 'gray', vmin = 0, vmax = 255, interpolation = 'none')\n",
    "    #plt.show()\n",
    "    ims.append([image]) # グラフを生成\n",
    "    Mat=generation(Mat)\n",
    "\n",
    "ani = animation.ArtistAnimation(fig, ims, interval=50, blit=True,)\n",
    "ani.save('anime_conway_4.gif', writer=\"imagemagick\")"
   ]
  },
  {
   "cell_type": "code",
   "execution_count": null,
   "metadata": {},
   "outputs": [],
   "source": []
  }
 ],
 "metadata": {
  "kernelspec": {
   "display_name": "python 3.6.3",
   "language": "python",
   "name": "python3.6"
  },
  "language_info": {
   "codemirror_mode": {
    "name": "ipython",
    "version": 3
   },
   "file_extension": ".py",
   "mimetype": "text/x-python",
   "name": "python",
   "nbconvert_exporter": "python",
   "pygments_lexer": "ipython3",
   "version": "3.6.3"
  },
  "toc": {
   "base_numbering": 1,
   "nav_menu": {},
   "number_sections": true,
   "sideBar": true,
   "skip_h1_title": false,
   "title_cell": "Table of Contents",
   "title_sidebar": "Contents",
   "toc_cell": false,
   "toc_position": {},
   "toc_section_display": true,
   "toc_window_display": false
  }
 },
 "nbformat": 4,
 "nbformat_minor": 2
}
