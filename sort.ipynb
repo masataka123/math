{
 "cells": [
  {
   "cell_type": "code",
   "execution_count": 1,
   "metadata": {},
   "outputs": [],
   "source": [
    "import random\n",
    "import numpy as np\n",
    "import matplotlib.pyplot as plt\n",
    "import matplotlib.animation as animation\n",
    "import sys\n",
    "sys.setrecursionlimit(10**7)"
   ]
  },
  {
   "cell_type": "code",
   "execution_count": 60,
   "metadata": {},
   "outputs": [],
   "source": [
    "def sort_checker(L):\n",
    "    n=len(L)\n",
    "    for i in range(1,n):\n",
    "        if L[i-1]>L[i]:\n",
    "            return False\n",
    "    return True\n",
    "def swap(L,a,b):\n",
    "    s=L[a]\n",
    "    L[a]=L[b]\n",
    "    L[b]=s\n",
    "    return\n",
    "    \n",
    "def bubble_sort(L):\n",
    "    n=len(L)\n",
    "    for i in range(n):\n",
    "        for j in range(1,n-i):\n",
    "            if L[j-1]>L[j]:\n",
    "                swap(L,j-1,j)\n",
    "    return L\n",
    "\n",
    "def min_index(L,j):\n",
    "    s=10**9\n",
    "    n=j\n",
    "    for i in range(j,len(L)):\n",
    "        if s> L[i]:\n",
    "            s=L[i]\n",
    "            n=i\n",
    "    return n\n",
    "\n",
    "def selection_sort(L):\n",
    "    for i in range(len(L)):\n",
    "        s=min_index(L,i)\n",
    "        swap(L,i,s)\n",
    "    return L\n",
    "\n",
    "def intersection_sort(L):\n",
    "    for i in range(1,len(L)):\n",
    "        for j in range(i,0,-1):\n",
    "            if L[j]<L[j-1]:\n",
    "                swap(L,j,j-1)\n",
    "    return L\n",
    "\n",
    "\n",
    "def merge(L,left,mid,right):\n",
    "    if mid >= right:\n",
    "         return L\n",
    "    M=[0]*(right-left)\n",
    "    i=left\n",
    "    j=mid\n",
    "    s=0\n",
    "    while (i<mid) and (j < right):\n",
    "        if L[i]<=L[j]:\n",
    "            M[s]=L[i]\n",
    "            i+=1\n",
    "        else:\n",
    "            M[s]=L[j]\n",
    "            j+=1\n",
    "        s+=1\n",
    "    if i==mid:\n",
    "        for t in range(j,right):\n",
    "            M[s]=L[t]\n",
    "            s+=1\n",
    "    if j==right:\n",
    "        for t in range(i,mid):\n",
    "            M[s]=L[t]\n",
    "            s+=1\n",
    "    for t in range(left,right):\n",
    "        L[t]=M[t-left]\n",
    "    return L\n",
    "    \n",
    "def merge_sort(L):\n",
    "    n=len(L)\n",
    "    t=1\n",
    "    while 2**t <= n:\n",
    "        left=0\n",
    "        right=2**t\n",
    "        mid=2**(t-1)\n",
    "        while left<n:\n",
    "            L=merge(L,left,mid,right)\n",
    "            left+=2**t\n",
    "            mid+=2**t\n",
    "            right+=2**t\n",
    "            right=min(right,n)\n",
    "        t+=1\n",
    "    merge(L,0,2**(t-1),n)\n",
    "    return L\n",
    "\n",
    "def quick_sort(L,left,right):\n",
    "    #print(L)\n",
    "    if right-left<=1:\n",
    "        return\n",
    "    if right-left==2:\n",
    "        if L[left+1]<L[left]:\n",
    "            swap(L,left,left+1)\n",
    "        return\n",
    "    mid=(right+left)//2\n",
    "    s=L[mid]\n",
    "    i=left\n",
    "    j=right-1\n",
    "    while True:\n",
    "        while L[i]<s:\n",
    "            i+=1\n",
    "        while L[j]>s:\n",
    "            j-=1\n",
    "        if i>=j:\n",
    "            break\n",
    "        swap(L,i,j)\n",
    "        i+=1\n",
    "        j-=1\n",
    "    quick_sort(L,left,i)\n",
    "    quick_sort(L,j+1,right)\n",
    "    return \n",
    "    \n",
    "def digit(a,i):\n",
    "    return (a//2**i)%2\n",
    "def radix_sort(L):\n",
    "    k=len(bin(max(L)))-1\n",
    "    for i in range(k):\n",
    "        A0=[]\n",
    "        A1=[]\n",
    "        for a in L:\n",
    "            if digit(a,i)==0:\n",
    "                A0.append(a)\n",
    "            else:\n",
    "                A1.append(a)\n",
    "        L=A0+A1               \n",
    "    return L\n",
    "        \n",
    "def gravity_sort(L):\n",
    "    k=max(L)\n",
    "    n=len(L)\n",
    "    A=[0]*k\n",
    "    for a in L:\n",
    "        for i in range(a):\n",
    "            A[i]+=1\n",
    "    i=0\n",
    "    while i<n:\n",
    "        s=A[0]\n",
    "        for t in range(k):\n",
    "            if s!=A[t]:\n",
    "                break  \n",
    "            A[t]-=1\n",
    "        L[i]=t+1\n",
    "        i+=1\n",
    "    return L\n",
    "\n",
    "def intersection_sort_alpha(L):\n",
    "    for i in range(1,len(L)):\n",
    "        for j in range(i,0,-1):\n",
    "            if L[j]>=L[j-1]:\n",
    "                break\n",
    "            swap(L,j,j-1)\n",
    "    return L\n",
    "\n",
    "def intersection_sort_beta(L,i,k):\n",
    "    N=len(L)\n",
    "    for j in range(i+k,N,k):\n",
    "        for l in range(j,0,-k):\n",
    "            if L[l]>=L[l-k]:\n",
    "                break\n",
    "            swap(L,l,l-k)\n",
    "    return L\n",
    "\n",
    "def shell_sort(L):\n",
    "    n=len(L)\n",
    "    K=(len(bin(n))-2)-1\n",
    "    for k in range(K-1,-1,-1):#間隔2**k, 個数2**(K-k)\n",
    "        for i in range(2**k):\n",
    "            intersection_sort_beta(L,i,2**k)\n",
    "    return L"
   ]
  },
  {
   "cell_type": "code",
   "execution_count": 56,
   "metadata": {},
   "outputs": [],
   "source": [
    "N=2**14\n",
    "for i in range(100):\n",
    "    L=[random.randint(1,10000)for i in range(N)]\n",
    "    L=shell_sort(L)\n",
    "    if not sort_checker(L):\n",
    "        print(L)\n",
    "        break    "
   ]
  },
  {
   "cell_type": "code",
   "execution_count": 63,
   "metadata": {},
   "outputs": [],
   "source": [
    "def bubble_sort_anime(L):\n",
    "    fig = plt.figure()\n",
    "    ims=[]   \n",
    "    n=len(L)\n",
    "    X=np.arange(1,n+1)\n",
    "    for i in range(n):\n",
    "        for j in range(1,n-i):\n",
    "            if L[j-1]>L[j]:\n",
    "                swap(L,j-1,j)\n",
    "            ##im = plt.plot(np.array(L)) \n",
    "        im = plt.bar(X,np.array(L),color='k') \n",
    "        ims.append(im)\n",
    "    ani = animation.ArtistAnimation(fig, ims, interval=100)\n",
    "    ani.save(\"sort_bubble.gif\", writer=\"imagemagick\")\n",
    "    plt.show()\n",
    "    return L\n",
    "\n",
    "\n",
    "def selection_sort_anime(L):\n",
    "    fig = plt.figure()\n",
    "    ims=[]   \n",
    "    n=len(L)\n",
    "    X=np.arange(1,n+1)\n",
    "    for i in range(len(L)):\n",
    "        s=min_index(L,i)\n",
    "        swap(L,i,s)\n",
    "        im = plt.bar(X,np.array(L),color='k') \n",
    "        ims.append(im)\n",
    "    ani = animation.ArtistAnimation(fig, ims, interval=100)\n",
    "    ani.save(\"sort_selection.gif\", writer=\"imagemagick\")\n",
    "    plt.show()\n",
    "    return L\n",
    "\n",
    "def intersection_sort_anime(L):\n",
    "    fig = plt.figure()\n",
    "    ims=[]   \n",
    "    n=len(L)\n",
    "    X=np.arange(1,n+1)\n",
    "    for i in range(1,len(L)):\n",
    "        for j in range(i,0,-1):\n",
    "            if L[j]<L[j-1]:\n",
    "                swap(L,j,j-1)\n",
    "        im = plt.bar(X,np.array(L),color='k') \n",
    "        ims.append(im)\n",
    "    ani = animation.ArtistAnimation(fig, ims, interval=100)\n",
    "    ani.save(\"sort_intersection.gif\", writer=\"imagemagick\")\n",
    "    plt.show()        \n",
    "    return L\n",
    "  \n",
    "def merge_sort_anime(L):\n",
    "    fig = plt.figure()\n",
    "    ims=[]   \n",
    "    n=len(L)\n",
    "    X=np.arange(1,n+1)\n",
    "    t=1\n",
    "    while 2**t <= n:\n",
    "        left=0\n",
    "        right=2**t\n",
    "        mid=2**(t-1)\n",
    "        while left<n:\n",
    "            L=merge(L,left,mid,right)\n",
    "            left+=2**t\n",
    "            mid+=2**t\n",
    "            right+=2**t\n",
    "            right=min(right,n)\n",
    "            im = plt.bar(X,np.array(L),color='k') \n",
    "            ims.append(im)\n",
    "        t+=1\n",
    "    merge(L,0,2**(t-1),n)\n",
    "    im = plt.bar(X,np.array(L),color='k') \n",
    "    ims.append(im)\n",
    "    ani = animation.ArtistAnimation(fig, ims, interval=100)\n",
    "    ani.save(\"sort_merge.gif\", writer=\"imagemagick\")\n",
    "    plt.show()      \n",
    "    return L \n",
    "\n",
    "def quick_sort_anime(L,left,right):\n",
    "    im = plt.bar(X,np.array(L),color='k') \n",
    "    ims.append(im)\n",
    "    if right-left<=1:\n",
    "        return\n",
    "    if right-left==2:\n",
    "        if L[left+1]<L[left]:\n",
    "            swap(L,left,left+1)\n",
    "        return\n",
    "    mid=(right+left)//2\n",
    "    s=L[mid]\n",
    "    i=left\n",
    "    j=right-1\n",
    "    while True:\n",
    "        while L[i]<s:\n",
    "            i+=1\n",
    "        while L[j]>s:\n",
    "            j-=1\n",
    "        if i>=j:\n",
    "            break\n",
    "        swap(L,i,j)\n",
    "        i+=1\n",
    "        j-=1\n",
    "    quick_sort_anime(L,left,i)\n",
    "    quick_sort_anime(L,j+1,right)\n",
    "    return \n",
    "\n",
    "def radix_sort_anime(L):\n",
    "    fig = plt.figure()\n",
    "    ims=[]   \n",
    "    n=len(L)\n",
    "    X=np.arange(1,n+1)\n",
    "    k=len(bin(max(L)))-1\n",
    "    for i in range(k):\n",
    "        A0=[]\n",
    "        A1=[]\n",
    "        for a in L:\n",
    "            if digit(a,i)==0:\n",
    "                A0.append(a)\n",
    "            else:\n",
    "                A1.append(a)\n",
    "        L=A0+A1      \n",
    "        im = plt.bar(X,np.array(L),color='k') \n",
    "        ims.append(im)\n",
    "    ani = animation.ArtistAnimation(fig, ims, interval=100)\n",
    "    ani.save(\"sort_radix.gif\", writer=\"imagemagick\")\n",
    "    plt.show() \n",
    "    return L\n",
    "\n",
    "def gravity_sort_anime(L):\n",
    "    fig = plt.figure()\n",
    "    ims=[]   \n",
    "    n=len(L)\n",
    "    X=np.arange(1,n+1)\n",
    "    k=max(L)\n",
    "    A=[0]*k\n",
    "    for a in L:\n",
    "        for i in range(a):\n",
    "            A[i]+=1\n",
    "        B=A[::-1]\n",
    "        im = plt.bar(X,np.array(B),color='k') \n",
    "        ims.append(im)\n",
    "    i=0\n",
    "    while i<n:\n",
    "        s=A[0]\n",
    "        for t in range(k):\n",
    "            if s!=A[t]:\n",
    "                break  \n",
    "            A[t]-=1\n",
    "        L[i]=t+1\n",
    "        i+=1\n",
    "    im = plt.bar(X,np.array(L),color='k') \n",
    "    ims.append(im)\n",
    "    ani = animation.ArtistAnimation(fig, ims, interval=100)\n",
    "    ani.save(\"sort_gravity.gif\", writer=\"imagemagick\")\n",
    "    plt.show() \n",
    "    return L\n",
    "\n",
    "def shell_sort_anime(L):\n",
    "    fig = plt.figure()\n",
    "    ims=[]   \n",
    "    n=len(L)\n",
    "    X=np.arange(1,n+1)\n",
    "    K=(len(bin(n))-2)-1\n",
    "    for k in range(K-1,-1,-1):#間隔2**k, 個数2**(K-k)\n",
    "        for i in range(2**k):\n",
    "            intersection_sort_beta(L,i,2**k)\n",
    "            im = plt.bar(X,np.array(L),color='k') \n",
    "            ims.append(im)\n",
    "    ani = animation.ArtistAnimation(fig, ims, interval=100)\n",
    "    ani.save(\"sort_shell.gif\", writer=\"imagemagick\")\n",
    "    plt.show() \n",
    "    return L"
   ]
  },
  {
   "cell_type": "code",
   "execution_count": 64,
   "metadata": {},
   "outputs": [
    {
     "name": "stderr",
     "output_type": "stream",
     "text": [
      "MovieWriter imagemagick unavailable.\n"
     ]
    },
    {
     "data": {
      "image/png": "[encoded data removed]",
      "text/plain": [
       "<Figure size 432x288 with 1 Axes>"
      ]
     },
     "metadata": {},
     "output_type": "display_data"
    },
    {
     "name": "stdout",
     "output_type": "stream",
     "text": [
      "\n"
     ]
    }
   ],
   "source": [
    "N=100\n",
    "L=[i+1 for i in range(N)]\n",
    "random.shuffle(L)\n",
    "shell_sort_anime(L)\n",
    "print()"
   ]
  },
  {
   "cell_type": "code",
   "execution_count": 50,
   "metadata": {
    "scrolled": false
   },
   "outputs": [
    {
     "name": "stderr",
     "output_type": "stream",
     "text": [
      "MovieWriter imagemagick unavailable.\n"
     ]
    },
    {
     "data": {
      "image/png": "[encoded data removed]",
      "text/plain": [
       "<Figure size 432x288 with 1 Axes>"
      ]
     },
     "metadata": {},
     "output_type": "display_data"
    },
    {
     "name": "stdout",
     "output_type": "stream",
     "text": [
      "\n"
     ]
    }
   ],
   "source": [
    "N=100\n",
    "L=[i+1 for i in range(N)]\n",
    "random.shuffle(L)\n",
    "bubble_sort_anime(L)\n",
    "print()"
   ]
  },
  {
   "cell_type": "code",
   "execution_count": 51,
   "metadata": {},
   "outputs": [
    {
     "name": "stderr",
     "output_type": "stream",
     "text": [
      "MovieWriter imagemagick unavailable.\n"
     ]
    },
    {
     "data": {
      "image/png": "[encoded data removed]",
      "text/plain": [
       "<Figure size 432x288 with 1 Axes>"
      ]
     },
     "metadata": {},
     "output_type": "display_data"
    },
    {
     "name": "stdout",
     "output_type": "stream",
     "text": [
      "\n"
     ]
    }
   ],
   "source": [
    "N=100\n",
    "L=[i+1 for i in range(N)]\n",
    "random.shuffle(L)\n",
    "selection_sort_anime(L)\n",
    "print()"
   ]
  },
  {
   "cell_type": "code",
   "execution_count": 52,
   "metadata": {},
   "outputs": [
    {
     "name": "stderr",
     "output_type": "stream",
     "text": [
      "MovieWriter imagemagick unavailable.\n"
     ]
    },
    {
     "data": {
      "image/png": "[encoded data removed]",
      "text/plain": [
       "<Figure size 432x288 with 1 Axes>"
      ]
     },
     "metadata": {},
     "output_type": "display_data"
    },
    {
     "name": "stdout",
     "output_type": "stream",
     "text": [
      "\n"
     ]
    }
   ],
   "source": [
    "N=100\n",
    "L=[i+1 for i in range(N)]\n",
    "random.shuffle(L)\n",
    "intersection_sort_anime(L)\n",
    "print()"
   ]
  },
  {
   "cell_type": "code",
   "execution_count": 53,
   "metadata": {},
   "outputs": [
    {
     "name": "stderr",
     "output_type": "stream",
     "text": [
      "MovieWriter imagemagick unavailable.\n"
     ]
    },
    {
     "data": {
      "image/png": "[encoded data removed]",
      "text/plain": [
       "<Figure size 432x288 with 1 Axes>"
      ]
     },
     "metadata": {},
     "output_type": "display_data"
    },
    {
     "name": "stdout",
     "output_type": "stream",
     "text": [
      "\n"
     ]
    }
   ],
   "source": [
    "N=100\n",
    "L=[i+1 for i in range(N)]\n",
    "random.shuffle(L)\n",
    "merge_sort_anime(L)\n",
    "print()"
   ]
  },
  {
   "cell_type": "code",
   "execution_count": 54,
   "metadata": {},
   "outputs": [
    {
     "name": "stderr",
     "output_type": "stream",
     "text": [
      "MovieWriter imagemagick unavailable.\n"
     ]
    },
    {
     "data": {
      "image/png": "[encoded data removed]",
      "text/plain": [
       "<Figure size 432x288 with 1 Axes>"
      ]
     },
     "metadata": {},
     "output_type": "display_data"
    }
   ],
   "source": [
    "N=100\n",
    "L=[i+1 for i in range(N)]\n",
    "random.shuffle(L)\n",
    "fig = plt.figure()\n",
    "ims=[]   \n",
    "X=np.arange(1,N+1)\n",
    "quick_sort_anime(L,0,N)\n",
    "ani = animation.ArtistAnimation(fig, ims, interval=100)\n",
    "ani.save(\"sort_quick.gif\", writer=\"imagemagick\")\n",
    "plt.show() "
   ]
  },
  {
   "cell_type": "code",
   "execution_count": 5,
   "metadata": {},
   "outputs": [
    {
     "name": "stderr",
     "output_type": "stream",
     "text": [
      "MovieWriter imagemagick unavailable.\n"
     ]
    },
    {
     "data": {
      "image/png": "[encoded data removed]",
      "text/plain": [
       "<Figure size 432x288 with 1 Axes>"
      ]
     },
     "metadata": {},
     "output_type": "display_data"
    },
    {
     "name": "stdout",
     "output_type": "stream",
     "text": [
      "\n"
     ]
    }
   ],
   "source": [
    "N=1000\n",
    "L=[i+1 for i in range(N)]\n",
    "random.shuffle(L)\n",
    "radix_sort_anime(L)\n",
    "print()"
   ]
  },
  {
   "cell_type": "code",
   "execution_count": 33,
   "metadata": {},
   "outputs": [
    {
     "name": "stderr",
     "output_type": "stream",
     "text": [
      "MovieWriter imagemagick unavailable.\n"
     ]
    },
    {
     "data": {
      "image/png": "[encoded data removed]",
      "text/plain": [
       "<Figure size 432x288 with 1 Axes>"
      ]
     },
     "metadata": {},
     "output_type": "display_data"
    },
    {
     "name": "stdout",
     "output_type": "stream",
     "text": [
      "\n"
     ]
    }
   ],
   "source": [
    "N=100\n",
    "L=[i+1 for i in range(N)]\n",
    "random.shuffle(L)\n",
    "gravity_sort_anime(L)\n",
    "print()"
   ]
  }
 ],
 "metadata": {
  "kernelspec": {
   "display_name": "python 3.6.3",
   "language": "python",
   "name": "python3.6"
  },
  "language_info": {
   "codemirror_mode": {
    "name": "ipython",
    "version": 3
   },
   "file_extension": ".py",
   "mimetype": "text/x-python",
   "name": "python",
   "nbconvert_exporter": "python",
   "pygments_lexer": "ipython3",
   "version": "3.6.3"
  },
  "toc": {
   "base_numbering": 1,
   "nav_menu": {},
   "number_sections": true,
   "sideBar": true,
   "skip_h1_title": false,
   "title_cell": "Table of Contents",
   "title_sidebar": "Contents",
   "toc_cell": false,
   "toc_position": {},
   "toc_section_display": true,
   "toc_window_display": false
  }
 },
 "nbformat": 4,
 "nbformat_minor": 2
}
