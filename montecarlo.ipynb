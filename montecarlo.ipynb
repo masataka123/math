{
 "cells": [
  {
   "cell_type": "markdown",
   "metadata": {},
   "source": [
    "https://www.youtube.com/watch?v=_suZM2y9wyA"
   ]
  },
  {
   "cell_type": "code",
   "execution_count": 176,
   "metadata": {},
   "outputs": [],
   "source": [
    "from collections import deque\n",
    "import random"
   ]
  },
  {
   "cell_type": "code",
   "execution_count": 177,
   "metadata": {},
   "outputs": [],
   "source": [
    "def casino(n):\n",
    "    if n==1:\n",
    "        s=18/37\n",
    "    if n==2:\n",
    "        s=18/38\n",
    "    t=random.uniform(0,1)\n",
    "    if t<=s:\n",
    "        return 1\n",
    "    else:\n",
    "        return 0"
   ]
  },
  {
   "cell_type": "code",
   "execution_count": 178,
   "metadata": {},
   "outputs": [],
   "source": [
    "def monte(rou,Money,times):\n",
    "    Note=[1,2,3]\n",
    "    H=deque(Note)\n",
    "    T=Money\n",
    "    n=0\n",
    "    #while n<times:\n",
    "    while T>0 and n<times:#len(H)>1 and \n",
    "        if len(H)<=1:\n",
    "            H=deque(Note)\n",
    "        n+=1\n",
    "        x=H[0]+H[-1]\n",
    "        T=T-x\n",
    "        s=casino(rou)\n",
    "        if s==1:\n",
    "            H.popleft()\n",
    "            H.pop()\n",
    "            T+=2*x\n",
    "        elif s==0:\n",
    "            H.append(x)\n",
    "    K=T-Money\n",
    "    if T<=0:\n",
    "        return K,0.5\n",
    "    elif T<Money:\n",
    "        return K,0\n",
    "    else:\n",
    "        return K,1"
   ]
  },
  {
   "cell_type": "code",
   "execution_count": 182,
   "metadata": {},
   "outputs": [],
   "source": [
    "def monte_limit(rou,Money,times):\n",
    "    Note=[1,2,3]\n",
    "    H=deque(Note)\n",
    "    T=Money\n",
    "    n=0\n",
    "    #while n<times:\n",
    "    while T>0 and n<times:\n",
    "        if len(H)<=1:\n",
    "            if n<times/3:\n",
    "                H=deque(Note)\n",
    "            else:\n",
    "                break\n",
    "        n+=1\n",
    "        x=H[0]+H[-1]\n",
    "        T=T-x\n",
    "        s=casino(rou)\n",
    "        if s==1:\n",
    "            H.popleft()\n",
    "            H.pop()\n",
    "            T+=2*x\n",
    "        elif s==0:\n",
    "            H.append(x)\n",
    "    K=T-Money\n",
    "    if T<=0:\n",
    "        return K,0.5\n",
    "    elif T<Money:\n",
    "        return K,0\n",
    "    else:\n",
    "        return K,1"
   ]
  },
  {
   "cell_type": "code",
   "execution_count": 183,
   "metadata": {},
   "outputs": [],
   "source": [
    "def mart(rou,Money,times):\n",
    "    T=Money\n",
    "    n=0\n",
    "    x=1\n",
    "    #while n<times:\n",
    "    while T>0 and n<times:\n",
    "        n+=1\n",
    "        T=T-x\n",
    "        s=casino(rou)\n",
    "        if s==1:\n",
    "            T+=2*x\n",
    "            x=1\n",
    "        elif s==0:\n",
    "            x=2*x\n",
    "    K=T-Money\n",
    "    if T<=0:\n",
    "        return K,0.5\n",
    "    elif T<Money:\n",
    "        return K,0\n",
    "    else:\n",
    "        return K,1"
   ]
  },
  {
   "cell_type": "code",
   "execution_count": 184,
   "metadata": {},
   "outputs": [],
   "source": [
    "def mart_limit(rou,Money,times,limit):\n",
    "    T=Money\n",
    "    n=0\n",
    "    x=1\n",
    "    #while n<times:\n",
    "    while T>0 and n<times:\n",
    "        n+=1\n",
    "        x=min(limit,x)\n",
    "        T=T-x\n",
    "        s=casino(rou)\n",
    "        if s==1:\n",
    "            T+=2*x\n",
    "            x=1\n",
    "        elif s==0:\n",
    "            x=2*x\n",
    "    K=T-Money\n",
    "    if T<=0:\n",
    "        return K,0.5\n",
    "    elif T<Money:\n",
    "        return K,0\n",
    "    else:\n",
    "        return K,1"
   ]
  },
  {
   "cell_type": "code",
   "execution_count": 190,
   "metadata": {},
   "outputs": [],
   "source": [
    "rou=1\n",
    "Money=1000\n",
    "times=300"
   ]
  },
  {
   "cell_type": "code",
   "execution_count": 191,
   "metadata": {},
   "outputs": [
    {
     "name": "stdout",
     "output_type": "stream",
     "text": [
      "0.7349 -107.6571\n",
      "0.8261 -52.9712\n",
      "0.893 -46.7418\n",
      "0.8932 -42.9388\n"
     ]
    }
   ],
   "source": [
    "trying=10000\n",
    "win=0\n",
    "ev=0\n",
    "winmoney=0\n",
    "for i in range(trying):\n",
    "    K,u=monte(rou,Money,times)\n",
    "    ev+=K\n",
    "    win+=int(u)\n",
    "    if int(u)==1:\n",
    "        winmoney+=K\n",
    "print(win/trying, ev/trying)\n",
    "\n",
    "win=0\n",
    "ev=0\n",
    "winmoney=0\n",
    "for i in range(trying):\n",
    "    K,u=monte_limit(rou,Money,times)\n",
    "    ev+=K\n",
    "    win+=int(u)\n",
    "    if int(u)==1:\n",
    "        winmoney+=K\n",
    "print(win/trying, ev/trying)\n",
    "\n",
    "win=0\n",
    "ev=0\n",
    "winmoney=0\n",
    "for i in range(trying):\n",
    "    K,u=mart(rou,Money,times)\n",
    "    ev+=K\n",
    "    win+=int(u)\n",
    "    if int(u)==1:\n",
    "        winmoney+=K\n",
    "print(win/trying, ev/trying)\n",
    "\n",
    "win=0\n",
    "ev=0\n",
    "limit=1000\n",
    "winmoney=0\n",
    "for i in range(trying):\n",
    "    K,u=mart_limit(rou,Money,times,limit)\n",
    "    ev+=K\n",
    "    win+=int(u)\n",
    "    if int(u)==1:\n",
    "        winmoney+=K\n",
    "print(win/trying, ev/trying)"
   ]
  },
  {
   "cell_type": "code",
   "execution_count": 192,
   "metadata": {},
   "outputs": [],
   "source": [
    "rou=2\n",
    "Money=1000\n",
    "times=300"
   ]
  },
  {
   "cell_type": "code",
   "execution_count": 193,
   "metadata": {},
   "outputs": [
    {
     "name": "stdout",
     "output_type": "stream",
     "text": [
      "0.6235 -242.5311\n",
      "0.775 -98.4632\n",
      "0.8626 -107.3696\n",
      "0.8644 -100.6291\n"
     ]
    }
   ],
   "source": [
    "trying=10000\n",
    "win=0\n",
    "ev=0\n",
    "winmoney=0\n",
    "for i in range(trying):\n",
    "    K,u=monte(rou,Money,times)\n",
    "    ev+=K\n",
    "    win+=int(u)\n",
    "    if int(u)==1:\n",
    "        winmoney+=K\n",
    "print(win/trying, ev/trying)\n",
    "\n",
    "win=0\n",
    "ev=0\n",
    "winmoney=0\n",
    "for i in range(trying):\n",
    "    K,u=monte_limit(rou,Money,times)\n",
    "    ev+=K\n",
    "    win+=int(u)\n",
    "    if int(u)==1:\n",
    "        winmoney+=K\n",
    "print(win/trying, ev/trying)\n",
    "\n",
    "win=0\n",
    "ev=0\n",
    "winmoney=0\n",
    "for i in range(trying):\n",
    "    K,u=mart(rou,Money,times)\n",
    "    ev+=K\n",
    "    win+=int(u)\n",
    "    if int(u)==1:\n",
    "        winmoney+=K\n",
    "print(win/trying, ev/trying)\n",
    "\n",
    "win=0\n",
    "ev=0\n",
    "limit=1000\n",
    "winmoney=0\n",
    "for i in range(trying):\n",
    "    K,u=mart_limit(rou,Money,times,limit)\n",
    "    ev+=K\n",
    "    win+=int(u)\n",
    "    if int(u)==1:\n",
    "        winmoney+=K\n",
    "print(win/trying, ev/trying)"
   ]
  },
  {
   "cell_type": "code",
   "execution_count": null,
   "metadata": {},
   "outputs": [],
   "source": []
  }
 ],
 "metadata": {
  "kernelspec": {
   "display_name": "python 3.6.3",
   "language": "python",
   "name": "python3.6"
  },
  "language_info": {
   "codemirror_mode": {
    "name": "ipython",
    "version": 3
   },
   "file_extension": ".py",
   "mimetype": "text/x-python",
   "name": "python",
   "nbconvert_exporter": "python",
   "pygments_lexer": "ipython3",
   "version": "3.6.3"
  },
  "toc": {
   "base_numbering": 1,
   "nav_menu": {},
   "number_sections": true,
   "sideBar": true,
   "skip_h1_title": false,
   "title_cell": "Table of Contents",
   "title_sidebar": "Contents",
   "toc_cell": false,
   "toc_position": {},
   "toc_section_display": true,
   "toc_window_display": false
  }
 },
 "nbformat": 4,
 "nbformat_minor": 2
}
