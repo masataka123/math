{
 "cells": [
  {
   "cell_type": "code",
   "execution_count": 7,
   "metadata": {},
   "outputs": [],
   "source": [
    "from sympy import *"
   ]
  },
  {
   "cell_type": "code",
   "execution_count": 8,
   "metadata": {},
   "outputs": [],
   "source": [
    "x=Symbol('x')\n",
    "y=Symbol('y')\n",
    "s=Symbol('s')\n",
    "t=Symbol('t')\n",
    "a0,a1,a2=symbols('a0:3')\n",
    "b0,b1,b2=symbols('b0:3')\n",
    "def f(x):\n",
    "    return a0+a1*x+a2*(x**2)\n",
    "def g(x):\n",
    "    return b0+b1*x+b2*(x**2)\n"
   ]
  },
  {
   "cell_type": "code",
   "execution_count": 11,
   "metadata": {},
   "outputs": [],
   "source": [
    "def rela(s,t,alpha,beta):\n",
    "    X=s+alpha\n",
    "    Y=s*t+beta\n",
    "    L1=-f(X)*t+g(Y)\n",
    "    f1=div(L1,s,s)[1]\n",
    "    return [f1]"
   ]
  },
  {
   "cell_type": "code",
   "execution_count": 12,
   "metadata": {},
   "outputs": [
    {
     "data": {
      "text/plain": [
       "[-a0, b0, -a0 - a1 - a2, b0 + b1 + b2]"
      ]
     },
     "execution_count": 12,
     "metadata": {},
     "output_type": "execute_result"
    }
   ],
   "source": [
    "linear=[]\n",
    "blow0=rela(s,t,0,0)\n",
    "for k in range(1):\n",
    "    po=Poly(blow0[k],s,t)\n",
    "    linear+=po.coeffs()\n",
    "    \n",
    "blow1=rela(s,t,1,1)\n",
    "for k in range(1):\n",
    "    po=Poly(blow1[k],s,t)\n",
    "    linear+=po.coeffs()\n",
    "\n",
    "linear"
   ]
  },
  {
   "cell_type": "code",
   "execution_count": 13,
   "metadata": {},
   "outputs": [],
   "source": [
    "calculate=solve(linear,\n",
    "[a0,a1,a2,b0,b1,b2])"
   ]
  },
  {
   "cell_type": "code",
   "execution_count": 14,
   "metadata": {},
   "outputs": [
    {
     "data": {
      "text/plain": [
       "{b1: -b2, a2: -a1, b0: 0, a0: 0}"
      ]
     },
     "execution_count": 14,
     "metadata": {},
     "output_type": "execute_result"
    }
   ],
   "source": [
    "calculate"
   ]
  },
  {
   "cell_type": "code",
   "execution_count": 15,
   "metadata": {},
   "outputs": [
    {
     "data": {
      "text/plain": [
       "-a1*x**2 + a1*x"
      ]
     },
     "execution_count": 15,
     "metadata": {},
     "output_type": "execute_result"
    }
   ],
   "source": [
    "f(x).subs(calculate)"
   ]
  },
  {
   "cell_type": "code",
   "execution_count": 17,
   "metadata": {},
   "outputs": [
    {
     "data": {
      "text/plain": [
       "b2*y**2 - b2*y"
      ]
     },
     "execution_count": 17,
     "metadata": {},
     "output_type": "execute_result"
    }
   ],
   "source": [
    "g(y).subs(calculate)"
   ]
  },
  {
   "cell_type": "code",
   "execution_count": 18,
   "metadata": {},
   "outputs": [
    {
     "data": {
      "text/plain": [
       "[-a0, b0, -a0 - a1 - a2, b0 + b1 + b2, -a0 + a1 - a2, b0 - b1 + b2]"
      ]
     },
     "execution_count": 18,
     "metadata": {},
     "output_type": "execute_result"
    }
   ],
   "source": [
    "linear=[]\n",
    "blow0=rela(s,t,0,0)\n",
    "for k in range(1):\n",
    "    po=Poly(blow0[k],s,t)\n",
    "    linear+=po.coeffs()\n",
    "    \n",
    "blow1=rela(s,t,1,1)\n",
    "for k in range(1):\n",
    "    po=Poly(blow1[k],s,t)\n",
    "    linear+=po.coeffs()\n",
    "blow1=rela(s,t,-1,-1)\n",
    "for k in range(1):\n",
    "    po=Poly(blow1[k],s,t)\n",
    "    linear+=po.coeffs()\n",
    "\n",
    "\n",
    "\n",
    "linear"
   ]
  },
  {
   "cell_type": "code",
   "execution_count": 19,
   "metadata": {},
   "outputs": [],
   "source": [
    "calculate=solve(linear,\n",
    "[a0,a1,a2,b0,b1,b2])"
   ]
  },
  {
   "cell_type": "code",
   "execution_count": 20,
   "metadata": {},
   "outputs": [
    {
     "data": {
      "text/plain": [
       "{b2: 0, a1: 0, b1: 0, a2: 0, b0: 0, a0: 0}"
      ]
     },
     "execution_count": 20,
     "metadata": {},
     "output_type": "execute_result"
    }
   ],
   "source": [
    "calculate"
   ]
  },
  {
   "cell_type": "code",
   "execution_count": null,
   "metadata": {},
   "outputs": [],
   "source": []
  }
 ],
 "metadata": {
  "kernelspec": {
   "display_name": "python 3.6.3",
   "language": "python",
   "name": "python3.6"
  },
  "language_info": {
   "codemirror_mode": {
    "name": "ipython",
    "version": 3
   },
   "file_extension": ".py",
   "mimetype": "text/x-python",
   "name": "python",
   "nbconvert_exporter": "python",
   "pygments_lexer": "ipython3",
   "version": "3.6.3"
  },
  "toc": {
   "base_numbering": 1,
   "nav_menu": {},
   "number_sections": true,
   "sideBar": true,
   "skip_h1_title": false,
   "title_cell": "Table of Contents",
   "title_sidebar": "Contents",
   "toc_cell": false,
   "toc_position": {},
   "toc_section_display": true,
   "toc_window_display": false
  }
 },
 "nbformat": 4,
 "nbformat_minor": 2
}
