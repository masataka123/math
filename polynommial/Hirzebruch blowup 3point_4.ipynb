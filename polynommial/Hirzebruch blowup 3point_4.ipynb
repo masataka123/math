{
 "cells": [
  {
   "cell_type": "markdown",
   "metadata": {},
   "source": [
    "Hilzebruch surface $\\mathbb{F}_m$ の3点blowupについて\n",
    "(2点の時とほぼ同じ)"
   ]
  },
  {
   "cell_type": "code",
   "execution_count": 14,
   "metadata": {},
   "outputs": [],
   "source": [
    "from sympy import *"
   ]
  },
  {
   "cell_type": "markdown",
   "metadata": {},
   "source": [
    "$m=0$の時"
   ]
  },
  {
   "cell_type": "code",
   "execution_count": 15,
   "metadata": {},
   "outputs": [],
   "source": [
    "x=Symbol('x')\n",
    "y=Symbol('y')\n",
    "s=Symbol('s')\n",
    "t=Symbol('t')\n",
    "a0,a1,a2,a3,a4=symbols('a0:5')\n",
    "b0,b1,b2,b3,b4,b5,b6,b7,b8=symbols('b0:9')\n",
    "c0,c1,c2,c3,c4=symbols('c0:5')\n",
    "def f(x):\n",
    "    return a0+a1*x+a2*(x**2)+a3*(x**3)+a4*(x**4)\n",
    "def g(x,y):\n",
    "    return b0+b1*x+b2*(x**2)+b3*y+b4*x*y+b5*(x**2)*y+b6*(y**2)+b7*x*(y**2)+b8*(x**2)*y**2\n",
    "def h(x):\n",
    "    return c0+c1*x+c2*(x**2)+c3*(x**3)+c4*(x**4)"
   ]
  },
  {
   "cell_type": "markdown",
   "metadata": {},
   "source": [
    "ブローアップ"
   ]
  },
  {
   "cell_type": "code",
   "execution_count": 16,
   "metadata": {},
   "outputs": [],
   "source": [
    "def rela(s,t,alpha,beta):\n",
    "    X=s+alpha\n",
    "    Y=s*t+beta\n",
    "    L1=-2*f(X)*t+g(X,Y)\n",
    "    L2=f(X)*(t**2)-g(X,Y)*t+h(Y)\n",
    "    f1=div(L1,s,s)[1]\n",
    "    f2=div(L2,s**2,s)[1]\n",
    "    return f1,f2"
   ]
  },
  {
   "cell_type": "markdown",
   "metadata": {},
   "source": [
    "3点ブローアップする"
   ]
  },
  {
   "cell_type": "code",
   "execution_count": 17,
   "metadata": {},
   "outputs": [
    {
     "data": {
      "text/plain": [
       "[-2*a0,\n",
       " b0,\n",
       " a1 - b3,\n",
       " -b1 + c1,\n",
       " a0,\n",
       " -b0,\n",
       " c0,\n",
       " -2*a0 - 2*a1 - 2*a2 - 2*a3 - 2*a4,\n",
       " b0 + b1 + b2 + b3 + b4 + b5 + b6 + b7 + b8,\n",
       " a1 + 2*a2 + 3*a3 + 4*a4 - b3 - b4 - b5 - 2*b6 - 2*b7 - 2*b8,\n",
       " -b1 - 2*b2 - b4 - 2*b5 - b7 - 2*b8 + c1 + 2*c2 + 3*c3 + 4*c4,\n",
       " a0 + a1 + a2 + a3 + a4,\n",
       " -b0 - b1 - b2 - b3 - b4 - b5 - b6 - b7 - b8,\n",
       " c0 + c1 + c2 + c3 + c4,\n",
       " -2*a0 + 2*a1 - 2*a2 + 2*a3 - 2*a4,\n",
       " b0 - b1 + b2 - b3 + b4 - b5 + b6 - b7 + b8,\n",
       " a1 - 2*a2 + 3*a3 - 4*a4 - b3 + b4 - b5 + 2*b6 - 2*b7 + 2*b8,\n",
       " -b1 + 2*b2 + b4 - 2*b5 - b7 + 2*b8 + c1 - 2*c2 + 3*c3 - 4*c4,\n",
       " a0 - a1 + a2 - a3 + a4,\n",
       " -b0 + b1 - b2 + b3 - b4 + b5 - b6 + b7 - b8,\n",
       " c0 - c1 + c2 - c3 + c4]"
      ]
     },
     "execution_count": 17,
     "metadata": {},
     "output_type": "execute_result"
    }
   ],
   "source": [
    "linear=[]\n",
    "blow0=rela(s,t,0,0)\n",
    "for k in range(2):\n",
    "    po=Poly(blow0[k],s,t)\n",
    "    linear+=po.coeffs()\n",
    "    \n",
    "blow1=rela(s,t,1,1)\n",
    "for k in range(2):\n",
    "    po=Poly(blow1[k],s,t)\n",
    "    linear+=po.coeffs()\n",
    "    \n",
    "blow2=rela(s,t,-1,-1)\n",
    "for k in range(2):\n",
    "    po=Poly(blow2[k],s,t)\n",
    "    linear+=po.coeffs()\n",
    "linear"
   ]
  },
  {
   "cell_type": "code",
   "execution_count": 18,
   "metadata": {},
   "outputs": [
    {
     "data": {
      "text/plain": [
       "{c2: -c4,\n",
       " b6: -b4/2 - c4,\n",
       " b8: a4 + c4,\n",
       " b5: -b7/2 + 3*c3/2,\n",
       " c1: -c3,\n",
       " b3: -b7/2 - c3/2,\n",
       " a3: b7/2 + c3/2,\n",
       " b2: -a4 - b4/2,\n",
       " a2: -a4,\n",
       " c0: 0,\n",
       " b1: -c3,\n",
       " a1: -b7/2 - c3/2,\n",
       " b0: 0,\n",
       " a0: 0}"
      ]
     },
     "execution_count": 18,
     "metadata": {},
     "output_type": "execute_result"
    }
   ],
   "source": [
    "calculate=solve(linear,\n",
    "[a0,a1,a2,a3,a4,b0,b1,b2,b3,b4,b5,b6,b7,b8,c0,c1,c2,c3,c4])\n",
    "calculate"
   ]
  },
  {
   "cell_type": "code",
   "execution_count": 19,
   "metadata": {},
   "outputs": [
    {
     "name": "stdout",
     "output_type": "stream",
     "text": [
      "a4*x**4 - a4*x**2 + x**3*(b7/2 + c3/2) + x*(-b7/2 - c3/2)\n",
      "b4*x*y + b7*x*y**2 - c3*x + x**2*y**2*(a4 + c4) + x**2*y*(-b7/2 + 3*c3/2) + x**2*(-a4 - b4/2) + y**2*(-b4/2 - c4) + y*(-b7/2 - c3/2)\n",
      "c3*y**3 - c3*y + c4*y**4 - c4*y**2\n"
     ]
    }
   ],
   "source": [
    "ex1=f(x).subs(calculate)\n",
    "ex2=g(x,y).subs(calculate)\n",
    "ex3=h(y).subs(calculate)\n",
    "print(ex1)\n",
    "print(ex2)\n",
    "print(ex3)"
   ]
  },
  {
   "cell_type": "code",
   "execution_count": 20,
   "metadata": {},
   "outputs": [
    {
     "name": "stdout",
     "output_type": "stream",
     "text": [
      "0\n",
      "x**2*y**2 - y**2\n",
      "y**4 - y**2\n"
     ]
    }
   ],
   "source": [
    "print(ex1.subs(  [(a4,0),(b4,0),(b7,0),(c3,0),(c4,1)]  ))\n",
    "print(ex2.subs(  [(a4,0),(b4,0),(b7,0),(c3,0),(c4,1)]  ))\n",
    "print(ex3.subs(  [(a4,0),(b4,0),(b7,0),(c3,0),(c4,1)]  ))"
   ]
  },
  {
   "cell_type": "code",
   "execution_count": 21,
   "metadata": {},
   "outputs": [
    {
     "name": "stdout",
     "output_type": "stream",
     "text": [
      "x**4 - x**2\n",
      "x**2*y**2 - x**2\n",
      "0\n"
     ]
    }
   ],
   "source": [
    "print(ex1.subs(  [(a4,1),(b4,0),(b7,0),(c3,0),(c4,0)]  ))\n",
    "print(ex2.subs(  [(a4,1),(b4,0),(b7,0),(c3,0),(c4,0)]  ))\n",
    "print(ex3.subs(  [(a4,1),(b4,0),(b7,0),(c3,0),(c4,0)]  ))"
   ]
  },
  {
   "cell_type": "code",
   "execution_count": 22,
   "metadata": {},
   "outputs": [
    {
     "name": "stdout",
     "output_type": "stream",
     "text": [
      "0\n",
      "x**2 - 2*x*y + y**2\n",
      "0\n"
     ]
    }
   ],
   "source": [
    "print(ex1.subs(  [(a4,0),(b4,-2),(b7,0),(c3,0),(c4,0)]  ))\n",
    "print(ex2.subs(  [(a4,0),(b4,-2),(b7,0),(c3,0),(c4,0)]  ))\n",
    "print(ex3.subs(  [(a4,0),(b4,-2),(b7,0),(c3,0),(c4,0)]  ))"
   ]
  },
  {
   "cell_type": "markdown",
   "metadata": {},
   "source": [
    "basisになるか確認"
   ]
  },
  {
   "cell_type": "code",
   "execution_count": 23,
   "metadata": {},
   "outputs": [],
   "source": [
    "A=Matrix([ [0,x**2*y**2 - y**2,y**4 - y**2],\n",
    "         [x**4 - x**2,x**2*y**2 - x**2,0],\n",
    "          [0,x**2 - 2*x*y + y**2,0]])"
   ]
  },
  {
   "cell_type": "code",
   "execution_count": 24,
   "metadata": {},
   "outputs": [
    {
     "data": {
      "text/plain": [
       "x**2*y**2*(x**2 - 1)*(y**2 - 1)*(x**2 - 2*x*y + y**2)"
      ]
     },
     "execution_count": 24,
     "metadata": {},
     "output_type": "execute_result"
    }
   ],
   "source": [
    "simplify(A.det())"
   ]
  },
  {
   "cell_type": "code",
   "execution_count": 25,
   "metadata": {},
   "outputs": [
    {
     "data": {
      "text/plain": [
       "[(-1, y), (0, y), (1, y), (x, -1), (x, 0), (x, 1), (y, y)]"
      ]
     },
     "execution_count": 25,
     "metadata": {},
     "output_type": "execute_result"
    }
   ],
   "source": [
    "solve(simplify(A.det()),[x,y])"
   ]
  },
  {
   "cell_type": "markdown",
   "metadata": {},
   "source": [
    "m=1の時"
   ]
  },
  {
   "cell_type": "code",
   "execution_count": 34,
   "metadata": {},
   "outputs": [],
   "source": [
    "x=Symbol('x')\n",
    "y=Symbol('y')\n",
    "s=Symbol('s')\n",
    "t=Symbol('t')\n",
    "#m=Symbol('m')\n",
    "m=1\n",
    "a0,a1,a2,a3,a4=symbols('a0:5')\n",
    "b0,b1,b2,b3,b4,b5,b6=symbols('b0:7')\n",
    "c0,c1,c2,c3,c4,c5,c6,c7=symbols('c0:8')\n",
    "def f(x):\n",
    "    return a0+a1*x+a2*(x**2)+a3*(x**3)+a4*(x**4)\n",
    "def g(x,y):\n",
    "    return (b0+b1*x+b2*(x**2)-2*m*a4*(x**3))*y+(b3+b4*x+b5*(x**2)+b6*(x**3) )*(y**2) \n",
    "def h(x,y):\n",
    "    return (c0-(m*b2+m*m*a3)*x+m*m*a4*(x**2))*(y**2)+(c1+c2*x-b6*(x**2))*(y**3)+(c3+c4*x+c5*(x**2)+c6*(x**3)+c7*(x**4))*(y**4)"
   ]
  },
  {
   "cell_type": "code",
   "execution_count": 35,
   "metadata": {},
   "outputs": [],
   "source": [
    "def rela(s,t,alpha,beta):\n",
    "    X=s+alpha\n",
    "    Y=s*t+beta\n",
    "    L1=-2*f(X)*t+g(X,Y)\n",
    "    L2=f(X)*(t**2)-g(X,Y)*t+h(X,Y)\n",
    "    f1=div(L1,s,s)[1]\n",
    "    f2=div(L2,s**2,s)[1]\n",
    "    return f1,f2"
   ]
  },
  {
   "cell_type": "code",
   "execution_count": 36,
   "metadata": {},
   "outputs": [
    {
     "data": {
      "text/plain": [
       "[-2*a0,\n",
       " b0 + b3,\n",
       " a1 - b0 - 2*b3,\n",
       " -b1 - b4 + 2*c0 + 3*c1 + 4*c3,\n",
       " -a3 - b2 + c2 + c4,\n",
       " a0,\n",
       " -b0 - b3,\n",
       " c0 + c1 + c3,\n",
       " -2*a0 - 2*a1 - 2*a2 - 2*a3 - 2*a4,\n",
       " -2*a4 + b0 + b1 + b2 + b3 + b4 + b5 + b6,\n",
       " a1 + 2*a2 + 3*a3 + 6*a4 - b0 - b1 - b2 - 2*b3 - 2*b4 - 2*b5 - 2*b6,\n",
       " -2*a3 + 8*a4 - b1 - 4*b2 - b4 - 2*b5 - 6*b6 + 2*c0 + 3*c1 + 3*c2 + 4*c3 + 4*c4 + 4*c5 + 4*c6 + 4*c7,\n",
       " -a3 + 2*a4 - b2 - 2*b6 + c2 + c4 + 2*c5 + 3*c6 + 4*c7,\n",
       " a0 + a1 + a2 + a3 + a4,\n",
       " 2*a4 - b0 - b1 - b2 - b3 - b4 - b5 - b6,\n",
       " -a3 + a4 - b2 - b6 + c0 + c1 + c2 + c3 + c4 + c5 + c6 + c7,\n",
       " -2*a0 + 2*a1 - 2*a2 + 2*a3 - 2*a4,\n",
       " -2*a4 - b0 + b1 - b2 + b3 - b4 + b5 - b6,\n",
       " a1 - 2*a2 + 3*a3 - 6*a4 - b0 + b1 - b2 + 2*b3 - 2*b4 + 2*b5 - 2*b6,\n",
       " -2*a3 - 8*a4 + b1 - 4*b2 - b4 + 2*b5 - 6*b6 - 2*c0 + 3*c1 - 3*c2 - 4*c3 + 4*c4 - 4*c5 + 4*c6 - 4*c7,\n",
       " -a3 - 2*a4 - b2 - 2*b6 - c2 + c4 - 2*c5 + 3*c6 - 4*c7,\n",
       " a0 - a1 + a2 - a3 + a4,\n",
       " 2*a4 + b0 - b1 + b2 - b3 + b4 - b5 + b6,\n",
       " a3 + a4 + b2 + b6 + c0 - c1 + c2 + c3 - c4 + c5 - c6 + c7]"
      ]
     },
     "execution_count": 36,
     "metadata": {},
     "output_type": "execute_result"
    }
   ],
   "source": [
    "linear=[]\n",
    "blow0=rela(s,t,0,1)\n",
    "for k in range(2):\n",
    "    po=Poly(blow0[k],s,t)\n",
    "    linear+=po.coeffs()\n",
    "    \n",
    "blow1=rela(s,t,1,1)\n",
    "for k in range(2):\n",
    "    po=Poly(blow1[k],s,t)\n",
    "    linear+=po.coeffs()\n",
    "    \n",
    "blow2=rela(s,t,-1,-1)\n",
    "for k in range(2):\n",
    "    po=Poly(blow2[k],s,t)\n",
    "    linear+=po.coeffs()\n",
    "linear"
   ]
  },
  {
   "cell_type": "code",
   "execution_count": 37,
   "metadata": {},
   "outputs": [
    {
     "data": {
      "text/plain": [
       "{c7: 0,\n",
       " c3: b6 - c4/2,\n",
       " c2: -2*b6,\n",
       " b5: 3*b6 - c4/2 - 2*c5,\n",
       " a2: -b6 + c5,\n",
       " c6: 0,\n",
       " c1: -b6,\n",
       " b4: b6 - c4,\n",
       " b3: -b6 + c4/2,\n",
       " b2: -3*b6 + 3*c4/2,\n",
       " a4: b6 - c5,\n",
       " c0: c4/2,\n",
       " a3: b6 - c4/2,\n",
       " b1: 0,\n",
       " a1: -b6 + c4/2,\n",
       " b0: b6 - c4/2,\n",
       " a0: 0}"
      ]
     },
     "execution_count": 37,
     "metadata": {},
     "output_type": "execute_result"
    }
   ],
   "source": [
    "calculate=solve(linear,\n",
    "[a0,a1,a2,a3,a4,b0,b1,b2,b3,b4,b5,b6,c0,c1,c2,c3,c4,c5,c6,c7])\n",
    "calculate"
   ]
  },
  {
   "cell_type": "code",
   "execution_count": 38,
   "metadata": {},
   "outputs": [
    {
     "name": "stdout",
     "output_type": "stream",
     "text": [
      "x**4*(b6 - c5) + x**3*(b6 - c4/2) + x**2*(-b6 + c5) + x*(-b6 + c4/2)\n",
      "y**2*(b6*x**3 - b6 + c4/2 + x**2*(3*b6 - c4/2 - 2*c5) + x*(b6 - c4)) + y*(b6 - c4/2 - 2*x**3*(b6 - c5) + x**2*(-3*b6 + 3*c4/2))\n",
      "y**4*(b6 + c4*x - c4/2 + c5*x**2) + y**3*(-b6*x**2 - 2*b6*x - b6) + y**2*(c4/2 + x**2*(b6 - c5) - x*(-2*b6 + c4))\n"
     ]
    }
   ],
   "source": [
    "ex1=f(x).subs(calculate)\n",
    "ex2=g(x,y).subs(calculate)\n",
    "ex3=h(x,y).subs(calculate)\n",
    "print(ex1)\n",
    "print(ex2)\n",
    "print(ex3)"
   ]
  },
  {
   "cell_type": "code",
   "execution_count": 39,
   "metadata": {},
   "outputs": [
    {
     "name": "stdout",
     "output_type": "stream",
     "text": [
      "x**3 - x\n",
      "y*(-3*x**2 + y*(x**3 + x**2 + x - 1) + 1)\n",
      "y**2*(2*x + y**2*(x**2 + 1) - y*(x**2 + 2*x + 1))\n"
     ]
    }
   ],
   "source": [
    "print(simplify(ex1.subs([(c5,1),(b6,1),(c4,0),])))\n",
    "print(simplify(ex2.subs([(c5,1),(b6,1),(c4,0),])))\n",
    "print(simplify(ex3.subs([(c5,1),(b6,1),(c4,0),])))"
   ]
  },
  {
   "cell_type": "code",
   "execution_count": 40,
   "metadata": {},
   "outputs": [
    {
     "name": "stdout",
     "output_type": "stream",
     "text": [
      "-x**4 + x**2\n",
      "2*x**2*y*(x - y)\n",
      "x**2*y**2*(y**2 - 1)\n"
     ]
    }
   ],
   "source": [
    "print(simplify(ex1.subs([(c5,1),(b6,0),(c4,0),])))\n",
    "print(simplify(ex2.subs([(c5,1),(b6,0),(c4,0),])))\n",
    "print(simplify(ex3.subs([(c5,1),(b6,0),(c4,0),])))"
   ]
  },
  {
   "cell_type": "code",
   "execution_count": 41,
   "metadata": {},
   "outputs": [
    {
     "name": "stdout",
     "output_type": "stream",
     "text": [
      "-x**3 + x\n",
      "y*(3*x**2 + y*(-x**2 - 2*x + 1) - 1)\n",
      "y**2*(-2*x + y**2*(2*x - 1) + 1)\n"
     ]
    }
   ],
   "source": [
    "print(simplify(ex1.subs([(c5,0),(b6,0),(c4,2),])))\n",
    "print(simplify(ex2.subs([(c5,0),(b6,0),(c4,2),])))\n",
    "print(simplify(ex3.subs([(c5,0),(b6,0),(c4,2),])))"
   ]
  },
  {
   "cell_type": "code",
   "execution_count": 42,
   "metadata": {},
   "outputs": [],
   "source": [
    "A=Matrix([ [x**3 - x ,y*(-3*x**2 + y*(x**3 + x**2 + x - 1) + 1) ,y**2*(2*x + y**2*(x**2 + 1) - y*(x**2 + 2*x + 1))],\n",
    "          [-x**4 + x**2, 2*x**2*y*(x - y) ,x**2*y**2*(y**2 - 1) ],\n",
    "          [-x**3 + x ,y*(3*x**2 + y*(-x**2 - 2*x + 1) - 1) ,y**2*(-2*x + y**2*(2*x - 1) + 1)] ])"
   ]
  },
  {
   "cell_type": "code",
   "execution_count": 43,
   "metadata": {},
   "outputs": [
    {
     "data": {
      "text/plain": [
       "x**2*y**3*(2*x**6*y**3 - 2*x**6*y**2 + x**5*y**3 - 4*x**5*y**2 + 3*x**5*y - 4*x**4*y**3 + 3*x**4*y**2 + 2*x**4*y - x**4 - 2*x**3*y**3 + 8*x**3*y**2 - 6*x**3*y + 2*x**2*y**3 - 4*x**2*y + 2*x**2 + x*y**3 - 4*x*y**2 + 3*x*y - y**2 + 2*y - 1)"
      ]
     },
     "execution_count": 43,
     "metadata": {},
     "output_type": "execute_result"
    }
   ],
   "source": [
    "simplify(A.det())"
   ]
  },
  {
   "cell_type": "code",
   "execution_count": 44,
   "metadata": {},
   "outputs": [
    {
     "data": {
      "text/plain": [
       "[(-1, y), (0, y), (1, y), (x, 0), (x, 1), (1/y, y), (-(y - 1)/(2*y), y)]"
      ]
     },
     "execution_count": 44,
     "metadata": {},
     "output_type": "execute_result"
    }
   ],
   "source": [
    "solve(simplify(A.det()),[x,y])"
   ]
  },
  {
   "cell_type": "markdown",
   "metadata": {},
   "source": [
    "$m \\ge 2$の時"
   ]
  },
  {
   "cell_type": "code",
   "execution_count": 49,
   "metadata": {},
   "outputs": [],
   "source": [
    "x=Symbol('x')\n",
    "y=Symbol('y')\n",
    "s=Symbol('s')\n",
    "t=Symbol('t')\n",
    "m=Symbol('m')\n",
    "a0,a1,a2,a3,a4=symbols('a0:5')\n",
    "b0,b1,b2,b3,b4,b5,b6=symbols('b0:7')\n",
    "c0,c1,c2,c3,c4,c5,c6,c7,c8=symbols('c0:9')\n",
    "def f(x):\n",
    "    return a0+a1*x+a2*(x**2)+a3*(x**3)+a4*(x**4)\n",
    "def g(x,y):\n",
    "    return (b0+b1*x+b2*(x**2)-2*m*a4*(x**3))*y+(b3+b4*x+b5*(x**2)+b6*(x**3) )*(y**2) \n",
    "def h(x,y):\n",
    "    return (c0-(m*b2+m*m*a3)*x+m*m*a4*(x**2))*(y**2)+(c1+c2*x+c3*(x**2))*(y**3)+(c4+c5*x+c6*(x**2)+c7*(x**3)+c8*(x**4))*(y**4)"
   ]
  },
  {
   "cell_type": "code",
   "execution_count": 50,
   "metadata": {},
   "outputs": [
    {
     "data": {
      "text/plain": [
       "{b5: 0,\n",
       " c4: (-c5*(-m**2 + 2*m + 1) + 2*c6*(-m**2 + 2*m + 1) + 2*c8*(-2*m**2 + 7*m + 2))/(6*m),\n",
       " c3: -c5*m/6 + c6*m/3 - c6 + 2*c8*m/3 + c8,\n",
       " c2: -c5*m/3 + 2*c6*m/3 - 2*c6 + 4*c8*m/3 - 4*c8,\n",
       " c1: -c5*m/6 + c6*m/3 - c6 + 2*c8*m/3 - 3*c8,\n",
       " a2: (-c5 + 2*c6 + 4*c8)/(6*m),\n",
       " c7: -2*c8,\n",
       " b6: -c5*m/6 + c5 - 2*c5/(3*m) + c6*m/3 - c6 + 4*c6/(3*m) + 2*c8*m/3 - 3*c8 + 8*c8/(3*m),\n",
       " b4: c5*m/6 - c5 - c6*m/3 + c6 - 2*c8*m/3 + 3*c8,\n",
       " b3: (c5 - 2*c6 - 4*c8)/(3*m),\n",
       " b2: (c5 - 2*c6 - 4*c8)/m,\n",
       " a4: (c5 - 2*c6 - 4*c8)/(6*m),\n",
       " c0: (2*c5*m + c5 + 2*c6*m - 2*c6 + 4*c8*m - 4*c8)/(6*m),\n",
       " a3: (-c5 + 2*c6 + 4*c8)/(3*m),\n",
       " b1: (c5*m - c5 - 2*c6*m + 2*c6 - 4*c8*m + 4*c8)/(3*m),\n",
       " a1: (c5 - 2*c6 - 4*c8)/(3*m),\n",
       " b0: (-c5 + 2*c6 + 4*c8)/(3*m),\n",
       " a0: 0}"
      ]
     },
     "execution_count": 50,
     "metadata": {},
     "output_type": "execute_result"
    }
   ],
   "source": [
    "linear=[]\n",
    "blow0=rela(s,t,0,1)\n",
    "for k in range(2):\n",
    "    po=Poly(blow0[k],s,t)\n",
    "    linear+=po.coeffs()\n",
    "    \n",
    "blow1=rela(s,t,1,1)\n",
    "for k in range(2):\n",
    "    po=Poly(blow1[k],s,t)\n",
    "    linear+=po.coeffs()\n",
    "    \n",
    "blow2=rela(s,t,-1,-1)\n",
    "for k in range(2):\n",
    "    po=Poly(blow2[k],s,t)\n",
    "    linear+=po.coeffs()\n",
    "linear\n",
    "calculate=solve(linear,\n",
    "[a0,a1,a2,a3,a4,b0,b1,b2,b3,b4,b5,b6,c0,c1,c2,c3,c4,c5,c6,c7,c8])\n",
    "calculate"
   ]
  },
  {
   "cell_type": "code",
   "execution_count": 51,
   "metadata": {},
   "outputs": [
    {
     "name": "stdout",
     "output_type": "stream",
     "text": [
      "x**4*(c5 - 2*c6 - 4*c8)/(6*m) + x**3*(-c5 + 2*c6 + 4*c8)/(3*m) + x**2*(-c5 + 2*c6 + 4*c8)/(6*m) + x*(c5 - 2*c6 - 4*c8)/(3*m)\n",
      "y**2*(x**3*(-c5*m/6 + c5 - 2*c5/(3*m) + c6*m/3 - c6 + 4*c6/(3*m) + 2*c8*m/3 - 3*c8 + 8*c8/(3*m)) + x*(c5*m/6 - c5 - c6*m/3 + c6 - 2*c8*m/3 + 3*c8) + (c5 - 2*c6 - 4*c8)/(3*m)) + y*(-x**3*(c5 - 2*c6 - 4*c8)/3 + x**2*(c5 - 2*c6 - 4*c8)/m + x*(c5*m - c5 - 2*c6*m + 2*c6 - 4*c8*m + 4*c8)/(3*m) + (-c5 + 2*c6 + 4*c8)/(3*m))\n",
      "y**4*(c5*x + c6*x**2 + c8*x**4 - 2*c8*x**3 + (-c5*(-m**2 + 2*m + 1) + 2*c6*(-m**2 + 2*m + 1) + 2*c8*(-2*m**2 + 7*m + 2))/(6*m)) + y**3*(-c5*m/6 + c6*m/3 - c6 + 2*c8*m/3 - 3*c8 + x**2*(-c5*m/6 + c6*m/3 - c6 + 2*c8*m/3 + c8) + x*(-c5*m/3 + 2*c6*m/3 - 2*c6 + 4*c8*m/3 - 4*c8)) + y**2*(m*x**2*(c5 - 2*c6 - 4*c8)/6 - x*(c5 - 2*c6 - 4*c8 + m*(-c5 + 2*c6 + 4*c8)/3) + (2*c5*m + c5 + 2*c6*m - 2*c6 + 4*c8*m - 4*c8)/(6*m))\n"
     ]
    }
   ],
   "source": [
    "ex1=f(x).subs(calculate)\n",
    "ex2=g(x,y).subs(calculate)\n",
    "ex3=h(x,y).subs(calculate)\n",
    "print(ex1)\n",
    "print(ex2)\n",
    "print(ex3)"
   ]
  },
  {
   "cell_type": "code",
   "execution_count": 52,
   "metadata": {},
   "outputs": [
    {
     "name": "stdout",
     "output_type": "stream",
     "text": [
      "0\n",
      "x*y**2*(x**2 - 1)\n",
      "y**3*(-3*x**2 + y*(-x**4 + 2*x**3 + 2*x**2 - 1) + 1)\n"
     ]
    }
   ],
   "source": [
    "print(simplify(ex1.subs([(c5,0),(c6,2),(c8,-1),])))\n",
    "print(simplify(ex2.subs([(c5,0),(c6,2),(c8,-1),])))\n",
    "print(simplify(ex3.subs([(c5,0),(c6,2),(c8,-1),])))"
   ]
  },
  {
   "cell_type": "code",
   "execution_count": 53,
   "metadata": {},
   "outputs": [
    {
     "name": "stdout",
     "output_type": "stream",
     "text": [
      "0\n",
      "x*y**2*(x**2 - 1)\n",
      "y**2*(x*y**2*(x + 2) - y*(x**2 + 2*x + 1) + 1)\n"
     ]
    }
   ],
   "source": [
    "print(simplify(ex1.subs([(c5,2),(c6,1),(c8,0),])))\n",
    "print(simplify(ex2.subs([(c5,2),(c6,1),(c8,0),])))\n",
    "print(simplify(ex3.subs([(c5,2),(c6,1),(c8,0),])))"
   ]
  },
  {
   "cell_type": "code",
   "execution_count": 54,
   "metadata": {},
   "outputs": [
    {
     "name": "stdout",
     "output_type": "stream",
     "text": [
      "x*(x**3 - 2*x**2 - x + 2)\n",
      "y*(-2*m*x**3 + 6*x**2 + 2*x*(m - 1) + y*(m*x*(m - 6) + x**3*(-m**2 + 6*m - 4) + 2) - 2)\n",
      "y**2*(m*x*(m*x + 2*m - 6) + 2*m + y*(-m**2*(x**2 + 2*x + 1) + y*(m**2 + 6*m*x - 2*m - 1)) + 1)\n"
     ]
    }
   ],
   "source": [
    "print(simplify(ex1.subs([(c5,6*m),(c6,0),(c8,0),])))\n",
    "print(simplify(ex2.subs([(c5,6*m),(c6,0),(c8,0),])))\n",
    "print(simplify(ex3.subs([(c5,6*m),(c6,0),(c8,0),])))"
   ]
  },
  {
   "cell_type": "code",
   "execution_count": 55,
   "metadata": {},
   "outputs": [],
   "source": [
    "A=Matrix([ [0 ,x*y**2*(x**2 - 1) ,y**3*(-3*x**2 + y*(-x**4 + 2*x**3 + 2*x**2 - 1) + 1) ],\n",
    "          [0 , x*y**2*(x**2 - 1) ,y**2*(x*y**2*(x + 2) - y*(x**2 + 2*x + 1) + 1) ],\n",
    "          [x*(x**3 - 2*x**2 - x + 2) , y*(-2*m*x**3 + 6*x**2 + 2*x*(m - 1) + y*(m*x*(m - 6) + x**3*(-m**2 + 6*m - 4) + 2) - 2) ,\n",
    "           y**2*(m*x*(m*x + 2*m - 6) + 2*m + y*(-m**2*(x**2 + 2*x + 1) + y*(m**2 + 6*m*x - 2*m - 1)) + 1)] ])"
   ]
  },
  {
   "cell_type": "code",
   "execution_count": 56,
   "metadata": {},
   "outputs": [
    {
     "data": {
      "text/plain": [
       "x**2*y**4*(x**2 - 1)*(x**3 - 2*x**2 - x + 2)*(x*y**2*(x + 2) - y*(x**2 + 2*x + 1) + y*(3*x**2 + y*(x**4 - 2*x**3 - 2*x**2 + 1) - 1) + 1)"
      ]
     },
     "execution_count": 56,
     "metadata": {},
     "output_type": "execute_result"
    }
   ],
   "source": [
    "simplify(A.det())"
   ]
  },
  {
   "cell_type": "code",
   "execution_count": 57,
   "metadata": {},
   "outputs": [
    {
     "data": {
      "text/plain": [
       "[(-1, y),\n",
       " (0, y),\n",
       " (1, y),\n",
       " (2, y),\n",
       " (x, 0),\n",
       " ((y - sqrt(y*(5*y - 4)))/(2*y), y),\n",
       " ((y + sqrt(y*(5*y - 4)))/(2*y), y)]"
      ]
     },
     "execution_count": 57,
     "metadata": {},
     "output_type": "execute_result"
    }
   ],
   "source": [
    "solve(simplify(A.det()),[x,y])"
   ]
  },
  {
   "cell_type": "code",
   "execution_count": 58,
   "metadata": {},
   "outputs": [
    {
     "data": {
      "text/plain": [
       "Matrix([\n",
       "[x1/y1 - x2/(2*y2) - x3/(2*y3)],\n",
       "[       -x2/(2*y2) - x3/(2*y3)],\n",
       "[                x1/y1 - x2/y2]])"
      ]
     },
     "execution_count": 58,
     "metadata": {},
     "output_type": "execute_result"
    }
   ],
   "source": [
    "y1,y2,y3=symbols('y1:4')\n",
    "x1,x2,x3=symbols('x1:4')\n",
    "A=Matrix([ [y1,-y1,0],[y2,-y2,-y2],[-y3,-y3,y3] ])\n",
    "X=Matrix([x1,x2,x3])\n",
    "(A.inv())*X"
   ]
  },
  {
   "cell_type": "code",
   "execution_count": 59,
   "metadata": {},
   "outputs": [
    {
     "data": {
      "text/plain": [
       "Matrix([\n",
       "[                                       (x1 - y1)/y1],\n",
       "[                (x3 + y3)/(2*y3) - (x2 - y2)/(2*y2)],\n",
       "[-(x3 + y3)/(2*y3) - (x2 - y2)/(2*y2) - (x1 - y1)/y1]])"
      ]
     },
     "execution_count": 59,
     "metadata": {},
     "output_type": "execute_result"
    }
   ],
   "source": [
    "y1,y2,y3=symbols('y1:4')\n",
    "x1,x2,x3=symbols('x1:4')\n",
    "A=Matrix([ [y1,0,0],[-y2,-y2,-y2],[-y3,y3,-y3] ])\n",
    "X=Matrix([x1-y1,x2-y2,x3+y3])\n",
    "(A.inv())*X"
   ]
  },
  {
   "cell_type": "code",
   "execution_count": null,
   "metadata": {},
   "outputs": [],
   "source": []
  }
 ],
 "metadata": {
  "kernelspec": {
   "display_name": "python 3.6.3",
   "language": "python",
   "name": "python3.6"
  },
  "language_info": {
   "codemirror_mode": {
    "name": "ipython",
    "version": 3
   },
   "file_extension": ".py",
   "mimetype": "text/x-python",
   "name": "python",
   "nbconvert_exporter": "python",
   "pygments_lexer": "ipython3",
   "version": "3.6.3"
  },
  "toc": {
   "base_numbering": 1,
   "nav_menu": {},
   "number_sections": true,
   "sideBar": true,
   "skip_h1_title": false,
   "title_cell": "Table of Contents",
   "title_sidebar": "Contents",
   "toc_cell": false,
   "toc_position": {},
   "toc_section_display": true,
   "toc_window_display": false
  }
 },
 "nbformat": 4,
 "nbformat_minor": 2
}
