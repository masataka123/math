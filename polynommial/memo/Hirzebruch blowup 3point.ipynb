{
 "cells": [
  {
   "cell_type": "markdown",
   "metadata": {},
   "source": [
    "Hilzebruch surface $\\mathbb{F}_m$ の3点blowupについて\n",
    "(2点の時とほぼ同じ)"
   ]
  },
  {
   "cell_type": "code",
   "execution_count": 1,
   "metadata": {},
   "outputs": [],
   "source": [
    "from sympy import *"
   ]
  },
  {
   "cell_type": "markdown",
   "metadata": {},
   "source": [
    "$m=0$の時"
   ]
  },
  {
   "cell_type": "code",
   "execution_count": 2,
   "metadata": {},
   "outputs": [],
   "source": [
    "x=Symbol('x')\n",
    "y=Symbol('y')\n",
    "s=Symbol('s')\n",
    "t=Symbol('t')\n",
    "a0,a1,a2,a3,a4=symbols('a0:5')\n",
    "b0,b1,b2,b3,b4,b5,b6,b7,b8=symbols('b0:9')\n",
    "c0,c1,c2,c3,c4=symbols('c0:5')\n",
    "def f(x):\n",
    "    return a0+a1*x+a2*(x**2)+a3*(x**3)+a4*(x**4)\n",
    "def g(x,y):\n",
    "    return b0+b1*x+b2*(x**2)+b3*y+b4*x*y+b5*(x**2)*y+b6*(y**2)+b7*x*(y**2)+b8*(x**2)*y**2\n",
    "def h(x):\n",
    "    return c0+c1*x+c2*(x**2)+c3*(x**3)+c4*(x**4)"
   ]
  },
  {
   "cell_type": "markdown",
   "metadata": {},
   "source": [
    "ブローアップ"
   ]
  },
  {
   "cell_type": "code",
   "execution_count": 3,
   "metadata": {},
   "outputs": [],
   "source": [
    "def rela(s,t,alpha,beta):\n",
    "    X=s+alpha\n",
    "    Y=s*t+beta\n",
    "    L1=-2*f(X)*t+g(X,Y)\n",
    "    L2=f(X)*(t**2)-g(X,Y)*t+h(Y)\n",
    "    f1=div(L1,s,s)[1]\n",
    "    f2=div(L2,s**2,s)[1]\n",
    "    return f1,f2"
   ]
  },
  {
   "cell_type": "markdown",
   "metadata": {},
   "source": [
    "3点ブローアップする"
   ]
  },
  {
   "cell_type": "code",
   "execution_count": 4,
   "metadata": {},
   "outputs": [
    {
     "data": {
      "text/plain": [
       "[-2*a0,\n",
       " b0,\n",
       " a1 - b3,\n",
       " -b1 + c1,\n",
       " a0,\n",
       " -b0,\n",
       " c0,\n",
       " -2*a0 - 2*a1 - 2*a2 - 2*a3 - 2*a4,\n",
       " b0 + b1 + b2 + b3 + b4 + b5 + b6 + b7 + b8,\n",
       " a1 + 2*a2 + 3*a3 + 4*a4 - b3 - b4 - b5 - 2*b6 - 2*b7 - 2*b8,\n",
       " -b1 - 2*b2 - b4 - 2*b5 - b7 - 2*b8 + c1 + 2*c2 + 3*c3 + 4*c4,\n",
       " a0 + a1 + a2 + a3 + a4,\n",
       " -b0 - b1 - b2 - b3 - b4 - b5 - b6 - b7 - b8,\n",
       " c0 + c1 + c2 + c3 + c4,\n",
       " -2*a0 + 2*a1 - 2*a2 + 2*a3 - 2*a4,\n",
       " b0 - b1 + b2 - b3 + b4 - b5 + b6 - b7 + b8,\n",
       " a1 - 2*a2 + 3*a3 - 4*a4 - b3 + b4 - b5 + 2*b6 - 2*b7 + 2*b8,\n",
       " -b1 + 2*b2 + b4 - 2*b5 - b7 + 2*b8 + c1 - 2*c2 + 3*c3 - 4*c4,\n",
       " a0 - a1 + a2 - a3 + a4,\n",
       " -b0 + b1 - b2 + b3 - b4 + b5 - b6 + b7 - b8,\n",
       " c0 - c1 + c2 - c3 + c4]"
      ]
     },
     "execution_count": 4,
     "metadata": {},
     "output_type": "execute_result"
    }
   ],
   "source": [
    "linear=[]\n",
    "blow0=rela(s,t,0,0)\n",
    "for k in range(2):\n",
    "    po=Poly(blow0[k],s,t)\n",
    "    linear+=po.coeffs()\n",
    "    \n",
    "blow1=rela(s,t,1,1)\n",
    "for k in range(2):\n",
    "    po=Poly(blow1[k],s,t)\n",
    "    linear+=po.coeffs()\n",
    "    \n",
    "blow2=rela(s,t,-1,-1)\n",
    "for k in range(2):\n",
    "    po=Poly(blow2[k],s,t)\n",
    "    linear+=po.coeffs()\n",
    "linear"
   ]
  },
  {
   "cell_type": "code",
   "execution_count": 6,
   "metadata": {},
   "outputs": [
    {
     "data": {
      "text/plain": [
       "{c2: -c4,\n",
       " b6: -b4/2 - c4,\n",
       " b8: a4 + c4,\n",
       " b5: -b7/2 + 3*c3/2,\n",
       " c1: -c3,\n",
       " b3: -b7/2 - c3/2,\n",
       " a3: b7/2 + c3/2,\n",
       " b2: -a4 - b4/2,\n",
       " a2: -a4,\n",
       " c0: 0,\n",
       " b1: -c3,\n",
       " a1: -b7/2 - c3/2,\n",
       " b0: 0,\n",
       " a0: 0}"
      ]
     },
     "execution_count": 6,
     "metadata": {},
     "output_type": "execute_result"
    }
   ],
   "source": [
    "calculate=solve(linear,\n",
    "[a0,a1,a2,a3,a4,b0,b1,b2,b3,b4,b5,b6,b7,b8,c0,c1,c2,c3,c4])\n",
    "calculate"
   ]
  },
  {
   "cell_type": "code",
   "execution_count": 8,
   "metadata": {},
   "outputs": [
    {
     "name": "stdout",
     "output_type": "stream",
     "text": [
      "a4*x**4 - a4*x**2 + x**3*(b7/2 + c3/2) + x*(-b7/2 - c3/2)\n",
      "b4*x*y + b7*x*y**2 - c3*x + x**2*y**2*(a4 + c4) + x**2*y*(-b7/2 + 3*c3/2) + x**2*(-a4 - b4/2) + y**2*(-b4/2 - c4) + y*(-b7/2 - c3/2)\n",
      "c3*y**3 - c3*y + c4*y**4 - c4*y**2\n"
     ]
    }
   ],
   "source": [
    "ex1=f(x).subs(calculate)\n",
    "ex2=g(x,y).subs(calculate)\n",
    "ex3=h(y).subs(calculate)\n",
    "print(ex1)\n",
    "print(ex2)\n",
    "print(ex3)"
   ]
  },
  {
   "cell_type": "code",
   "execution_count": 10,
   "metadata": {},
   "outputs": [
    {
     "name": "stdout",
     "output_type": "stream",
     "text": [
      "0\n",
      "x**2*y**2 - y**2\n",
      "y**4 - y**2\n"
     ]
    }
   ],
   "source": [
    "print(ex1.subs(  [(a4,0),(b4,0),(b7,0),(c3,0),(c4,1)]  ))\n",
    "print(ex2.subs(  [(a4,0),(b4,0),(b7,0),(c3,0),(c4,1)]  ))\n",
    "print(ex3.subs(  [(a4,0),(b4,0),(b7,0),(c3,0),(c4,1)]  ))"
   ]
  },
  {
   "cell_type": "code",
   "execution_count": 11,
   "metadata": {},
   "outputs": [
    {
     "name": "stdout",
     "output_type": "stream",
     "text": [
      "x**4 - x**2\n",
      "x**2*y**2 - x**2\n",
      "0\n"
     ]
    }
   ],
   "source": [
    "print(ex1.subs(  [(a4,1),(b4,0),(b7,0),(c3,0),(c4,0)]  ))\n",
    "print(ex2.subs(  [(a4,1),(b4,0),(b7,0),(c3,0),(c4,0)]  ))\n",
    "print(ex3.subs(  [(a4,1),(b4,0),(b7,0),(c3,0),(c4,0)]  ))"
   ]
  },
  {
   "cell_type": "code",
   "execution_count": 12,
   "metadata": {},
   "outputs": [
    {
     "name": "stdout",
     "output_type": "stream",
     "text": [
      "0\n",
      "x**2 - 2*x*y + y**2\n",
      "0\n"
     ]
    }
   ],
   "source": [
    "print(ex1.subs(  [(a4,0),(b4,-2),(b7,0),(c3,0),(c4,0)]  ))\n",
    "print(ex2.subs(  [(a4,0),(b4,-2),(b7,0),(c3,0),(c4,0)]  ))\n",
    "print(ex3.subs(  [(a4,0),(b4,-2),(b7,0),(c3,0),(c4,0)]  ))"
   ]
  },
  {
   "cell_type": "markdown",
   "metadata": {},
   "source": [
    "basisになるか確認"
   ]
  },
  {
   "cell_type": "code",
   "execution_count": 13,
   "metadata": {},
   "outputs": [],
   "source": [
    "A=Matrix([ [0,x**2*y**2 - y**2,y**4 - y**2],\n",
    "         [x**4 - x**2,x**2*y**2 - x**2,0],\n",
    "          [0,x**2 - 2*x*y + y**2,0]])"
   ]
  },
  {
   "cell_type": "code",
   "execution_count": 14,
   "metadata": {},
   "outputs": [
    {
     "data": {
      "text/plain": [
       "x**2*y**2*(x**2 - 1)*(y**2 - 1)*(x**2 - 2*x*y + y**2)"
      ]
     },
     "execution_count": 14,
     "metadata": {},
     "output_type": "execute_result"
    }
   ],
   "source": [
    "simplify(A.det())"
   ]
  },
  {
   "cell_type": "code",
   "execution_count": 15,
   "metadata": {},
   "outputs": [
    {
     "data": {
      "text/plain": [
       "[(-1, y), (0, y), (1, y), (x, -1), (x, 0), (x, 1), (y, y)]"
      ]
     },
     "execution_count": 15,
     "metadata": {},
     "output_type": "execute_result"
    }
   ],
   "source": [
    "solve(simplify(A.det()),[x,y])"
   ]
  },
  {
   "cell_type": "markdown",
   "metadata": {},
   "source": [
    "$m \\ge 2$の時"
   ]
  },
  {
   "cell_type": "code",
   "execution_count": 16,
   "metadata": {},
   "outputs": [],
   "source": [
    "x=Symbol('x')\n",
    "y=Symbol('y')\n",
    "s=Symbol('s')\n",
    "t=Symbol('t')\n",
    "m=Symbol('m')\n",
    "a0,a1,a2,a3,a4=symbols('a0:5')\n",
    "b0,b1,b2,b3,b4,b5=symbols('b0:6')\n",
    "c0,c1,c2,c3,c4,c5,c6,c7=symbols('c0:8')\n",
    "def f(x):\n",
    "    return a0+a1*x+a2*(x**2)+a3*(x**3)+a4*(x**4)\n",
    "def g(x,y):\n",
    "    return (b0+b1*x+b2*(x**2)-2*m*a4*(x**3))*y+(b3+b4*x+b5*(x**2) )*(y**2) \n",
    "def h(x,y):\n",
    "    return (c0-(m*b2+m*m*a3)*x+m*m*a4*(x**2))*(y**2)+(c1+c2*x)*(y**3)+(c3+c4*x+c5*(x**2)+c6*(x**3)+c7*(x**4))*(y**4)"
   ]
  },
  {
   "cell_type": "code",
   "execution_count": 18,
   "metadata": {},
   "outputs": [],
   "source": [
    "def rela(s,t,alpha,beta):\n",
    "    X=s+alpha\n",
    "    Y=s*t+beta\n",
    "    L1=-2*f(X)*t+g(X,Y)\n",
    "    L2=f(X)*(t**2)-g(X,Y)*t+h(X,Y)\n",
    "    f1=div(L1,s,s)[1]\n",
    "    f2=div(L2,s**2,s)[1]\n",
    "    return f1,f2"
   ]
  },
  {
   "cell_type": "code",
   "execution_count": 19,
   "metadata": {},
   "outputs": [
    {
     "data": {
      "text/plain": [
       "[-2*a0,\n",
       " a1 - b0,\n",
       " a0,\n",
       " -2*a0 - 2*a1 - 2*a2 - 2*a3 - 2*a4,\n",
       " -2*a4*m + b0 + b1 + b2 + b3 + b4 + b5,\n",
       " a1 + 2*a2 + 3*a3 + 2*a4*m + 4*a4 - b0 - b1 - b2 - 2*b3 - 2*b4 - 2*b5,\n",
       " -2*a3*m**2 + 2*a4*m**2 + 6*a4*m - b1 - 2*b2*m - 2*b2 - b4 - 2*b5 + 2*c0 + 3*c1 + 3*c2 + 4*c3 + 4*c4 + 4*c5 + 4*c6 + 4*c7,\n",
       " -a3*m**2 + 2*a4*m**2 - b2*m + c2 + c4 + 2*c5 + 3*c6 + 4*c7,\n",
       " a0 + a1 + a2 + a3 + a4,\n",
       " 2*a4*m - b0 - b1 - b2 - b3 - b4 - b5,\n",
       " -a3*m**2 + a4*m**2 - b2*m + c0 + c1 + c2 + c3 + c4 + c5 + c6 + c7,\n",
       " -2*a0 + 2*a1 - 2*a2 + 2*a3 - 2*a4,\n",
       " -2*a4*m - b0 + b1 - b2 + b3 - b4 + b5,\n",
       " a1 - 2*a2 + 3*a3 - 2*a4*m - 4*a4 - b0 + b1 - b2 + 2*b3 - 2*b4 + 2*b5,\n",
       " -2*a3*m**2 - 2*a4*m**2 - 6*a4*m + b1 - 2*b2*m - 2*b2 - b4 + 2*b5 - 2*c0 + 3*c1 - 3*c2 - 4*c3 + 4*c4 - 4*c5 + 4*c6 - 4*c7,\n",
       " -a3*m**2 - 2*a4*m**2 - b2*m - c2 + c4 - 2*c5 + 3*c6 - 4*c7,\n",
       " a0 - a1 + a2 - a3 + a4,\n",
       " 2*a4*m + b0 - b1 + b2 - b3 + b4 - b5,\n",
       " a3*m**2 + a4*m**2 + b2*m + c0 - c1 + c2 + c3 - c4 + c5 - c6 + c7]"
      ]
     },
     "execution_count": 19,
     "metadata": {},
     "output_type": "execute_result"
    }
   ],
   "source": [
    "linear=[]\n",
    "blow0=rela(s,t,0,0)\n",
    "for k in range(2):\n",
    "    po=Poly(blow0[k],s,t)\n",
    "    linear+=po.coeffs()\n",
    "    \n",
    "blow1=rela(s,t,1,1)\n",
    "for k in range(2):\n",
    "    po=Poly(blow1[k],s,t)\n",
    "    linear+=po.coeffs()\n",
    "    \n",
    "blow2=rela(s,t,-1,-1)\n",
    "for k in range(2):\n",
    "    po=Poly(blow2[k],s,t)\n",
    "    linear+=po.coeffs()\n",
    "linear"
   ]
  },
  {
   "cell_type": "code",
   "execution_count": 20,
   "metadata": {},
   "outputs": [
    {
     "data": {
      "text/plain": [
       "{c4: -2*c6,\n",
       " c1: 2*c6,\n",
       " c0: -c2/2 - c3 + c7,\n",
       " b4: 2*c6/(m*(m - 1)),\n",
       " b5: c2/2 - c2/m - c2/(2*m**2) + c3 + c5 - 2*c5/m - c5/m**2 + c7 - 4*c7/m - 2*c7/m**2,\n",
       " b3: -c2/2 + c2/m - c2/(2*m**2) - c3 - c5 + 2*c5/m - c5/m**2 - c7 + 4*c7/m - 2*c7/m**2,\n",
       " b2: -c6/(m*(m - 1)),\n",
       " b1: (-c2*m + c2 - 2*c5*m + 2*c5 - 4*c7*m + 4*c7)/m**2,\n",
       " b0: -c6/(m*(m - 1)),\n",
       " a3: c6/(m*(m - 1)),\n",
       " a4: -(c2/2 + c5 + 2*c7)/m**2,\n",
       " a2: (c2/2 + c5 + 2*c7)/m**2,\n",
       " a1: -c6/(m*(m - 1)),\n",
       " a0: 0}"
      ]
     },
     "execution_count": 20,
     "metadata": {},
     "output_type": "execute_result"
    }
   ],
   "source": [
    "calculate=solve(linear,\n",
    "[a0,a1,a2,a3,a4,b0,b1,b2,b3,b4,b5,c0,c1,c2,c3,c4,c5,c6,c7])\n",
    "calculate"
   ]
  },
  {
   "cell_type": "code",
   "execution_count": 22,
   "metadata": {},
   "outputs": [
    {
     "name": "stdout",
     "output_type": "stream",
     "text": [
      "c6*x**3/(m*(m - 1)) - c6*x/(m*(m - 1)) - x**4*(c2/2 + c5 + 2*c7)/m**2 + x**2*(c2/2 + c5 + 2*c7)/m**2\n",
      "y**2*(-c2/2 + c2/m - c2/(2*m**2) - c3 - c5 + 2*c5/m - c5/m**2 + 2*c6*x/(m*(m - 1)) - c7 + 4*c7/m - 2*c7/m**2 + x**2*(c2/2 - c2/m - c2/(2*m**2) + c3 + c5 - 2*c5/m - c5/m**2 + c7 - 4*c7/m - 2*c7/m**2)) + y*(-c6*x**2/(m*(m - 1)) - c6/(m*(m - 1)) + 2*x**3*(c2/2 + c5 + 2*c7)/m + x*(-c2*m + c2 - 2*c5*m + 2*c5 - 4*c7*m + 4*c7)/m**2)\n",
      "y**4*(c3 + c5*x**2 + c6*x**3 - 2*c6*x + c7*x**4) + y**3*(c2*x + 2*c6) + y**2*(-c2/2 - c3 + c7 - x**2*(c2/2 + c5 + 2*c7) - x*(c6*m/(m - 1) - c6/(m - 1)))\n"
     ]
    }
   ],
   "source": [
    "ex1=f(x).subs(calculate)\n",
    "ex2=g(x,y).subs(calculate)\n",
    "ex3=h(x,y).subs(calculate)\n",
    "print(ex1)\n",
    "print(ex2)\n",
    "print(ex3)"
   ]
  },
  {
   "cell_type": "code",
   "execution_count": 23,
   "metadata": {},
   "outputs": [
    {
     "name": "stdout",
     "output_type": "stream",
     "text": [
      "x**3 - x\n",
      "y*(-x**2 + 2*x*y - 1)\n",
      "m*y**2*(m - 1)*(x*y**2*(x**2 - 2) - x + 2*y)\n"
     ]
    }
   ],
   "source": [
    "print(simplify(ex1.subs([(c2,0),(c3,0),(c5,0),(c7,0),(c6,m*(m-1))])))\n",
    "print(simplify(ex2.subs([(c2,0),(c3,0),(c5,0),(c7,0),(c6,m*(m-1))])))\n",
    "print(simplify(ex3.subs([(c2,0),(c3,0),(c5,0),(c7,0),(c6,m*(m-1))])))"
   ]
  },
  {
   "cell_type": "code",
   "execution_count": 24,
   "metadata": {},
   "outputs": [
    {
     "name": "stdout",
     "output_type": "stream",
     "text": [
      "0\n",
      "y**2*(x**2 - 1)\n",
      "y**4 - y**2\n"
     ]
    }
   ],
   "source": [
    "print(simplify(ex1.subs([(c2,0),(c3,1),(c5,0),(c7,0),(c6,0)  ])))\n",
    "print(simplify(ex2.subs([(c2,0),(c3,1),(c5,0),(c7,0),(c6,0)  ])))\n",
    "print(simplify(ex3.subs([(c2,0),(c3,1),(c5,0),(c7,0),(c6,0)  ])))"
   ]
  },
  {
   "cell_type": "code",
   "execution_count": 25,
   "metadata": {},
   "outputs": [
    {
     "name": "stdout",
     "output_type": "stream",
     "text": [
      "0\n",
      "y**2*(x**2 - 1)\n",
      "y**2*(x**2*y**2*(-x**2 + 2) - 1)\n"
     ]
    }
   ],
   "source": [
    "print(simplify(ex1.subs([(c2,0),(c3,0),(c5,2),(c7,-1),(c6,0)  ])))\n",
    "print(simplify(ex2.subs([(c2,0),(c3,0),(c5,2),(c7,-1),(c6,0)  ])))\n",
    "print(simplify(ex3.subs([(c2,0),(c3,0),(c5,2),(c7,-1),(c6,0)  ])))"
   ]
  },
  {
   "cell_type": "code",
   "execution_count": 26,
   "metadata": {},
   "outputs": [],
   "source": [
    "A=Matrix([ [x**3 - x,y*(-x**2 + 2*x*y - 1), m*y**2*(m - 1)*(x*y**2*(x**2 - 2) - x + 2*y)] , \n",
    "          [0,y**2*(x**2 - 1),y**4 - y**2] , \n",
    "          [0,y**2*(x**2 - 1),y**2*(x**2*y**2*(-x**2 + 2) - 1)] ])"
   ]
  },
  {
   "cell_type": "code",
   "execution_count": 27,
   "metadata": {},
   "outputs": [
    {
     "data": {
      "text/plain": [
       "x*y**6*(-x**8 + 4*x**6 - 6*x**4 + 4*x**2 - 1)"
      ]
     },
     "execution_count": 27,
     "metadata": {},
     "output_type": "execute_result"
    }
   ],
   "source": [
    "simplify(A.det())"
   ]
  },
  {
   "cell_type": "code",
   "execution_count": 28,
   "metadata": {},
   "outputs": [
    {
     "data": {
      "text/plain": [
       "[(-1, y), (0, y), (1, y), (x, 0)]"
      ]
     },
     "execution_count": 28,
     "metadata": {},
     "output_type": "execute_result"
    }
   ],
   "source": [
    "solve(simplify(A.det()),[x,y])"
   ]
  },
  {
   "cell_type": "markdown",
   "metadata": {},
   "source": [
    "m=1の時"
   ]
  },
  {
   "cell_type": "code",
   "execution_count": 29,
   "metadata": {},
   "outputs": [],
   "source": [
    "x=Symbol('x')\n",
    "y=Symbol('y')\n",
    "s=Symbol('s')\n",
    "t=Symbol('t')\n",
    "#m=Symbol('m')\n",
    "m=1\n",
    "a0,a1,a2,a3,a4=symbols('a0:5')\n",
    "b0,b1,b2,b3,b4,b5=symbols('b0:6')\n",
    "c0,c1,c2,c3,c4,c5,c6,c7=symbols('c0:8')\n",
    "def f(x):\n",
    "    return a0+a1*x+a2*(x**2)+a3*(x**3)+a4*(x**4)\n",
    "def g(x,y):\n",
    "    return (b0+b1*x+b2*(x**2)-2*m*a4*(x**3))*y+(b3+b4*x+b5*(x**2) )*(y**2) \n",
    "def h(x,y):\n",
    "    return (c0-(m*b2+m*m*a3)*x+m*m*a4*(x**2))*(y**2)+(c1+c2*x)*(y**3)+(c3+c4*x+c5*(x**2)+c6*(x**3)+c7*(x**4))*(y**4)"
   ]
  },
  {
   "cell_type": "code",
   "execution_count": 30,
   "metadata": {},
   "outputs": [
    {
     "data": {
      "text/plain": [
       "[-2*a0,\n",
       " a1 - b0,\n",
       " a0,\n",
       " -2*a0 - 2*a1 - 2*a2 - 2*a3 - 2*a4,\n",
       " -2*a4 + b0 + b1 + b2 + b3 + b4 + b5,\n",
       " a1 + 2*a2 + 3*a3 + 6*a4 - b0 - b1 - b2 - 2*b3 - 2*b4 - 2*b5,\n",
       " -2*a3 + 8*a4 - b1 - 4*b2 - b4 - 2*b5 + 2*c0 + 3*c1 + 3*c2 + 4*c3 + 4*c4 + 4*c5 + 4*c6 + 4*c7,\n",
       " -a3 + 2*a4 - b2 + c2 + c4 + 2*c5 + 3*c6 + 4*c7,\n",
       " a0 + a1 + a2 + a3 + a4,\n",
       " 2*a4 - b0 - b1 - b2 - b3 - b4 - b5,\n",
       " -a3 + a4 - b2 + c0 + c1 + c2 + c3 + c4 + c5 + c6 + c7,\n",
       " -2*a0 + 2*a1 - 2*a2 + 2*a3 - 2*a4,\n",
       " -2*a4 - b0 + b1 - b2 + b3 - b4 + b5,\n",
       " a1 - 2*a2 + 3*a3 - 6*a4 - b0 + b1 - b2 + 2*b3 - 2*b4 + 2*b5,\n",
       " -2*a3 - 8*a4 + b1 - 4*b2 - b4 + 2*b5 - 2*c0 + 3*c1 - 3*c2 - 4*c3 + 4*c4 - 4*c5 + 4*c6 - 4*c7,\n",
       " -a3 - 2*a4 - b2 - c2 + c4 - 2*c5 + 3*c6 - 4*c7,\n",
       " a0 - a1 + a2 - a3 + a4,\n",
       " 2*a4 + b0 - b1 + b2 - b3 + b4 - b5,\n",
       " a3 + a4 + b2 + c0 - c1 + c2 + c3 - c4 + c5 - c6 + c7]"
      ]
     },
     "execution_count": 30,
     "metadata": {},
     "output_type": "execute_result"
    }
   ],
   "source": [
    "linear=[]\n",
    "blow0=rela(s,t,0,0)\n",
    "for k in range(2):\n",
    "    po=Poly(blow0[k],s,t)\n",
    "    linear+=po.coeffs()\n",
    "    \n",
    "blow1=rela(s,t,1,1)\n",
    "for k in range(2):\n",
    "    po=Poly(blow1[k],s,t)\n",
    "    linear+=po.coeffs()\n",
    "    \n",
    "blow2=rela(s,t,-1,-1)\n",
    "for k in range(2):\n",
    "    po=Poly(blow2[k],s,t)\n",
    "    linear+=po.coeffs()\n",
    "linear"
   ]
  },
  {
   "cell_type": "code",
   "execution_count": 31,
   "metadata": {},
   "outputs": [
    {
     "data": {
      "text/plain": [
       "{c6: 0,\n",
       " c4: 0,\n",
       " c1: 0,\n",
       " c0: -c2/2 - c3 + c7,\n",
       " b5: -c2 + c3 - 2*c5 - 5*c7,\n",
       " b3: -c3 + c7,\n",
       " b2: -b4/2,\n",
       " b1: 0,\n",
       " b0: -b4/2,\n",
       " a3: b4/2,\n",
       " a4: -c2/2 - c5 - 2*c7,\n",
       " a2: c2/2 + c5 + 2*c7,\n",
       " a1: -b4/2,\n",
       " a0: 0}"
      ]
     },
     "execution_count": 31,
     "metadata": {},
     "output_type": "execute_result"
    }
   ],
   "source": [
    "calculate=solve(linear,\n",
    "[a0,a1,a2,a3,a4,b0,b1,b2,b3,b4,b5,c0,c1,c2,c3,c4,c5,c6,c7])\n",
    "calculate"
   ]
  },
  {
   "cell_type": "code",
   "execution_count": 32,
   "metadata": {},
   "outputs": [
    {
     "name": "stdout",
     "output_type": "stream",
     "text": [
      "b4*x**3/2 - b4*x/2 + x**4*(-c2/2 - c5 - 2*c7) + x**2*(c2/2 + c5 + 2*c7)\n",
      "y**2*(b4*x - c3 + c7 + x**2*(-c2 + c3 - 2*c5 - 5*c7)) + y*(-b4*x**2/2 - b4/2 - 2*x**3*(-c2/2 - c5 - 2*c7))\n",
      "c2*x*y**3 + y**4*(c3 + c5*x**2 + c7*x**4) + y**2*(-c2/2 - c3 + c7 + x**2*(-c2/2 - c5 - 2*c7))\n"
     ]
    }
   ],
   "source": [
    "ex1=f(x).subs(calculate)\n",
    "ex2=g(x,y).subs(calculate)\n",
    "ex3=h(x,y).subs(calculate)\n",
    "print(ex1)\n",
    "print(ex2)\n",
    "print(ex3)"
   ]
  },
  {
   "cell_type": "code",
   "execution_count": 33,
   "metadata": {},
   "outputs": [
    {
     "name": "stdout",
     "output_type": "stream",
     "text": [
      "x**3 - x\n",
      "y*(-x**2 + 2*x*y - 1)\n",
      "0\n"
     ]
    }
   ],
   "source": [
    "print(simplify(ex1.subs([(c2,0),(c3,0),(c5,0),(c7,0),(b4,2)])))\n",
    "print(simplify(ex2.subs([(c2,0),(c3,0),(c5,0),(c7,0),(b4,2)])))\n",
    "print(simplify(ex3.subs([(c2,0),(c3,0),(c5,0),(c7,0),(b4,2)])))"
   ]
  },
  {
   "cell_type": "code",
   "execution_count": 34,
   "metadata": {},
   "outputs": [
    {
     "name": "stdout",
     "output_type": "stream",
     "text": [
      "0\n",
      "y**2*(x**2 - 1)\n",
      "y**4 - y**2\n"
     ]
    }
   ],
   "source": [
    "print(simplify(ex1.subs([(c2,0),(c3,1),(c5,0),(c7,0),(b4,0)])))\n",
    "print(simplify(ex2.subs([(c2,0),(c3,1),(c5,0),(c7,0),(b4,0)])))\n",
    "print(simplify(ex3.subs([(c2,0),(c3,1),(c5,0),(c7,0),(b4,0)])))"
   ]
  },
  {
   "cell_type": "code",
   "execution_count": 35,
   "metadata": {},
   "outputs": [
    {
     "name": "stdout",
     "output_type": "stream",
     "text": [
      "0\n",
      "y**2*(x**2 - 1)\n",
      "y**2*(x**2*y**2*(-x**2 + 2) - 1)\n"
     ]
    }
   ],
   "source": [
    "print(simplify(ex1.subs([(c2,0),(c3,0),(c5,2),(c7,-1),(b4,0)])))\n",
    "print(simplify(ex2.subs([(c2,0),(c3,0),(c5,2),(c7,-1),(b4,0)])))\n",
    "print(simplify(ex3.subs([(c2,0),(c3,0),(c5,2),(c7,-1),(b4,0)])))"
   ]
  },
  {
   "cell_type": "code",
   "execution_count": 36,
   "metadata": {},
   "outputs": [],
   "source": [
    "A=Matrix([ [x**3 - x,y*(-x**2 + 2*x*y - 1),0],[0,y**2*(x**2 - 1),y**4 - y**2],[0,y**2*(x**2 - 1),y**2*(x**2*y**2*(-x**2 + 2) - 1)] ])"
   ]
  },
  {
   "cell_type": "code",
   "execution_count": 37,
   "metadata": {},
   "outputs": [
    {
     "data": {
      "text/plain": [
       "x*y**6*(-x**8 + 4*x**6 - 6*x**4 + 4*x**2 - 1)"
      ]
     },
     "execution_count": 37,
     "metadata": {},
     "output_type": "execute_result"
    }
   ],
   "source": [
    "simplify(A.det())"
   ]
  },
  {
   "cell_type": "code",
   "execution_count": 38,
   "metadata": {},
   "outputs": [
    {
     "data": {
      "text/plain": [
       "[(-1, y), (0, y), (1, y), (x, 0)]"
      ]
     },
     "execution_count": 38,
     "metadata": {},
     "output_type": "execute_result"
    }
   ],
   "source": [
    "solve(simplify(A.det()),[x,y])"
   ]
  },
  {
   "cell_type": "code",
   "execution_count": null,
   "metadata": {},
   "outputs": [],
   "source": []
  }
 ],
 "metadata": {
  "kernelspec": {
   "display_name": "python 3.6.3",
   "language": "python",
   "name": "python3.6"
  },
  "language_info": {
   "codemirror_mode": {
    "name": "ipython",
    "version": 3
   },
   "file_extension": ".py",
   "mimetype": "text/x-python",
   "name": "python",
   "nbconvert_exporter": "python",
   "pygments_lexer": "ipython3",
   "version": "3.6.3"
  },
  "toc": {
   "base_numbering": 1,
   "nav_menu": {},
   "number_sections": true,
   "sideBar": true,
   "skip_h1_title": false,
   "title_cell": "Table of Contents",
   "title_sidebar": "Contents",
   "toc_cell": false,
   "toc_position": {},
   "toc_section_display": true,
   "toc_window_display": false
  }
 },
 "nbformat": 4,
 "nbformat_minor": 2
}
