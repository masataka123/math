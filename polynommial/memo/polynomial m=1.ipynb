{
 "cells": [
  {
   "cell_type": "code",
   "execution_count": 75,
   "metadata": {},
   "outputs": [],
   "source": [
    "from sympy import *"
   ]
  },
  {
   "cell_type": "code",
   "execution_count": 76,
   "metadata": {},
   "outputs": [],
   "source": [
    "x=Symbol('x')\n",
    "y=Symbol('y')\n",
    "s=Symbol('s')\n",
    "t=Symbol('t')\n",
    "a0,a1,a2=symbols('a0:3')\n",
    "b0,b1,b2=symbols('b0:3')\n",
    "def f(x):\n",
    "    return a0+a1*x+a2*(x**2)\n",
    "def g(x):\n",
    "    return b0+b1*x+b2*(x**2)\n"
   ]
  },
  {
   "cell_type": "code",
   "execution_count": 77,
   "metadata": {},
   "outputs": [],
   "source": [
    "def rela(s,t,alpha,beta):\n",
    "    X=s+alpha\n",
    "    Y=s*t+beta\n",
    "    L1=-f(X)*t+g(Y)\n",
    "    f1=div(L1,s,s)[1]\n",
    "    return [f1]"
   ]
  },
  {
   "cell_type": "code",
   "execution_count": 78,
   "metadata": {},
   "outputs": [
    {
     "data": {
      "text/plain": [
       "[-a0, b0, -a0 - a1 - a2, b0 + b1 + b2]"
      ]
     },
     "execution_count": 78,
     "metadata": {},
     "output_type": "execute_result"
    }
   ],
   "source": [
    "linear=[]\n",
    "blow0=rela(s,t,0,0)\n",
    "for k in range(1):\n",
    "    po=Poly(blow0[k],s,t)\n",
    "    linear+=po.coeffs()\n",
    "    \n",
    "blow1=rela(s,t,1,1)\n",
    "for k in range(1):\n",
    "    po=Poly(blow1[k],s,t)\n",
    "    linear+=po.coeffs()\n",
    "\n",
    "linear"
   ]
  },
  {
   "cell_type": "code",
   "execution_count": 79,
   "metadata": {},
   "outputs": [],
   "source": [
    "calculate=solve(linear,\n",
    "[a0,a1,a2,b0,b1,b2])"
   ]
  },
  {
   "cell_type": "code",
   "execution_count": 80,
   "metadata": {},
   "outputs": [
    {
     "data": {
      "text/plain": [
       "{b1: -b2, a2: -a1, b0: 0, a0: 0}"
      ]
     },
     "execution_count": 80,
     "metadata": {},
     "output_type": "execute_result"
    }
   ],
   "source": [
    "calculate"
   ]
  },
  {
   "cell_type": "code",
   "execution_count": 81,
   "metadata": {
    "scrolled": true
   },
   "outputs": [
    {
     "data": {
      "text/plain": [
       "-a1*x**2 + a1*x"
      ]
     },
     "execution_count": 81,
     "metadata": {},
     "output_type": "execute_result"
    }
   ],
   "source": [
    "f(x).subs(calculate)"
   ]
  },
  {
   "cell_type": "code",
   "execution_count": 82,
   "metadata": {},
   "outputs": [
    {
     "data": {
      "text/plain": [
       "b2*y**2 - b2*y"
      ]
     },
     "execution_count": 82,
     "metadata": {},
     "output_type": "execute_result"
    }
   ],
   "source": [
    "g(y).subs(calculate)"
   ]
  },
  {
   "cell_type": "code",
   "execution_count": 83,
   "metadata": {},
   "outputs": [
    {
     "data": {
      "text/plain": [
       "[-a0, b0, -a0 - a1 - a2, b0 + b1 + b2, -a0 + a1 - a2, b0 - b1 + b2]"
      ]
     },
     "execution_count": 83,
     "metadata": {},
     "output_type": "execute_result"
    }
   ],
   "source": [
    "linear=[]\n",
    "blow0=rela(s,t,0,0)\n",
    "for k in range(1):\n",
    "    po=Poly(blow0[k],s,t)\n",
    "    linear+=po.coeffs()\n",
    "    \n",
    "blow1=rela(s,t,1,1)\n",
    "for k in range(1):\n",
    "    po=Poly(blow1[k],s,t)\n",
    "    linear+=po.coeffs()\n",
    "blow1=rela(s,t,-1,-1)\n",
    "for k in range(1):\n",
    "    po=Poly(blow1[k],s,t)\n",
    "    linear+=po.coeffs()\n",
    "\n",
    "\n",
    "\n",
    "linear"
   ]
  },
  {
   "cell_type": "code",
   "execution_count": 84,
   "metadata": {},
   "outputs": [],
   "source": [
    "calculate=solve(linear,\n",
    "[a0,a1,a2,b0,b1,b2])"
   ]
  },
  {
   "cell_type": "code",
   "execution_count": 85,
   "metadata": {},
   "outputs": [
    {
     "data": {
      "text/plain": [
       "{b2: 0, a1: 0, b1: 0, a2: 0, b0: 0, a0: 0}"
      ]
     },
     "execution_count": 85,
     "metadata": {},
     "output_type": "execute_result"
    }
   ],
   "source": [
    "calculate"
   ]
  },
  {
   "cell_type": "markdown",
   "metadata": {},
   "source": [
    "Hirzebruch Fm の2点ブローアップの接ベクトル束がgeneric globally generatedを調べる"
   ]
  },
  {
   "cell_type": "code",
   "execution_count": 87,
   "metadata": {},
   "outputs": [],
   "source": [
    "x=Symbol('x')\n",
    "y=Symbol('y')\n",
    "s=Symbol('s')\n",
    "t=Symbol('t')\n",
    "m=Symbol('m')\n",
    "a0,a1,a2=symbols('a0:3')\n",
    "b0,b1,b2=symbols('b0:3')\n",
    "#b0,b1,b2,b3=symbols('b0:4')\n",
    "def f(x):\n",
    "    return a0+a1*x+a2*(x**2)\n",
    "def g(x,y):\n",
    "    return (b1-m*a2*x)*y+(b2)*(y**2)#(b1+m*a2*x)*y+(b2+b3*x)*(y**2)"
   ]
  },
  {
   "cell_type": "code",
   "execution_count": 88,
   "metadata": {},
   "outputs": [],
   "source": [
    "def rela(s,t,alpha,beta):\n",
    "    X=s+alpha\n",
    "    Y=s*t+beta\n",
    "    L1=-f(X)*t+g(X,Y)\n",
    "    f1=div(L1,s,s)[1]\n",
    "    return [f1]"
   ]
  },
  {
   "cell_type": "code",
   "execution_count": 89,
   "metadata": {},
   "outputs": [],
   "source": [
    "linear=[]\n",
    "blow0=rela(s,t,0,0)\n",
    "for k in range(1):\n",
    "    po=Poly(blow0[k],s,t)\n",
    "    linear+=po.coeffs()\n",
    "    \n",
    "blow1=rela(s,t,1,1)\n",
    "for k in range(1):\n",
    "    po=Poly(blow1[k],s,t)\n",
    "    linear+=po.coeffs()\n"
   ]
  },
  {
   "cell_type": "code",
   "execution_count": 90,
   "metadata": {},
   "outputs": [
    {
     "data": {
      "text/plain": [
       "[-a0, -a0 - a1 - a2, -a2*m + b1 + b2]"
      ]
     },
     "execution_count": 90,
     "metadata": {},
     "output_type": "execute_result"
    }
   ],
   "source": [
    "linear"
   ]
  },
  {
   "cell_type": "code",
   "execution_count": 91,
   "metadata": {},
   "outputs": [],
   "source": [
    "calculate=solve(linear,\n",
    "[a0,a1,a2,b1,b2])"
   ]
  },
  {
   "cell_type": "code",
   "execution_count": 92,
   "metadata": {},
   "outputs": [
    {
     "data": {
      "text/plain": [
       "{a2: (b1 + b2)/m, a1: -(b1 + b2)/m, a0: 0}"
      ]
     },
     "execution_count": 92,
     "metadata": {},
     "output_type": "execute_result"
    }
   ],
   "source": [
    "calculate"
   ]
  },
  {
   "cell_type": "code",
   "execution_count": 93,
   "metadata": {},
   "outputs": [
    {
     "data": {
      "text/plain": [
       "x**2*(b1 + b2)/m - x*(b1 + b2)/m"
      ]
     },
     "execution_count": 93,
     "metadata": {},
     "output_type": "execute_result"
    }
   ],
   "source": [
    "f(x).subs(calculate)"
   ]
  },
  {
   "cell_type": "code",
   "execution_count": 94,
   "metadata": {},
   "outputs": [
    {
     "data": {
      "text/plain": [
       "b2*y**2 + y*(b1 - x*(b1 + b2))"
      ]
     },
     "execution_count": 94,
     "metadata": {},
     "output_type": "execute_result"
    }
   ],
   "source": [
    "g(x,y).subs(calculate)"
   ]
  },
  {
   "cell_type": "code",
   "execution_count": 101,
   "metadata": {},
   "outputs": [
    {
     "data": {
      "text/plain": [
       "x**2 - x"
      ]
     },
     "execution_count": 101,
     "metadata": {},
     "output_type": "execute_result"
    }
   ],
   "source": [
    "ex1=f(x).subs(calculate)\n",
    "ex1.subs([(b1,0),(b2,m)])"
   ]
  },
  {
   "cell_type": "code",
   "execution_count": 102,
   "metadata": {},
   "outputs": [
    {
     "data": {
      "text/plain": [
       "-m*x*y + m*y**2"
      ]
     },
     "execution_count": 102,
     "metadata": {},
     "output_type": "execute_result"
    }
   ],
   "source": [
    "ex2=g(x,y).subs(calculate)\n",
    "ex2.subs([(b1,0),(b2,m)])"
   ]
  },
  {
   "cell_type": "code",
   "execution_count": 103,
   "metadata": {},
   "outputs": [
    {
     "data": {
      "text/plain": [
       "x**2 - x"
      ]
     },
     "execution_count": 103,
     "metadata": {},
     "output_type": "execute_result"
    }
   ],
   "source": [
    "ex1=f(x).subs(calculate)\n",
    "ex1.subs([(b1,m),(b2,0)])"
   ]
  },
  {
   "cell_type": "code",
   "execution_count": 104,
   "metadata": {},
   "outputs": [
    {
     "data": {
      "text/plain": [
       "y*(-m*x + m)"
      ]
     },
     "execution_count": 104,
     "metadata": {},
     "output_type": "execute_result"
    }
   ],
   "source": [
    "ex2=g(x,y).subs(calculate)\n",
    "ex2.subs([(b1,m),(b2,0)])"
   ]
  },
  {
   "cell_type": "markdown",
   "metadata": {},
   "source": [
    "m>=2の時"
   ]
  },
  {
   "cell_type": "code",
   "execution_count": 69,
   "metadata": {},
   "outputs": [],
   "source": [
    "x=Symbol('x')\n",
    "y=Symbol('y')\n",
    "s=Symbol('s')\n",
    "t=Symbol('t')\n",
    "m=Symbol('m')\n",
    "a0,a1,a2=symbols('a0:3')\n",
    "#b0,b1,b2=symbols('b0:3')\n",
    "b0,b1,b2,b3,b4=symbols('b0:5')\n",
    "def f(x):\n",
    "    return a0+a1*x+a2*(x**2)\n",
    "def g(x,y):\n",
    "    return (b1+m*a2*x)*y+(b2+b3*x+b4*(x**2))*(y**2)"
   ]
  },
  {
   "cell_type": "code",
   "execution_count": 70,
   "metadata": {},
   "outputs": [],
   "source": [
    "linear=[]\n",
    "blow0=rela(s,t,0,0)\n",
    "for k in range(1):\n",
    "    po=Poly(blow0[k],s,t)\n",
    "    linear+=po.coeffs()\n",
    "    \n",
    "blow1=rela(s,t,1,1)\n",
    "for k in range(1):\n",
    "    po=Poly(blow1[k],s,t)\n",
    "    linear+=po.coeffs()\n",
    "blow1=rela(s,t,-1,-1)\n",
    "for k in range(1):\n",
    "    po=Poly(blow1[k],s,t)\n",
    "    linear+=po.coeffs()"
   ]
  },
  {
   "cell_type": "code",
   "execution_count": 71,
   "metadata": {},
   "outputs": [
    {
     "data": {
      "text/plain": [
       "{b2: -b4, b1: -b3, a2: 0, a1: 0, a0: 0}"
      ]
     },
     "execution_count": 71,
     "metadata": {},
     "output_type": "execute_result"
    }
   ],
   "source": [
    "calculate=solve(linear,\n",
    "[a0,a1,a2,b1,b2,b3,b4])\n",
    "calculate"
   ]
  },
  {
   "cell_type": "code",
   "execution_count": 74,
   "metadata": {},
   "outputs": [
    {
     "data": {
      "text/plain": [
       "0"
      ]
     },
     "execution_count": 74,
     "metadata": {},
     "output_type": "execute_result"
    }
   ],
   "source": [
    "f(x).subs(calculate)"
   ]
  },
  {
   "cell_type": "code",
   "execution_count": null,
   "metadata": {},
   "outputs": [],
   "source": []
  }
 ],
 "metadata": {
  "kernelspec": {
   "display_name": "python 3.6.3",
   "language": "python",
   "name": "python3.6"
  },
  "language_info": {
   "codemirror_mode": {
    "name": "ipython",
    "version": 3
   },
   "file_extension": ".py",
   "mimetype": "text/x-python",
   "name": "python",
   "nbconvert_exporter": "python",
   "pygments_lexer": "ipython3",
   "version": "3.6.3"
  },
  "toc": {
   "base_numbering": 1,
   "nav_menu": {},
   "number_sections": true,
   "sideBar": true,
   "skip_h1_title": false,
   "title_cell": "Table of Contents",
   "title_sidebar": "Contents",
   "toc_cell": false,
   "toc_position": {},
   "toc_section_display": true,
   "toc_window_display": false
  }
 },
 "nbformat": 4,
 "nbformat_minor": 2
}
