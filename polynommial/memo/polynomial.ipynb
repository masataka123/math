{
 "cells": [
  {
   "cell_type": "code",
   "execution_count": 172,
   "metadata": {},
   "outputs": [],
   "source": [
    "from sympy import *"
   ]
  },
  {
   "cell_type": "code",
   "execution_count": 173,
   "metadata": {},
   "outputs": [],
   "source": [
    "x=Symbol('x')\n",
    "y=Symbol('y')\n",
    "s=Symbol('s')\n",
    "t=Symbol('t')"
   ]
  },
  {
   "cell_type": "code",
   "execution_count": 174,
   "metadata": {},
   "outputs": [],
   "source": [
    "a0,a1,a2,a3,a4=symbols('a0:5')"
   ]
  },
  {
   "cell_type": "code",
   "execution_count": 175,
   "metadata": {},
   "outputs": [],
   "source": [
    "c0,c1,c2,c3,c4=symbols('c0:5')"
   ]
  },
  {
   "cell_type": "code",
   "execution_count": 176,
   "metadata": {},
   "outputs": [],
   "source": [
    "b0,b1,b2,b3,b4,b5,b6,b7,b8=symbols('b0:9')"
   ]
  },
  {
   "cell_type": "code",
   "execution_count": 177,
   "metadata": {},
   "outputs": [],
   "source": [
    "f = a0+a1*x+a2*(x**2)+a3*(x**3)+a4*(x**4)"
   ]
  },
  {
   "cell_type": "code",
   "execution_count": 178,
   "metadata": {},
   "outputs": [],
   "source": [
    "def f(x):\n",
    "    return a0+a1*x+a2*(x**2)+a3*(x**3)+a4*(x**4)"
   ]
  },
  {
   "cell_type": "code",
   "execution_count": 179,
   "metadata": {},
   "outputs": [],
   "source": [
    "def g(x,y):\n",
    "    return b0+b1*x+b2*(x**2)+b3*y+b4*x*y+b5*(x**2)*y+b6*(y**2)+b7*x*(y**2)+b8*(x**2)*y**2"
   ]
  },
  {
   "cell_type": "code",
   "execution_count": 180,
   "metadata": {},
   "outputs": [],
   "source": [
    "def h(x):\n",
    "    return c0+c1*x+c2*(x**2)+c3*(x**3)+c4*(x**4)"
   ]
  },
  {
   "cell_type": "code",
   "execution_count": 20,
   "metadata": {
    "collapsed": true
   },
   "outputs": [
    {
     "data": {
      "text/plain": [
       "(a1 + a2*x + 12*a2 + a3*x**2 + 18*a3*x + 108*a3 + a4*x**3 + 24*a4*x**2 + 216*a4*x + 864*a4,\n",
       " a0 + 6*a1 + 36*a2 + 216*a3 + 1296*a4)"
      ]
     },
     "execution_count": 20,
     "metadata": {},
     "output_type": "execute_result"
    }
   ],
   "source": [
    "div(f(),x)"
   ]
  },
  {
   "cell_type": "code",
   "execution_count": 76,
   "metadata": {},
   "outputs": [],
   "source": [
    "def rela(s,t,alpha,beta):\n",
    "    X=s+alpha\n",
    "    Y=s*t+beta\n",
    "    L1=f(X)*t+g(X,Y)\n",
    "    L2=f(X)*t*t+g(X,Y)*t+h(Y)\n",
    "    f1=div(L1,s)[1]\n",
    "    f2=div(L2,s**2)[1]\n",
    "    #return f2,f2.coefficients(t)\n",
    "    ans1 = [f1,simplify( f1-f1.coeff(t)*t-f1.coeff(t**2)*(t**2) ) ,f1.coeff(t**1),f1.coeff(t**2)]\n",
    "    ans2 = [f2,simplify( f2-f2.coeff(t)*t-f2.coeff(t**2)*(t**2) ) ,f2.coeff(t**1),f2.coeff(t**2)]\n",
    "    return ans1,ans2\n",
    "    #return div(L1,s)"
   ]
  },
  {
   "cell_type": "code",
   "execution_count": 93,
   "metadata": {},
   "outputs": [],
   "source": [
    "def rela(s,t,alpha,beta):\n",
    "    X=s+alpha\n",
    "    Y=s*t+beta\n",
    "    L1=f(X)*t+g(X,Y)\n",
    "    L2=f(X)*t*t+g(X,Y)*t+h(Y)\n",
    "    f1=div(L1,s)[1]\n",
    "    f2=div(L2,s**2)[1]\n",
    "    #return f2,f2.coefficients(t)\n",
    "    ans1 = [f1,simplify( f1-f1.coeff(t)*t-f1.coeff(t**2)*(t**2) ) ,f1.coeff(t**1),f1.coeff(t**2) ]\n",
    "    ans2 = [f2,simplify( f2-f2.coeff(t)*t-f2.coeff(t**2)*(t**2) ) ,simplify (f2.coeff(t**1)-f2.coeff(s*t)*s),\n",
    "            f2.coeff(s*t),simplify ( f2.coeff(t**2)- f2.coeff(s*t**2)*s ) , f2.coeff(s*t**2) ]\n",
    "    return ans1,ans2"
   ]
  },
  {
   "cell_type": "code",
   "execution_count": 181,
   "metadata": {},
   "outputs": [],
   "source": [
    "def rela(s,t,alpha,beta):\n",
    "    X=s+alpha\n",
    "    Y=s*t+beta\n",
    "    L1=f(X)*t+g(X,Y)\n",
    "    L2=f(X)*t*t+g(X,Y)*t+h(Y)\n",
    "    f1=div(L1,s)[1]\n",
    "    f2=div(L2,s**2)[1]\n",
    "    #return f2,f2.coefficients(t)\n",
    "    ans1 = [simplify( f1-f1.coeff(t)*t-f1.coeff(t**2)*(t**2) ) ,f1.coeff(t**1),f1.coeff(t**2) ]\n",
    "    ans2 = [simplify( f2-f2.coeff(t)*t-f2.coeff(t**2)*(t**2) ) ,simplify (f2.coeff(t**1)-f2.coeff(s*t)*s),\n",
    "            f2.coeff(s*t),simplify ( f2.coeff(t**2)- f2.coeff(s*t**2)*s ) , f2.coeff(s*t**2) ]\n",
    "    return ans1,ans2"
   ]
  },
  {
   "cell_type": "code",
   "execution_count": 182,
   "metadata": {},
   "outputs": [],
   "source": [
    "u=Symbol('u')\n",
    "v=Symbol('v')"
   ]
  },
  {
   "cell_type": "code",
   "execution_count": 183,
   "metadata": {},
   "outputs": [
    {
     "data": {
      "text/plain": [
       "([b0, a0, 0], [c0, b0, b1 + c1, a0, a1 + b3])"
      ]
     },
     "execution_count": 183,
     "metadata": {},
     "output_type": "execute_result"
    }
   ],
   "source": [
    "rela(s,t,0,0)"
   ]
  },
  {
   "cell_type": "code",
   "execution_count": 184,
   "metadata": {},
   "outputs": [
    {
     "data": {
      "text/plain": [
       "([b0 + b1 + b2 + b3*u + b4*u + b5*u + b6*u**2 + b7*u**2 + b8*u**2,\n",
       "  a0 + a1 + a2 + a3 + a4,\n",
       "  0],\n",
       " [c0 + c1*u + c2*u**2 + c3*u**3 + c4*u**4,\n",
       "  b0 + b1 + b2 + b3*u + b4*u + b5*u + b6*u**2 + b7*u**2 + b8*u**2,\n",
       "  b1 + 2*b2 + b4*u + 2*b5*u + b7*u**2 + 2*b8*u**2 + c1 + 2*c2*u + 3*c3*u**2 + 4*c4*u**3,\n",
       "  a0 + a1 + a2 + a3 + a4,\n",
       "  a1 + 2*a2 + 3*a3 + 4*a4 + b3 + b4 + b5 + 2*b6*u + 2*b7*u + 2*b8*u])"
      ]
     },
     "execution_count": 184,
     "metadata": {},
     "output_type": "execute_result"
    }
   ],
   "source": [
    "rela(s,t,1,u)"
   ]
  },
  {
   "cell_type": "code",
   "execution_count": 185,
   "metadata": {},
   "outputs": [
    {
     "data": {
      "text/plain": [
       "([b0 - b1 + b2 + b3*v - b4*v + b5*v + b6*v**2 - b7*v**2 + b8*v**2,\n",
       "  a0 - a1 + a2 - a3 + a4,\n",
       "  0],\n",
       " [c0 + c1*v + c2*v**2 + c3*v**3 + c4*v**4,\n",
       "  b0 - b1 + b2 + b3*v - b4*v + b5*v + b6*v**2 - b7*v**2 + b8*v**2,\n",
       "  b1 - 2*b2 + b4*v - 2*b5*v + b7*v**2 - 2*b8*v**2 + c1 + 2*c2*v + 3*c3*v**2 + 4*c4*v**3,\n",
       "  a0 - a1 + a2 - a3 + a4,\n",
       "  a1 - 2*a2 + 3*a3 - 4*a4 + b3 - b4 + b5 + 2*b6*v - 2*b7*v + 2*b8*v])"
      ]
     },
     "execution_count": 185,
     "metadata": {},
     "output_type": "execute_result"
    }
   ],
   "source": [
    "rela(s,t,-1,v)"
   ]
  },
  {
   "cell_type": "code",
   "execution_count": 102,
   "metadata": {},
   "outputs": [
    {
     "data": {
      "text/plain": [
       "([b0, a0, 0], [c0, b0, b1 + c1, a0, a1 + b3])"
      ]
     },
     "execution_count": 102,
     "metadata": {},
     "output_type": "execute_result"
    }
   ],
   "source": [
    "rela(s,t,0,0)"
   ]
  },
  {
   "cell_type": "code",
   "execution_count": 135,
   "metadata": {},
   "outputs": [
    {
     "data": {
      "text/plain": [
       "{a1: -b3, b1: -c1, c0: 0, a0: 0, b0: 0}"
      ]
     },
     "execution_count": 135,
     "metadata": {},
     "output_type": "execute_result"
    }
   ],
   "source": [
    "poly=rela(s,t,0,0)\n",
    "solve(poly[0]+poly[1] ,[a0,a1,a2,a3,a4,b0,b1,b2,b3,b4,b5,b6,b7,b8,c0,c1,c2,c3,c4])"
   ]
  },
  {
   "cell_type": "code",
   "execution_count": 134,
   "metadata": {},
   "outputs": [
    {
     "data": {
      "text/plain": [
       "[b0, a0, 0, c0, b0, b1 + c1, a0, a1 + b3]"
      ]
     },
     "execution_count": 134,
     "metadata": {},
     "output_type": "execute_result"
    }
   ],
   "source": [
    "poly[0] +poly[1]"
   ]
  },
  {
   "cell_type": "code",
   "execution_count": 136,
   "metadata": {
    "collapsed": true
   },
   "outputs": [
    {
     "data": {
      "text/plain": [
       "{b8: -(4*a4 + b7*u + b7*v + c3*u + c3*v + 2*c4*u**2 + 2*c4*v**2)/(2*u - 2*v),\n",
       " c2: -(c3*(u**2 - v**2) + c4*(u**3 - v**3))/(u - v),\n",
       " a2: -a4,\n",
       " b5: (8*a4*u + 8*a4*v + 2*b6*u**2 - 2*b6*v**2 + b7*u**2 + 6*b7*u*v + b7*v**2 - c3*u**2 + 10*c3*u*v - c3*v**2 - 2*c4*u**3 + 10*c4*u**2*v + 10*c4*u*v**2 - 2*c4*v**3)/(4*u - 4*v),\n",
       " b4: -b6*u + b6*v - b7*u/2 - b7*v/2 + c3*u/2 + c3*v/2 + c4*u**2 + c4*v**2,\n",
       " b3: -b6*u/2 - b6*v/2 - b7*u/4 + b7*v/4 + c3*u/4 - c3*v/4 + c4*u**2/2 - c4*v**2/2,\n",
       " c1: u*v*(c3 + c4*u + c4*v),\n",
       " a3: -b6*u/2 - b6*v/2 - b7*u/4 + b7*v/4 + c3*u/4 - c3*v/4 + c4*u**2/2 - c4*v**2/2,\n",
       " b2: -u*v*(4*a4 + 2*b6*u - 2*b6*v + b7*u + b7*v + c3*u + c3*v + 4*c4*u*v)/(2*u - 2*v),\n",
       " a1: b6*u/2 + b6*v/2 + b7*u/4 - b7*v/4 - c3*u/4 + c3*v/4 - c4*u**2/2 + c4*v**2/2,\n",
       " b1: -u*v*(c3 + c4*u + c4*v),\n",
       " c0: 0,\n",
       " a0: 0,\n",
       " b0: 0}"
      ]
     },
     "execution_count": 136,
     "metadata": {},
     "output_type": "execute_result"
    }
   ],
   "source": [
    "poly=rela(s,t,0,0)\n",
    "poly1=rela(s,t,1,u)\n",
    "poly2=rela(s,t,-1,v)\n",
    "solve(poly[0]+poly[1]+poly1[0]+poly1[1]+poly2[0]+poly2[1] ,[a0,a1,a2,a3,a4,b0,b1,b2,b3,b4,b5,b6,b7,b8,c0,c1,c2,c3,c4])"
   ]
  },
  {
   "cell_type": "code",
   "execution_count": 186,
   "metadata": {},
   "outputs": [
    {
     "data": {
      "text/plain": [
       "{b8: -10.0*a4 - 5.0*b7 - 5.0*c3 - 10.1*c4,\n",
       " c2: -2.0*c3 - 3.01*c4,\n",
       " a2: -a4,\n",
       " b5: 20.0*a4 + b6 + 9.95*b7 + 9.85*c3 + 19.6*c4,\n",
       " b4: -0.2*b6 - b7 + c3 + 2.02*c4,\n",
       " b3: -b6 - 0.05*b7 + 0.05*c3 + 0.2*c4,\n",
       " c1: 0.99*c3 + 1.98*c4,\n",
       " a3: -b6 - 0.05*b7 + 0.05*c3 + 0.2*c4,\n",
       " b2: -9.9*a4 - 0.99*b6 - 4.95*b7 - 4.95*c3 - 9.801*c4,\n",
       " a1: b6 + 0.05*b7 - 0.05*c3 - 0.2*c4,\n",
       " b1: -0.99*c3 - 1.98*c4,\n",
       " c0: 0.0,\n",
       " a0: 0.0,\n",
       " b0: 0.0}"
      ]
     },
     "execution_count": 186,
     "metadata": {},
     "output_type": "execute_result"
    }
   ],
   "source": [
    "poly=rela(s,t,0,0)\n",
    "poly1=rela(s,t,1,1.1)\n",
    "poly2=rela(s,t,-1,0.9)\n",
    "solve(poly[0]+poly[1]+poly1[0]+poly1[1]+poly2[0]+poly2[1] ,[a0,a1,a2,a3,a4,b0,b1,b2,b3,b4,b5,b6,b7,b8,c0,c1,c2,c3,c4])"
   ]
  },
  {
   "cell_type": "code",
   "execution_count": null,
   "metadata": {},
   "outputs": [],
   "source": [
    "#survive a4,b6,b7,c3"
   ]
  },
  {
   "cell_type": "code",
   "execution_count": 187,
   "metadata": {},
   "outputs": [],
   "source": [
    "calculate=solve(poly[0]+poly[1]+poly1[0]+poly1[1]+poly2[0]+poly2[1] ,[a0,a1,a2,a3,a4,b0,b1,b2,b3,b4,b5,b6,b7,b8,c0,c1,c2,c3,c4])"
   ]
  },
  {
   "cell_type": "code",
   "execution_count": 188,
   "metadata": {},
   "outputs": [
    {
     "data": {
      "text/plain": [
       "{b8: -10.0*a4 - 5.0*b7 - 5.0*c3 - 10.1*c4,\n",
       " c2: -2.0*c3 - 3.01*c4,\n",
       " a2: -a4,\n",
       " b5: 20.0*a4 + b6 + 9.95*b7 + 9.85*c3 + 19.6*c4,\n",
       " b4: -0.2*b6 - b7 + c3 + 2.02*c4,\n",
       " b3: -b6 - 0.05*b7 + 0.05*c3 + 0.2*c4,\n",
       " c1: 0.99*c3 + 1.98*c4,\n",
       " a3: -b6 - 0.05*b7 + 0.05*c3 + 0.2*c4,\n",
       " b2: -9.9*a4 - 0.99*b6 - 4.95*b7 - 4.95*c3 - 9.801*c4,\n",
       " a1: b6 + 0.05*b7 - 0.05*c3 - 0.2*c4,\n",
       " b1: -0.99*c3 - 1.98*c4,\n",
       " c0: 0.0,\n",
       " a0: 0.0,\n",
       " b0: 0.0}"
      ]
     },
     "execution_count": 188,
     "metadata": {},
     "output_type": "execute_result"
    }
   ],
   "source": [
    "calculate"
   ]
  },
  {
   "cell_type": "code",
   "execution_count": 194,
   "metadata": {},
   "outputs": [
    {
     "data": {
      "text/plain": [
       "[-3.479375*c4*x**4 + 13.9175*c4*x**3 + 3.479375*c4*x**2 - 13.9175*c4*x, 0, 0]"
      ]
     },
     "execution_count": 194,
     "metadata": {},
     "output_type": "execute_result"
    }
   ],
   "source": [
    "f(x).subs(calculate)\n",
    "ex=f(x).subs(calculate)\n",
    "L1=[ex.subs([(a4,0),(b6,0),(b7,0),(c3,0)]),ex.subs([(c4,0),(b6,0),(b7,0),(c3,0)]),\n",
    "    ex.subs([(a4,0),(c4,0),(b7,0),(c3,0)])]\n",
    "L1"
   ]
  },
  {
   "cell_type": "code",
   "execution_count": 195,
   "metadata": {},
   "outputs": [
    {
     "data": {
      "text/plain": [
       "[-6.184375*c4*x**2*y**2 + 40.220625*c4*x**2*y - 54.84171875*c4*x**2 - 14.06*c4*x*y + 26.999*c4*x - 4.325*c4*y**2 + 13.9175*c4*y,\n",
       " 0,\n",
       " 0]"
      ]
     },
     "execution_count": 195,
     "metadata": {},
     "output_type": "execute_result"
    }
   ],
   "source": [
    "g(x,y).subs(calculate)\n",
    "ex2=g(x,y).subs(calculate)\n",
    "L2=[ex2.subs([(a4,0) , (b6,0),(b7,0),(c3,0)]),ex2.subs([(c4,0) , \n",
    "                                                      (b6,0),(b7,0),(c3,0)]),ex2.subs([(a4,0),(c4,0),(b7,0),(c3,0)])]\n",
    "L2"
   ]
  },
  {
   "cell_type": "code",
   "execution_count": 196,
   "metadata": {},
   "outputs": [
    {
     "data": {
      "text/plain": [
       "[c4*y**4 - 9.7*c4*y**3 + 29.03*c4*y**2 - 26.999*c4*y, 0, 0]"
      ]
     },
     "execution_count": 196,
     "metadata": {},
     "output_type": "execute_result"
    }
   ],
   "source": [
    "h(y).subs(calculate)\n",
    "ex3=h(y).subs(calculate)\n",
    "L3=[ex3.subs([(a4,0) , (b6,0),(b7,0),(c3,0)]),\n",
    "    ex3.subs([(c4,0) , (b6,0),(b7,0),(c3,0)]),ex3.subs([(a4,0) , (c4,0),(b7,0),(c3,0)])]\n",
    "L3"
   ]
  },
  {
   "cell_type": "code",
   "execution_count": 192,
   "metadata": {},
   "outputs": [
    {
     "data": {
      "text/plain": [
       "{c3: -9.7*c4,\n",
       " a4: 1.58125*b7 - 3.479375*c4,\n",
       " b6: 1.75*b7 - 4.325*c4,\n",
       " b8: 3.53125*b7 - 6.184375*c4,\n",
       " c2: 29.03*c4,\n",
       " a2: -1.58125*b7 + 3.479375*c4,\n",
       " b5: -20.21875*b7 + 40.220625*c4,\n",
       " b4: -0.4*b7 - 14.06*c4,\n",
       " b3: -6.325*b7 + 13.9175*c4,\n",
       " c1: -26.999*c4,\n",
       " a3: -6.325*b7 + 13.9175*c4,\n",
       " b2: 25.3115625*b7 - 54.84171875*c4,\n",
       " a1: 6.325*b7 - 13.9175*c4,\n",
       " b1: 26.999*c4,\n",
       " c0: 0.0,\n",
       " a0: 0.0,\n",
       " b0: 0.0}"
      ]
     },
     "execution_count": 192,
     "metadata": {},
     "output_type": "execute_result"
    }
   ],
   "source": [
    "w=Symbol('w')\n",
    "poly=rela(s,t,0,0)\n",
    "poly1=rela(s,t,1,2.9)\n",
    "poly2=rela(s,t,-1,4.9)\n",
    "poly3=rela(s,t,4,1.9)\n",
    "solve(poly[0]+poly[1]+poly1[0]+poly1[1]+poly2[0]+poly2[1]+poly3[0]+poly3[1] ,[a0,a1,a2,a3,a4,b0,b1,b2,b3,b4,b5,b6,b7,b8,c0,c1,c2,c3,c4])"
   ]
  },
  {
   "cell_type": "code",
   "execution_count": 193,
   "metadata": {},
   "outputs": [],
   "source": [
    "calculate=solve(poly[0]+poly[1]+poly1[0]+poly1[1]+poly2[0]+poly2[1]+poly3[0]+poly3[1] ,[a0,a1,a2,a3,a4,b0,b1,b2,b3,b4,b5,b6,b7,b8,c0,c1,c2,c3,c4])"
   ]
  },
  {
   "cell_type": "code",
   "execution_count": null,
   "metadata": {},
   "outputs": [],
   "source": []
  }
 ],
 "metadata": {
  "kernelspec": {
   "display_name": "python 3.6.3",
   "language": "python",
   "name": "python3.6"
  },
  "language_info": {
   "codemirror_mode": {
    "name": "ipython",
    "version": 3
   },
   "file_extension": ".py",
   "mimetype": "text/x-python",
   "name": "python",
   "nbconvert_exporter": "python",
   "pygments_lexer": "ipython3",
   "version": "3.6.3"
  },
  "toc": {
   "base_numbering": 1,
   "nav_menu": {},
   "number_sections": true,
   "sideBar": true,
   "skip_h1_title": false,
   "title_cell": "Table of Contents",
   "title_sidebar": "Contents",
   "toc_cell": false,
   "toc_position": {},
   "toc_section_display": true,
   "toc_window_display": false
  }
 },
 "nbformat": 4,
 "nbformat_minor": 2
}
