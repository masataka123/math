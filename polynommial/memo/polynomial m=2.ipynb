{
 "cells": [
  {
   "cell_type": "code",
   "execution_count": 79,
   "metadata": {},
   "outputs": [],
   "source": [
    "from sympy import *"
   ]
  },
  {
   "cell_type": "code",
   "execution_count": 80,
   "metadata": {},
   "outputs": [],
   "source": [
    "a0,a1,a2,a3,a4=symbols('a0:5')\n",
    "b0,b1,b2,b3,b4,b5,b6,b7,b8=symbols('b0:9')\n",
    "c0,c1,c2,c3,c4=symbols('c0:5')"
   ]
  },
  {
   "cell_type": "code",
   "execution_count": 81,
   "metadata": {},
   "outputs": [],
   "source": [
    "def f(x):\n",
    "    return a0+a1*x+a2*(x**2)+a3*(x**3)+a4*(x**4)"
   ]
  },
  {
   "cell_type": "code",
   "execution_count": 82,
   "metadata": {},
   "outputs": [],
   "source": [
    "def g(x,y):\n",
    "    return b0+b1*x+b2*(x**2)+b3*y+b4*x*y+b5*(x**2)*y+b6*(y**2)+b7*x*(y**2)+b8*(x**2)*y**2"
   ]
  },
  {
   "cell_type": "code",
   "execution_count": 83,
   "metadata": {},
   "outputs": [],
   "source": [
    "def h(x):\n",
    "    return c0+c1*x+c2*(x**2)+c3*(x**3)+c4*(x**4)"
   ]
  },
  {
   "cell_type": "code",
   "execution_count": 84,
   "metadata": {},
   "outputs": [],
   "source": [
    "def rela(s,t,alpha,beta):\n",
    "    X=s+alpha\n",
    "    Y=s*t+beta\n",
    "    L1=f(X)*t+g(X,Y)\n",
    "    L2=f(X)*t*t+g(X,Y)*t+h(Y)\n",
    "    f1=div(L1,s,s)[1]\n",
    "    f2=div(L2,s**2,s)[1]\n",
    "    return f1,f2"
   ]
  },
  {
   "cell_type": "code",
   "execution_count": 85,
   "metadata": {},
   "outputs": [
    {
     "name": "stdout",
     "output_type": "stream",
     "text": [
      "a0*t + b0\n",
      "a0*t**2 + b0*t + c0 + s*(a1*t**2 + b1*t + b3*t**2 + c1*t)\n",
      "[a0, b0]\n",
      "[a1 + b3, b1 + c1, a0, b0, c0]\n"
     ]
    }
   ],
   "source": [
    "blow0=rela(s,t,0,0)\n",
    "print(blow0[0])\n",
    "print(blow0[1])\n",
    "print(Poly(blow0[0],s,t).coeffs())\n",
    "print(Poly(blow0[1],s,t).coeffs())"
   ]
  },
  {
   "cell_type": "code",
   "execution_count": 86,
   "metadata": {},
   "outputs": [
    {
     "data": {
      "text/plain": [
       "[a0,\n",
       " b0,\n",
       " a1 + b3,\n",
       " b1 + c1,\n",
       " a0,\n",
       " b0,\n",
       " c0,\n",
       " a0 + a1 + a2 + a3 + a4,\n",
       " b0 + b1 + b2 + b3 + b4 + b5 + b6 + b7 + b8,\n",
       " a1 + 2*a2 + 3*a3 + 4*a4 + b3 + b4 + b5 + 2*b6 + 2*b7 + 2*b8,\n",
       " b1 + 2*b2 + b4 + 2*b5 + b7 + 2*b8 + c1 + 2*c2 + 3*c3 + 4*c4,\n",
       " a0 + a1 + a2 + a3 + a4,\n",
       " b0 + b1 + b2 + b3 + b4 + b5 + b6 + b7 + b8,\n",
       " c0 + c1 + c2 + c3 + c4,\n",
       " a0 - a1 + a2 - a3 + a4,\n",
       " b0 - b1 + b2 - b3 + b4 - b5 + b6 - b7 + b8,\n",
       " a1 - 2*a2 + 3*a3 - 4*a4 + b3 - b4 + b5 - 2*b6 + 2*b7 - 2*b8,\n",
       " b1 - 2*b2 - b4 + 2*b5 + b7 - 2*b8 + c1 - 2*c2 + 3*c3 - 4*c4,\n",
       " a0 - a1 + a2 - a3 + a4,\n",
       " b0 - b1 + b2 - b3 + b4 - b5 + b6 - b7 + b8,\n",
       " c0 - c1 + c2 - c3 + c4]"
      ]
     },
     "execution_count": 86,
     "metadata": {},
     "output_type": "execute_result"
    }
   ],
   "source": [
    "linear=[]\n",
    "blow0=rela(s,t,0,0)\n",
    "for k in range(2):\n",
    "    po=Poly(blow0[k],s,t)\n",
    "    linear+=po.coeffs()\n",
    "    \n",
    "blow1=rela(s,t,1,1)\n",
    "for k in range(2):\n",
    "    po=Poly(blow1[k],s,t)\n",
    "    linear+=po.coeffs()\n",
    "    \n",
    "blow2=rela(s,t,-1,-1)\n",
    "for k in range(2):\n",
    "    po=Poly(blow2[k],s,t)\n",
    "    linear+=po.coeffs()\n",
    "linear"
   ]
  },
  {
   "cell_type": "code",
   "execution_count": 87,
   "metadata": {},
   "outputs": [],
   "source": [
    "calculate=solve(linear,\n",
    "[a0,a1,a2,a3,a4,b0,b1,b2,b3,b4,b5,b6,b7,b8,c0,c1,c2,c3,c4])"
   ]
  },
  {
   "cell_type": "code",
   "execution_count": 88,
   "metadata": {},
   "outputs": [
    {
     "data": {
      "text/plain": [
       "{c2: -c4,\n",
       " b6: -b4/2 + c4,\n",
       " b8: -a4 - c4,\n",
       " b5: -b7/2 - 3*c3/2,\n",
       " c1: -c3,\n",
       " b3: -b7/2 + c3/2,\n",
       " a3: -b7/2 + c3/2,\n",
       " b2: a4 - b4/2,\n",
       " a2: -a4,\n",
       " c0: 0,\n",
       " b1: c3,\n",
       " a1: b7/2 - c3/2,\n",
       " b0: 0,\n",
       " a0: 0}"
      ]
     },
     "execution_count": 88,
     "metadata": {},
     "output_type": "execute_result"
    }
   ],
   "source": [
    "calculate"
   ]
  },
  {
   "cell_type": "code",
   "execution_count": 93,
   "metadata": {},
   "outputs": [
    {
     "name": "stdout",
     "output_type": "stream",
     "text": [
      "a4*x**4 - a4*x**2 + x**3*(-b7/2 + c3/2) + x*(b7/2 - c3/2)\n"
     ]
    }
   ],
   "source": [
    "print(f(x).subs(calculate))"
   ]
  },
  {
   "cell_type": "code",
   "execution_count": 94,
   "metadata": {},
   "outputs": [
    {
     "data": {
      "text/plain": [
       "b4*x*y + b7*x*y**2 + c3*x + x**2*y**2*(-a4 - c4) + x**2*y*(-b7/2 - 3*c3/2) + x**2*(a4 - b4/2) + y**2*(-b4/2 + c4) + y*(-b7/2 + c3/2)"
      ]
     },
     "execution_count": 94,
     "metadata": {},
     "output_type": "execute_result"
    }
   ],
   "source": [
    "g(x,y).subs(calculate)"
   ]
  },
  {
   "cell_type": "code",
   "execution_count": 95,
   "metadata": {},
   "outputs": [
    {
     "data": {
      "text/plain": [
       "c3*y**3 - c3*y + c4*y**4 - c4*y**2"
      ]
     },
     "execution_count": 95,
     "metadata": {},
     "output_type": "execute_result"
    }
   ],
   "source": [
    "h(y).subs(calculate)"
   ]
  },
  {
   "cell_type": "code",
   "execution_count": 91,
   "metadata": {},
   "outputs": [],
   "source": [
    "f(x).subs(calculate)\n",
    "ex=f(x).subs(calculate)\n",
    "L1=[ex.subs([(a4,0),(b4,0),(b7,0),(c3,0)]),ex.subs([(c4,0),(b4,0),(b7,0),(c3,0)]),\n",
    "    ex.subs([(a4,0),(c4,0),(b7,0),(c3,0)])]\n",
    "\n",
    "g(x,y).subs(calculate)\n",
    "ex2=g(x,y).subs(calculate)\n",
    "L2=[ex2.subs([(a4,0) , (b4,0),(b7,0),(c3,0)]),ex2.subs([(c4,0) , \n",
    "                                                      (b4,0),(b7,0),(c3,0)]),ex2.subs([(a4,0),(c4,0),(b7,0),(c3,0)])]\n",
    "\n",
    "h(y).subs(calculate)\n",
    "ex3=h(y).subs(calculate)\n",
    "L3=[ex3.subs([(a4,0) , (b4,0),(b7,0),(c3,0)]),\n",
    "    ex3.subs([(c4,0) , (b4,0),(b7,0),(c3,0)]),ex3.subs([(a4,0) , (c4,0),(b7,0),(c3,0)])]"
   ]
  },
  {
   "cell_type": "code",
   "execution_count": 92,
   "metadata": {},
   "outputs": [
    {
     "name": "stdout",
     "output_type": "stream",
     "text": [
      "1\n",
      "0\n",
      "-c4*x**2*y**2 + c4*y**2\n",
      "c4*y**4 - c4*y**2\n",
      "2\n",
      "a4*x**4 - a4*x**2\n",
      "-a4*x**2*y**2 + a4*x**2\n",
      "0\n",
      "3\n",
      "0\n",
      "-b4*x**2/2 + b4*x*y - b4*y**2/2\n",
      "0\n"
     ]
    }
   ],
   "source": [
    "for i in range(3):\n",
    "    print(i+1)\n",
    "    print(L1[i])\n",
    "    print(L2[i])\n",
    "    print(L3[i])"
   ]
  },
  {
   "cell_type": "code",
   "execution_count": null,
   "metadata": {},
   "outputs": [],
   "source": []
  },
  {
   "cell_type": "code",
   "execution_count": 115,
   "metadata": {},
   "outputs": [
    {
     "data": {
      "text/plain": [
       "[a0,\n",
       " b0,\n",
       " a1 + b3,\n",
       " b1 + c1,\n",
       " a0,\n",
       " b0,\n",
       " c0,\n",
       " a0 + a1 + a2 + a3 + a4,\n",
       " b0 + b1 + b2 + b3 + b4 + b5 + b6 + b7 + b8,\n",
       " a1 + 2*a2 + 3*a3 + 4*a4 + b3 + b4 + b5 + 2*b6 + 2*b7 + 2*b8,\n",
       " b1 + 2*b2 + b4 + 2*b5 + b7 + 2*b8 + c1 + 2*c2 + 3*c3 + 4*c4,\n",
       " a0 + a1 + a2 + a3 + a4,\n",
       " b0 + b1 + b2 + b3 + b4 + b5 + b6 + b7 + b8,\n",
       " c0 + c1 + c2 + c3 + c4,\n",
       " a0 - a1 + a2 - a3 + a4,\n",
       " b0 - b1 + b2 - b3 + b4 - b5 + b6 - b7 + b8,\n",
       " a1 - 2*a2 + 3*a3 - 4*a4 + b3 - b4 + b5 - 2*b6 + 2*b7 - 2*b8,\n",
       " b1 - 2*b2 - b4 + 2*b5 + b7 - 2*b8 + c1 - 2*c2 + 3*c3 - 4*c4,\n",
       " a0 - a1 + a2 - a3 + a4,\n",
       " b0 - b1 + b2 - b3 + b4 - b5 + b6 - b7 + b8,\n",
       " c0 - c1 + c2 - c3 + c4,\n",
       " a0 + a1 + a2 + a3 + a4,\n",
       " b0 + b1 + b2,\n",
       " a1 + 2*a2 + 3*a3 + 4*a4 + b3 + b4 + b5,\n",
       " b1 + 2*b2 + c1,\n",
       " a0 + a1 + a2 + a3 + a4,\n",
       " b0 + b1 + b2,\n",
       " c0]"
      ]
     },
     "execution_count": 115,
     "metadata": {},
     "output_type": "execute_result"
    }
   ],
   "source": [
    "linear=[]\n",
    "blow0=rela(s,t,0,0)\n",
    "for k in range(2):\n",
    "    po=Poly(blow0[k],s,t)\n",
    "    linear+=po.coeffs()\n",
    "    \n",
    "blow1=rela(s,t,1,1)\n",
    "for k in range(2):\n",
    "    po=Poly(blow1[k],s,t)\n",
    "    linear+=po.coeffs()\n",
    "    \n",
    "blow2=rela(s,t,-1,-1)\n",
    "for k in range(2):\n",
    "    po=Poly(blow2[k],s,t)\n",
    "    linear+=po.coeffs()\n",
    "\n",
    "blow3=rela(s,t,1,0)\n",
    "for k in range(2):\n",
    "    po=Poly(blow3[k],s,t)\n",
    "    linear+=po.coeffs()\n",
    "linear"
   ]
  },
  {
   "cell_type": "code",
   "execution_count": 116,
   "metadata": {},
   "outputs": [
    {
     "data": {
      "text/plain": [
       "{c3: 0,\n",
       " b4: b7,\n",
       " a4: b7/2,\n",
       " c2: -c4,\n",
       " b6: -b7/2 + c4,\n",
       " b8: -b7/2 - c4,\n",
       " b5: -b7/2,\n",
       " c1: 0,\n",
       " b3: -b7/2,\n",
       " a3: -b7/2,\n",
       " b2: 0,\n",
       " a2: -b7/2,\n",
       " c0: 0,\n",
       " b1: 0,\n",
       " a1: b7/2,\n",
       " b0: 0,\n",
       " a0: 0}"
      ]
     },
     "execution_count": 116,
     "metadata": {},
     "output_type": "execute_result"
    }
   ],
   "source": [
    "calculate=solve(linear,\n",
    "[a0,a1,a2,a3,a4,b0,b1,b2,b3,b4,b5,b6,b7,b8,c0,c1,c2,c3,c4])\n",
    "calculate"
   ]
  },
  {
   "cell_type": "code",
   "execution_count": 118,
   "metadata": {},
   "outputs": [
    {
     "name": "stdout",
     "output_type": "stream",
     "text": [
      "b7*x**4/2 - b7*x**3/2 - b7*x**2/2 + b7*x/2\n"
     ]
    }
   ],
   "source": [
    "print(f(x).subs(calculate))"
   ]
  },
  {
   "cell_type": "code",
   "execution_count": 119,
   "metadata": {},
   "outputs": [
    {
     "data": {
      "text/plain": [
       "-b7*x**2*y/2 + b7*x*y**2 + b7*x*y - b7*y/2 + x**2*y**2*(-b7/2 - c4) + y**2*(-b7/2 + c4)"
      ]
     },
     "execution_count": 119,
     "metadata": {},
     "output_type": "execute_result"
    }
   ],
   "source": [
    "g(x,y).subs(calculate)"
   ]
  },
  {
   "cell_type": "code",
   "execution_count": 120,
   "metadata": {},
   "outputs": [
    {
     "data": {
      "text/plain": [
       "c4*y**4 - c4*y**2"
      ]
     },
     "execution_count": 120,
     "metadata": {},
     "output_type": "execute_result"
    }
   ],
   "source": [
    "h(y).subs(calculate)"
   ]
  },
  {
   "cell_type": "code",
   "execution_count": 117,
   "metadata": {},
   "outputs": [
    {
     "data": {
      "text/plain": [
       "17"
      ]
     },
     "execution_count": 117,
     "metadata": {},
     "output_type": "execute_result"
    }
   ],
   "source": [
    "len(calculate)"
   ]
  },
  {
   "cell_type": "code",
   "execution_count": 99,
   "metadata": {},
   "outputs": [
    {
     "data": {
      "text/plain": [
       "x**4*(b7/4 + 3*c4/4) + x**3*(-b7/2 - 3*c4/2) + x**2*(-b7/4 - 3*c4/4) + x*(b7/2 + 3*c4/2)"
      ]
     },
     "execution_count": 99,
     "metadata": {},
     "output_type": "execute_result"
    }
   ],
   "source": []
  },
  {
   "cell_type": "code",
   "execution_count": null,
   "metadata": {},
   "outputs": [],
   "source": []
  },
  {
   "cell_type": "code",
   "execution_count": 39,
   "metadata": {
    "collapsed": true
   },
   "outputs": [
    {
     "data": {
      "text/plain": [
       "[a0,\n",
       " b0,\n",
       " a1 + b3,\n",
       " b1 + c1,\n",
       " a0,\n",
       " b0,\n",
       " c0,\n",
       " 1.0*a0 + 1.0*a1 + 1.0*a2 + 1.0*a3 + 1.0*a4,\n",
       " 1.0*b0 + 1.0*b1 + 1.0*b2 + 1.1*b3 + 1.1*b4 + 1.1*b5 + 1.21*b6 + 1.21*b7 + 1.21*b8,\n",
       " 1.0*a1 + 2.0*a2 + 3.0*a3 + 4.0*a4 + 1.0*b3 + 1.0*b4 + 1.0*b5 + 2.2*b6 + 2.2*b7 + 2.2*b8,\n",
       " 1.0*b1 + 2.0*b2 + 1.1*b4 + 2.2*b5 + 1.21*b7 + 2.42*b8 + 1.0*c1 + 2.2*c2 + 3.63*c3 + 5.324*c4,\n",
       " 1.0*a0 + 1.0*a1 + 1.0*a2 + 1.0*a3 + 1.0*a4,\n",
       " 1.0*b0 + 1.0*b1 + 1.0*b2 + 1.1*b3 + 1.1*b4 + 1.1*b5 + 1.21*b6 + 1.21*b7 + 1.21*b8,\n",
       " 1.0*c0 + 1.1*c1 + 1.21*c2 + 1.331*c3 + 1.4641*c4,\n",
       " 1.0*a0 - 1.0*a1 + 1.0*a2 - 1.0*a3 + 1.0*a4,\n",
       " 1.0*b0 - 1.0*b1 + 1.0*b2 + 0.9*b3 - 0.9*b4 + 0.9*b5 + 0.81*b6 - 0.81*b7 + 0.81*b8,\n",
       " 1.0*a1 - 2.0*a2 + 3.0*a3 - 4.0*a4 + 1.0*b3 - 1.0*b4 + 1.0*b5 + 1.8*b6 - 1.8*b7 + 1.8*b8,\n",
       " 1.0*b1 - 2.0*b2 + 0.9*b4 - 1.8*b5 + 0.81*b7 - 1.62*b8 + 1.0*c1 + 1.8*c2 + 2.43*c3 + 2.916*c4,\n",
       " 1.0*a0 - 1.0*a1 + 1.0*a2 - 1.0*a3 + 1.0*a4,\n",
       " 1.0*b0 - 1.0*b1 + 1.0*b2 + 0.9*b3 - 0.9*b4 + 0.9*b5 + 0.81*b6 - 0.81*b7 + 0.81*b8,\n",
       " 1.0*c0 + 0.9*c1 + 0.81*c2 + 0.729*c3 + 0.6561*c4,\n",
       " 1.0*a0 + 2.0*a1 + 4.0*a2 + 8.0*a3 + 16.0*a4,\n",
       " 1.0*b0 + 2.0*b1 + 4.0*b2 + 2.91*b3 + 5.82*b4 + 11.64*b5 + 8.4681*b6 + 16.9362*b7 + 33.8724*b8,\n",
       " 1.0*a1 + 4.0*a2 + 12.0*a3 + 32.0*a4 + 1.0*b3 + 2.0*b4 + 4.0*b5 + 5.82*b6 + 11.64*b7 + 23.28*b8,\n",
       " 1.0*b1 + 4.0*b2 + 2.91*b4 + 11.64*b5 + 8.4681*b7 + 33.8724*b8 + 1.0*c1 + 5.82*c2 + 25.4043*c3 + 98.568684*c4,\n",
       " 1.0*a0 + 2.0*a1 + 4.0*a2 + 8.0*a3 + 16.0*a4,\n",
       " 1.0*b0 + 2.0*b1 + 4.0*b2 + 2.91*b3 + 5.82*b4 + 11.64*b5 + 8.4681*b6 + 16.9362*b7 + 33.8724*b8,\n",
       " 1.0*c0 + 2.91*c1 + 8.4681*c2 + 24.642171*c3 + 71.70871761*c4,\n",
       " 1.0*a0 - 2.0*a1 + 4.0*a2 - 8.0*a3 + 16.0*a4,\n",
       " 1.0*b0 - 2.0*b1 + 4.0*b2 + 3.14*b3 - 6.28*b4 + 12.56*b5 + 9.8596*b6 - 19.7192*b7 + 39.4384*b8,\n",
       " 1.0*a1 - 4.0*a2 + 12.0*a3 - 32.0*a4 + 1.0*b3 - 2.0*b4 + 4.0*b5 + 6.28*b6 - 12.56*b7 + 25.12*b8,\n",
       " 1.0*b1 - 4.0*b2 + 3.14*b4 - 12.56*b5 + 9.8596*b7 - 39.4384*b8 + 1.0*c1 + 6.28*c2 + 29.5788*c3 + 123.836576*c4,\n",
       " 1.0*a0 - 2.0*a1 + 4.0*a2 - 8.0*a3 + 16.0*a4,\n",
       " 1.0*b0 - 2.0*b1 + 4.0*b2 + 3.14*b3 - 6.28*b4 + 12.56*b5 + 9.8596*b6 - 19.7192*b7 + 39.4384*b8,\n",
       " 1.0*c0 + 3.14*c1 + 9.8596*c2 + 30.959144*c3 + 97.21171216*c4]"
      ]
     },
     "execution_count": 39,
     "metadata": {},
     "output_type": "execute_result"
    }
   ],
   "source": [
    "linear=[]\n",
    "blow0=rela(s,t,0,0)\n",
    "for k in range(2):\n",
    "    po=Poly(blow0[k],s,t)\n",
    "    linear+=po.coeffs()\n",
    "    \n",
    "blow1=rela(s,t,1,1.1)\n",
    "for k in range(2):\n",
    "    po=Poly(blow1[k],s,t)\n",
    "    linear+=po.coeffs()\n",
    "    \n",
    "blow2=rela(s,t,-1,0.9)\n",
    "for k in range(2):\n",
    "    po=Poly(blow2[k],s,t)\n",
    "    linear+=po.coeffs()\n",
    "\n",
    "blow3=rela(s,t,2,2.91)\n",
    "for k in range(2):\n",
    "    po=Poly(blow3[k],s,t)\n",
    "    linear+=po.coeffs()\n",
    "blow3=rela(s,t,-2,3.14)\n",
    "for k in range(2):\n",
    "    po=Poly(blow3[k],s,t)\n",
    "    linear+=po.coeffs()\n",
    "linear"
   ]
  },
  {
   "cell_type": "code",
   "execution_count": 40,
   "metadata": {
    "collapsed": true
   },
   "outputs": [
    {
     "data": {
      "text/plain": [
       "{c4: 0.0,\n",
       " b8: 0.0,\n",
       " c3: 0.0,\n",
       " b4: 0.0,\n",
       " a4: 0.0,\n",
       " c2: 0.0,\n",
       " b7: 0.0,\n",
       " b6: 0.0,\n",
       " b5: 0.0,\n",
       " c1: 0.0,\n",
       " b3: 0.0,\n",
       " a3: 0.0,\n",
       " b2: 0.0,\n",
       " a2: 0.0,\n",
       " c0: 0.0,\n",
       " b1: 0.0,\n",
       " a1: 0.0,\n",
       " b0: 0.0,\n",
       " a0: 0.0}"
      ]
     },
     "execution_count": 40,
     "metadata": {},
     "output_type": "execute_result"
    }
   ],
   "source": [
    "calculate=solve(linear,\n",
    "[a0,a1,a2,a3,a4,b0,b1,b2,b3,b4,b5,b6,b7,b8,c0,c1,c2,c3,c4])\n",
    "calculate"
   ]
  },
  {
   "cell_type": "code",
   "execution_count": 66,
   "metadata": {},
   "outputs": [],
   "source": [
    "def rela2(s,t,alpha,beta):\n",
    "    X=s+alpha\n",
    "    Y=s*t+beta\n",
    "    L1=f(X)*t+g(X,Y)\n",
    "    L2=f(X)*t*t+g(X,Y)*t+h(Y)\n",
    "    f1=div(L1,s,s)[1]\n",
    "    f2=div(L2,s**2,s)[1]\n",
    "    return f1,f2\n"
   ]
  },
  {
   "cell_type": "code",
   "execution_count": 67,
   "metadata": {},
   "outputs": [
    {
     "data": {
      "text/plain": [
       "[a0,\n",
       " b0,\n",
       " a1 + b3,\n",
       " b1 + c1,\n",
       " a0,\n",
       " b0,\n",
       " c0,\n",
       " a0 + a1*p1 + a2*p1**2 + a3*p1**3 + a4*p1**4,\n",
       " b0 + b1*p1 + b2*p1**2 + b3*p2 + b4*p1*p2 + b5*p1**2*p2 + b6*p2**2 + b7*p1*p2**2 + b8*p1**2*p2**2,\n",
       " a1 + 2*a2*p1 + 3*a3*p1**2 + 4*a4*p1**3 + b3 + b4*p1 + b5*p1**2 + 2*b6*p2 + 2*b7*p1*p2 + 2*b8*p1**2*p2,\n",
       " b1 + 2*b2*p1 + b4*p2 + 2*b5*p1*p2 + b7*p2**2 + 2*b8*p1*p2**2 + c1 + 2*c2*p2 + 3*c3*p2**2 + 4*c4*p2**3,\n",
       " a0 + a1*p1 + a2*p1**2 + a3*p1**3 + a4*p1**4,\n",
       " b0 + b1*p1 + b2*p1**2 + b3*p2 + b4*p1*p2 + b5*p1**2*p2 + b6*p2**2 + b7*p1*p2**2 + b8*p1**2*p2**2,\n",
       " c0 + c1*p2 + c2*p2**2 + c3*p2**3 + c4*p2**4,\n",
       " a0 + a1*q1 + a2*q1**2 + a3*q1**3 + a4*q1**4,\n",
       " b0 + b1*q1 + b2*q1**2 + b3*q2 + b4*q1*q2 + b5*q1**2*q2 + b6*q2**2 + b7*q1*q2**2 + b8*q1**2*q2**2,\n",
       " a1 + 2*a2*q1 + 3*a3*q1**2 + 4*a4*q1**3 + b3 + b4*q1 + b5*q1**2 + 2*b6*q2 + 2*b7*q1*q2 + 2*b8*q1**2*q2,\n",
       " b1 + 2*b2*q1 + b4*q2 + 2*b5*q1*q2 + b7*q2**2 + 2*b8*q1*q2**2 + c1 + 2*c2*q2 + 3*c3*q2**2 + 4*c4*q2**3,\n",
       " a0 + a1*q1 + a2*q1**2 + a3*q1**3 + a4*q1**4,\n",
       " b0 + b1*q1 + b2*q1**2 + b3*q2 + b4*q1*q2 + b5*q1**2*q2 + b6*q2**2 + b7*q1*q2**2 + b8*q1**2*q2**2,\n",
       " c0 + c1*q2 + c2*q2**2 + c3*q2**3 + c4*q2**4]"
      ]
     },
     "execution_count": 67,
     "metadata": {},
     "output_type": "execute_result"
    }
   ],
   "source": [
    "p1,p2,q1,q2=symbols('p1,p2,q1,q2 ')\n",
    "linear=[]\n",
    "\n",
    "blow0=rela2(s,t,0,0)\n",
    "for k in range(2):\n",
    "    po=Poly(blow0[k],s,t)\n",
    "    linear+=po.coeffs()\n",
    "    \n",
    "blow1=rela2(s,t,p1,p2)\n",
    "for k in range(2):\n",
    "    po=Poly(blow1[k],s,t)\n",
    "    linear+=po.coeffs()\n",
    "    \n",
    "blow2=rela2(s,t,q1,q2)\n",
    "for k in range(2):\n",
    "    po=Poly(blow2[k],s,t)\n",
    "    linear+=po.coeffs()\n",
    "linear"
   ]
  },
  {
   "cell_type": "code",
   "execution_count": 68,
   "metadata": {},
   "outputs": [],
   "source": [
    "calculate=solve(linear,\n",
    "[a0,a1,a2,a3,a4,b0,b1,b2,b3,b4,b5,b6,b7,b8,c0,c1,c2,c3,c4])"
   ]
  },
  {
   "cell_type": "code",
   "execution_count": 69,
   "metadata": {},
   "outputs": [
    {
     "data": {
      "text/plain": [
       "{c2: -c3*p2 - c3*q2 - c4*p2**2 - c4*p2*q2 - c4*q2**2,\n",
       " b7: (2*a4*p1**2*q1 - 2*a4*p1*q1**2 + 2*b8*p1*p2*q1 - 2*b8*p1*q1*q2 - c3*p1*q2 + c3*p2*q1 - 2*c4*p1*q2**2 + 2*c4*p2**2*q1)/(p1*q2 - p2*q1),\n",
       " b6: (-a4*p1**3*p2*q1 + a4*p1**2*p2*q1**2 + a4*p1**2*q1**2*q2 - a4*p1*q1**3*q2 - b4*p1**2*q2/2 + b4*p1*p2*q1/2 + b4*p1*q1*q2/2 - b4*p2*q1**2/2 - b8*p1**2*p2**2*q1 + b8*p1**2*p2*q1*q2 + b8*p1*p2*q1**2*q2 - b8*p1*q1**2*q2**2 + c3*p1**2*p2*q2 - c3*p1*p2**2*q1 - c3*p1*q1*q2**2 + c3*p2*q1**2*q2 + c4*p1**2*p2**2*q2 + c4*p1**2*p2*q2**2 - 2*c4*p1*p2**3*q1 - 2*c4*p1*q1*q2**3 + c4*p2**2*q1**2*q2 + c4*p2*q1**2*q2**2)/(p1*p2*q2 - p1*q2**2 - p2**2*q1 + p2*q1*q2),\n",
       " b5: (a4*p1**3*q1*q2**2 - a4*p1**2*p2**2*q1**2 - a4*p1**2*q1**2*q2**2 + a4*p1*p2**2*q1**3 + b4*p1**2*q2**2/2 - b4*p1*p2*q1*q2 + b4*p2**2*q1**2/2 - b8*p1**2*p2**2*q1*q2 + b8*p1**2*p2*q1*q2**2 + b8*p1*p2**2*q1**2*q2 - b8*p1*p2*q1**2*q2**2 - c3*p1**2*p2*q2**2 + c3*p1*p2**2*q1*q2 + c3*p1*p2*q1*q2**2 - c3*p2**2*q1**2*q2 - c4*p1**2*p2**2*q2**2 - c4*p1**2*p2*q2**3 + 4*c4*p1*p2**2*q1*q2**2 - c4*p2**3*q1**2*q2 - c4*p2**2*q1**2*q2**2)/(p1*q1*(p1*p2*q2 - p1*q2**2 - p2**2*q1 + p2*q1*q2)),\n",
       " c1: p2*q2*(c3 + c4*p2 + c4*q2),\n",
       " b3: (a4*p1**3*p2*q1*q2 - 2*a4*p1**2*p2*q1**2*q2 + a4*p1*p2*q1**3*q2 + b4*p1**2*q2**2/2 - b4*p1*p2*q1*q2 + b4*p2**2*q1**2/2 + b8*p1**2*p2**2*q1*q2 - b8*p1**2*p2*q1*q2**2 - b8*p1*p2**2*q1**2*q2 + b8*p1*p2*q1**2*q2**2 - c3*p1**2*p2*q2**2 + c3*p1*p2**2*q1*q2 + c3*p1*p2*q1*q2**2 - c3*p2**2*q1**2*q2 - c4*p1**2*p2**2*q2**2 - c4*p1**2*p2*q2**3 + 2*c4*p1*p2**3*q1*q2 + 2*c4*p1*p2*q1*q2**3 - c4*p2**3*q1**2*q2 - c4*p2**2*q1**2*q2**2)/(p1*p2*q2 - p1*q2**2 - p2**2*q1 + p2*q1*q2),\n",
       " a3: (-2*a4*p1**3*p2*q1*q2 + a4*p1**3*q1*q2**2 + a4*p1**2*p2**2*q1**2 + a4*p1**2*q1**2*q2**2 + a4*p1*p2**2*q1**3 - 2*a4*p1*p2*q1**3*q2 - b4*p1**2*q2**2/2 + b4*p1*p2*q1*q2 - b4*p2**2*q1**2/2 - b8*p1**2*p2**2*q1*q2 + b8*p1**2*p2*q1*q2**2 + b8*p1*p2**2*q1**2*q2 - b8*p1*p2*q1**2*q2**2 + c3*p1**2*p2*q2**2 - c3*p1*p2**2*q1*q2 - c3*p1*p2*q1*q2**2 + c3*p2**2*q1**2*q2 + c4*p1**2*p2**2*q2**2 + c4*p1**2*p2*q2**3 - 2*c4*p1*p2**3*q1*q2 - 2*c4*p1*p2*q1*q2**3 + c4*p2**3*q1**2*q2 + c4*p2**2*q1**2*q2**2)/(p1*q1*(p1*p2*q2 - p1*q2**2 - p2**2*q1 + p2*q1*q2)),\n",
       " b2: -p2*q2*(2*a4*p1**2*q1 - 2*a4*p1*q1**2 + b4*p1 - b4*q1 - 2*c3*p1*p2 + 2*c3*q1*q2 - 2*c4*p1*p2**2 - 2*c4*p1*p2*q2 + 2*c4*p2*q1*q2 + 2*c4*q1*q2**2)/(2*p1*q1*(p2 - q2)),\n",
       " a2: (a4*p1**4*p2*q1*q2 - a4*p1**3*q1**2*q2**2 - a4*p1**2*p2**2*q1**3 + a4*p1*p2*q1**4*q2 + b4*p1**3*q2**2/2 - b4*p1**2*p2*q1*q2 + b4*p1**2*q1*q2**2/2 + b4*p1*p2**2*q1**2/2 - b4*p1*p2*q1**2*q2 + b4*p2**2*q1**3/2 + b8*p1**3*p2**2*q1*q2 - b8*p1**3*p2*q1*q2**2 - b8*p1*p2**2*q1**3*q2 + b8*p1*p2*q1**3*q2**2 - c3*p1**3*p2*q2**2 + c3*p1**2*p2**2*q1*q2 + c3*p1*p2*q1**2*q2**2 - c3*p2**2*q1**3*q2 - c4*p1**3*p2**2*q2**2 - c4*p1**3*p2*q2**3 + 2*c4*p1**2*p2**3*q1*q2 - c4*p1**2*p2**2*q1*q2**2 + c4*p1**2*p2*q1*q2**3 + c4*p1*p2**3*q1**2*q2 - c4*p1*p2**2*q1**2*q2**2 + 2*c4*p1*p2*q1**2*q2**3 - c4*p2**3*q1**3*q2 - c4*p2**2*q1**3*q2**2)/(p1*q1*(p1*p2*q2 - p1*q2**2 - p2**2*q1 + p2*q1*q2)),\n",
       " c0: 0,\n",
       " b1: -p2*q2*(c3 + c4*p2 + c4*q2),\n",
       " a1: (-a4*p1**3*p2*q1*q2 + 2*a4*p1**2*p2*q1**2*q2 - a4*p1*p2*q1**3*q2 - b4*p1**2*q2**2/2 + b4*p1*p2*q1*q2 - b4*p2**2*q1**2/2 - b8*p1**2*p2**2*q1*q2 + b8*p1**2*p2*q1*q2**2 + b8*p1*p2**2*q1**2*q2 - b8*p1*p2*q1**2*q2**2 + c3*p1**2*p2*q2**2 - c3*p1*p2**2*q1*q2 - c3*p1*p2*q1*q2**2 + c3*p2**2*q1**2*q2 + c4*p1**2*p2**2*q2**2 + c4*p1**2*p2*q2**3 - 2*c4*p1*p2**3*q1*q2 - 2*c4*p1*p2*q1*q2**3 + c4*p2**3*q1**2*q2 + c4*p2**2*q1**2*q2**2)/(p1*p2*q2 - p1*q2**2 - p2**2*q1 + p2*q1*q2),\n",
       " b0: 0,\n",
       " a0: 0}"
      ]
     },
     "execution_count": 69,
     "metadata": {},
     "output_type": "execute_result"
    }
   ],
   "source": [
    "calculate"
   ]
  },
  {
   "cell_type": "code",
   "execution_count": 70,
   "metadata": {},
   "outputs": [
    {
     "data": {
      "text/plain": [
       "14"
      ]
     },
     "execution_count": 70,
     "metadata": {},
     "output_type": "execute_result"
    }
   ],
   "source": [
    "len(calculate)"
   ]
  },
  {
   "cell_type": "code",
   "execution_count": 78,
   "metadata": {},
   "outputs": [
    {
     "data": {
      "text/plain": [
       "{a4, b4, b8, c3, c4}"
      ]
     },
     "execution_count": 78,
     "metadata": {},
     "output_type": "execute_result"
    }
   ],
   "source": [
    "S=set([a0,a1,a2,a3,a4,b0,b1,b2,b3,b4,b5,b6,b7,b8,c0,c1,c2,c3,c4])-set(calculate.keys())\n",
    "S"
   ]
  },
  {
   "cell_type": "code",
   "execution_count": null,
   "metadata": {},
   "outputs": [],
   "source": [
    "f(x).subs(calculate)\n",
    "ex=f(x).subs(calculate)\n",
    "\n",
    "g(x,y).subs(calculate)\n",
    "ex2=g(x,y).subs(calculate)\n",
    "\n",
    "h(y).subs(calculate)\n",
    "ex3=h(y).subs(calculate)\n",
    "\n",
    "v0=[ex.subs([(a4,0),(b4,0),(b8,0),(c3,0)]),\n",
    "    ex2.subs([(a4,0) , (b4,0),(b8,0),(c3,0)]),\n",
    "    ex3.subs([(a4,0) , (b4,0),(b8,0),(c3,0)])]\n",
    "\n",
    "v1=[ex.subs([(c4,0),(b4,0),(b8,0),(c3,0)]),\n",
    "    ex2.subs([(c4,0) , (b4,0),(b8,0),(c3,0)]),\n",
    "    ex2.subs([(a4,0),(c4,0),(b8,0),(c3,0)])]\n",
    "\n",
    "v2=[ex.subs([(a4,0),(c4,0),(b8,0),(c3,0)]),\n",
    "    ex3.subs([(c4,0) , (b4,0),(b8,0),(c3,0)]),\n",
    "    ex3.subs([(a4,0) , (c4,0),(b8,0),(c3,0)])]"
   ]
  },
  {
   "cell_type": "code",
   "execution_count": null,
   "metadata": {},
   "outputs": [],
   "source": []
  },
  {
   "cell_type": "code",
   "execution_count": null,
   "metadata": {},
   "outputs": [],
   "source": []
  },
  {
   "cell_type": "code",
   "execution_count": null,
   "metadata": {},
   "outputs": [],
   "source": []
  },
  {
   "cell_type": "code",
   "execution_count": null,
   "metadata": {},
   "outputs": [],
   "source": []
  }
 ],
 "metadata": {
  "kernelspec": {
   "display_name": "python 3.6.3",
   "language": "python",
   "name": "python3.6"
  },
  "language_info": {
   "codemirror_mode": {
    "name": "ipython",
    "version": 3
   },
   "file_extension": ".py",
   "mimetype": "text/x-python",
   "name": "python",
   "nbconvert_exporter": "python",
   "pygments_lexer": "ipython3",
   "version": "3.6.3"
  },
  "toc": {
   "base_numbering": 1,
   "nav_menu": {},
   "number_sections": true,
   "sideBar": true,
   "skip_h1_title": false,
   "title_cell": "Table of Contents",
   "title_sidebar": "Contents",
   "toc_cell": false,
   "toc_position": {},
   "toc_section_display": true,
   "toc_window_display": false
  }
 },
 "nbformat": 4,
 "nbformat_minor": 2
}
