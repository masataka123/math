{
 "cells": [
  {
   "cell_type": "code",
   "execution_count": 1,
   "metadata": {},
   "outputs": [],
   "source": [
    "from sympy import *"
   ]
  },
  {
   "cell_type": "code",
   "execution_count": 2,
   "metadata": {},
   "outputs": [],
   "source": [
    "x=Symbol('x')\n",
    "y=Symbol('y')\n",
    "s=Symbol('s')\n",
    "t=Symbol('t')\n",
    "a0,a1,a2,a3,a4=symbols('a0:5')\n",
    "b0,b1,b2,b3,b4,b5,b6,b7,b8=symbols('b0:9')\n",
    "c0,c1,c2,c3,c4=symbols('c0:5')\n",
    "def f(x):\n",
    "    return a0+a1*x+a2*(x**2)+a3*(x**3)+a4*(x**4)\n",
    "def g(x,y):\n",
    "    return b0+b1*x+b2*(x**2)+b3*y+b4*x*y+b5*(x**2)*y+b6*(y**2)+b7*x*(y**2)+b8*(x**2)*y**2\n",
    "def h(x):\n",
    "    return c0+c1*x+c2*(x**2)+c3*(x**3)+c4*(x**4)"
   ]
  },
  {
   "cell_type": "code",
   "execution_count": 3,
   "metadata": {},
   "outputs": [],
   "source": [
    "def rela(s,t,alpha,beta):\n",
    "    X=s+alpha\n",
    "    Y=s*t+beta\n",
    "    L1=-2*f(X)*t+g(X,Y)\n",
    "    L2=f(X)*(t**2)-g(X,Y)*t+h(Y)\n",
    "    f1=div(L1,s,s)[1]\n",
    "    f2=div(L2,s**2,s)[1]\n",
    "    return f1,f2"
   ]
  },
  {
   "cell_type": "code",
   "execution_count": 4,
   "metadata": {},
   "outputs": [
    {
     "data": {
      "text/plain": [
       "[-2*a0,\n",
       " b0,\n",
       " a1 - b3,\n",
       " -b1 + c1,\n",
       " a0,\n",
       " -b0,\n",
       " c0,\n",
       " -2*a0 - 2*a1 - 2*a2 - 2*a3 - 2*a4,\n",
       " b0 + b1 + b2 + b3 + b4 + b5 + b6 + b7 + b8,\n",
       " a1 + 2*a2 + 3*a3 + 4*a4 - b3 - b4 - b5 - 2*b6 - 2*b7 - 2*b8,\n",
       " -b1 - 2*b2 - b4 - 2*b5 - b7 - 2*b8 + c1 + 2*c2 + 3*c3 + 4*c4,\n",
       " a0 + a1 + a2 + a3 + a4,\n",
       " -b0 - b1 - b2 - b3 - b4 - b5 - b6 - b7 - b8,\n",
       " c0 + c1 + c2 + c3 + c4,\n",
       " -2*a0 + 2*a1 - 2*a2 + 2*a3 - 2*a4,\n",
       " b0 - b1 + b2 - b3 + b4 - b5 + b6 - b7 + b8,\n",
       " a1 - 2*a2 + 3*a3 - 4*a4 - b3 + b4 - b5 + 2*b6 - 2*b7 + 2*b8,\n",
       " -b1 + 2*b2 + b4 - 2*b5 - b7 + 2*b8 + c1 - 2*c2 + 3*c3 - 4*c4,\n",
       " a0 - a1 + a2 - a3 + a4,\n",
       " -b0 + b1 - b2 + b3 - b4 + b5 - b6 + b7 - b8,\n",
       " c0 - c1 + c2 - c3 + c4]"
      ]
     },
     "execution_count": 4,
     "metadata": {},
     "output_type": "execute_result"
    }
   ],
   "source": [
    "linear=[]\n",
    "blow0=rela(s,t,0,0)\n",
    "for k in range(2):\n",
    "    po=Poly(blow0[k],s,t)\n",
    "    linear+=po.coeffs()\n",
    "    \n",
    "blow1=rela(s,t,1,1)\n",
    "for k in range(2):\n",
    "    po=Poly(blow1[k],s,t)\n",
    "    linear+=po.coeffs()\n",
    "    \n",
    "blow2=rela(s,t,-1,-1)\n",
    "for k in range(2):\n",
    "    po=Poly(blow2[k],s,t)\n",
    "    linear+=po.coeffs()\n",
    "linear"
   ]
  },
  {
   "cell_type": "code",
   "execution_count": 5,
   "metadata": {},
   "outputs": [],
   "source": [
    "calculate=solve(linear,\n",
    "[a0,a1,a2,a3,a4,b0,b1,b2,b3,b4,b5,b6,b7,b8,c0,c1,c2,c3,c4])"
   ]
  },
  {
   "cell_type": "code",
   "execution_count": 6,
   "metadata": {},
   "outputs": [
    {
     "data": {
      "text/plain": [
       "{c2: -c4,\n",
       " b6: -b4/2 - c4,\n",
       " b8: a4 + c4,\n",
       " b5: -b7/2 + 3*c3/2,\n",
       " c1: -c3,\n",
       " b3: -b7/2 - c3/2,\n",
       " a3: b7/2 + c3/2,\n",
       " b2: -a4 - b4/2,\n",
       " a2: -a4,\n",
       " c0: 0,\n",
       " b1: -c3,\n",
       " a1: -b7/2 - c3/2,\n",
       " b0: 0,\n",
       " a0: 0}"
      ]
     },
     "execution_count": 6,
     "metadata": {},
     "output_type": "execute_result"
    }
   ],
   "source": [
    "calculate"
   ]
  },
  {
   "cell_type": "code",
   "execution_count": 7,
   "metadata": {},
   "outputs": [
    {
     "data": {
      "text/plain": [
       "a4*x**4 - a4*x**2 + x**3*(b7/2 + c3/2) + x*(-b7/2 - c3/2)"
      ]
     },
     "execution_count": 7,
     "metadata": {},
     "output_type": "execute_result"
    }
   ],
   "source": [
    "f(x).subs(calculate)"
   ]
  },
  {
   "cell_type": "code",
   "execution_count": 8,
   "metadata": {},
   "outputs": [
    {
     "data": {
      "text/plain": [
       "b4*x*y + b7*x*y**2 - c3*x + x**2*y**2*(a4 + c4) + x**2*y*(-b7/2 + 3*c3/2) + x**2*(-a4 - b4/2) + y**2*(-b4/2 - c4) + y*(-b7/2 - c3/2)"
      ]
     },
     "execution_count": 8,
     "metadata": {},
     "output_type": "execute_result"
    }
   ],
   "source": [
    "g(x,y).subs(calculate)"
   ]
  },
  {
   "cell_type": "code",
   "execution_count": 9,
   "metadata": {},
   "outputs": [
    {
     "data": {
      "text/plain": [
       "c3*y**3 - c3*y + c4*y**4 - c4*y**2"
      ]
     },
     "execution_count": 9,
     "metadata": {},
     "output_type": "execute_result"
    }
   ],
   "source": [
    "h(y).subs(calculate)"
   ]
  },
  {
   "cell_type": "code",
   "execution_count": 10,
   "metadata": {},
   "outputs": [],
   "source": [
    "f(x).subs(calculate)\n",
    "ex=f(x).subs(calculate)\n",
    "\n",
    "g(x,y).subs(calculate)\n",
    "ex2=g(x,y).subs(calculate)\n",
    "\n",
    "h(y).subs(calculate)\n",
    "ex3=h(y).subs(calculate)\n",
    "v0=[ex.subs([(a4,0),(b4,0),(b7,0),(c3,0)]),#c4\n",
    "    ex2.subs([(a4,0) , (b4,0),(b7,0),(c3,0)]),\n",
    "    ex3.subs([(a4,0) , (b4,0),(b7,0),(c3,0)])]\n",
    "\n",
    "v1=[ex.subs([(c4,0),(b4,0),(b7,0),(c3,0)]),#a4\n",
    "    ex2.subs([(c4,0) , (b4,0),(b7,0),(c3,0)]),\n",
    "    ex3.subs([(c4,0),(b4,0),(b7,0),(c3,0)])]\n",
    "\n",
    "v2=[ex.subs([(a4,0),(c4,0),(b7,0),(c3,0)]),#b4\n",
    "    ex2.subs([(a4,0) , (c4,0),(b7,0),(c3,0)]),\n",
    "    ex3.subs([(a4,0) , (c4,0),(b7,0),(c3,0)])]"
   ]
  },
  {
   "cell_type": "code",
   "execution_count": 11,
   "metadata": {},
   "outputs": [
    {
     "name": "stdout",
     "output_type": "stream",
     "text": [
      "[0, c4*x**2*y**2 - c4*y**2, c4*y**4 - c4*y**2]\n",
      "[a4*x**4 - a4*x**2, a4*x**2*y**2 - a4*x**2, 0]\n",
      "[0, -b4*x**2/2 + b4*x*y - b4*y**2/2, 0]\n"
     ]
    }
   ],
   "source": [
    "print(v0)#c4\n",
    "print(v1)#a4\n",
    "print(v2)#b4"
   ]
  },
  {
   "cell_type": "code",
   "execution_count": 13,
   "metadata": {},
   "outputs": [
    {
     "name": "stdout",
     "output_type": "stream",
     "text": [
      "[0, x**2*y**2 - y**2, y**4 - y**2]\n",
      "[x**4 - x**2, x**2*y**2 - x**2, 0]\n",
      "[0, x**2 - 2*x*y + y**2, 0]\n"
     ]
    }
   ],
   "source": [
    "V0=[]\n",
    "V1=[]\n",
    "V2=[]\n",
    "for i in range(3):\n",
    "    V0.append(v0[i].subs(c4,1))\n",
    "    V1.append(v1[i].subs(a4,1))\n",
    "    V2.append(v2[i].subs(b4,-2))\n",
    "    \n",
    "print(V0)#c4\n",
    "print(V1)#a4\n",
    "print(V2)#b4"
   ]
  },
  {
   "cell_type": "code",
   "execution_count": null,
   "metadata": {},
   "outputs": [],
   "source": []
  }
 ],
 "metadata": {
  "kernelspec": {
   "display_name": "python 3.6.3",
   "language": "python",
   "name": "python3.6"
  },
  "language_info": {
   "codemirror_mode": {
    "name": "ipython",
    "version": 3
   },
   "file_extension": ".py",
   "mimetype": "text/x-python",
   "name": "python",
   "nbconvert_exporter": "python",
   "pygments_lexer": "ipython3",
   "version": "3.6.3"
  },
  "toc": {
   "base_numbering": 1,
   "nav_menu": {},
   "number_sections": true,
   "sideBar": true,
   "skip_h1_title": false,
   "title_cell": "Table of Contents",
   "title_sidebar": "Contents",
   "toc_cell": false,
   "toc_position": {},
   "toc_section_display": true,
   "toc_window_display": false
  }
 },
 "nbformat": 4,
 "nbformat_minor": 2
}
