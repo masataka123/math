{
 "cells": [
  {
   "cell_type": "code",
   "execution_count": 114,
   "metadata": {},
   "outputs": [],
   "source": [
    "from sympy import *"
   ]
  },
  {
   "cell_type": "code",
   "execution_count": 115,
   "metadata": {},
   "outputs": [],
   "source": [
    "x=Symbol('x')\n",
    "y=Symbol('y')\n",
    "s=Symbol('s')\n",
    "t=Symbol('t')\n",
    "m=Symbol('m')\n",
    "a0,a1,a2,a3,a4=symbols('a0:5')\n",
    "b0,b1,b2,b3,b4,b5=symbols('b0:6')\n",
    "c0,c1,c2,c3,c4,c5,c6,c7=symbols('c0:8')\n",
    "def f(x):\n",
    "    return a0+a1*x+a2*(x**2)+a3*(x**3)+a4*(x**4)\n",
    "def g(x,y):\n",
    "    return (b0+b1*x+b2*(x**2)-2*m*a4*(x**3))*y+(b3+b4*x+b5*(x**2) )*(y**2) \n",
    "def h(x,y):\n",
    "    return (c0-(m*b2+m*m*a3)*x+m*m*a4*(x**2))*(y**2)+(c1+c2*x)*(y**3)+(c3+c4*x+c5*(x**2)+c6*(x**3)+c7*(x**4))*(y**4)"
   ]
  },
  {
   "cell_type": "code",
   "execution_count": 116,
   "metadata": {},
   "outputs": [],
   "source": [
    "def rela(s,t,alpha,beta):\n",
    "    X=s+alpha\n",
    "    Y=s*t+beta\n",
    "    L1=-2*f(X)*t+g(X,Y)\n",
    "    L2=f(X)*(t**2)-g(X,Y)*t+h(X,Y)\n",
    "    f1=div(L1,s,s)[1]\n",
    "    f2=div(L2,s**2,s)[1]\n",
    "    return f1,f2"
   ]
  },
  {
   "cell_type": "code",
   "execution_count": 117,
   "metadata": {},
   "outputs": [
    {
     "data": {
      "text/plain": [
       "[-2*a0,\n",
       " a1 - b0,\n",
       " a0,\n",
       " -2*a0 - 2*a1 - 2*a2 - 2*a3 - 2*a4,\n",
       " -2*a4*m + b0 + b1 + b2 + b3 + b4 + b5,\n",
       " a1 + 2*a2 + 3*a3 + 2*a4*m + 4*a4 - b0 - b1 - b2 - 2*b3 - 2*b4 - 2*b5,\n",
       " -2*a3*m**2 + 2*a4*m**2 + 6*a4*m - b1 - 2*b2*m - 2*b2 - b4 - 2*b5 + 2*c0 + 3*c1 + 3*c2 + 4*c3 + 4*c4 + 4*c5 + 4*c6 + 4*c7,\n",
       " -a3*m**2 + 2*a4*m**2 - b2*m + c2 + c4 + 2*c5 + 3*c6 + 4*c7,\n",
       " a0 + a1 + a2 + a3 + a4,\n",
       " 2*a4*m - b0 - b1 - b2 - b3 - b4 - b5,\n",
       " -a3*m**2 + a4*m**2 - b2*m + c0 + c1 + c2 + c3 + c4 + c5 + c6 + c7,\n",
       " -2*a0 + 2*a1 - 2*a2 + 2*a3 - 2*a4,\n",
       " -2*a4*m - b0 + b1 - b2 + b3 - b4 + b5,\n",
       " a1 - 2*a2 + 3*a3 - 2*a4*m - 4*a4 - b0 + b1 - b2 + 2*b3 - 2*b4 + 2*b5,\n",
       " -2*a3*m**2 - 2*a4*m**2 - 6*a4*m + b1 - 2*b2*m - 2*b2 - b4 + 2*b5 - 2*c0 + 3*c1 - 3*c2 - 4*c3 + 4*c4 - 4*c5 + 4*c6 - 4*c7,\n",
       " -a3*m**2 - 2*a4*m**2 - b2*m - c2 + c4 - 2*c5 + 3*c6 - 4*c7,\n",
       " a0 - a1 + a2 - a3 + a4,\n",
       " 2*a4*m + b0 - b1 + b2 - b3 + b4 - b5,\n",
       " a3*m**2 + a4*m**2 + b2*m + c0 - c1 + c2 + c3 - c4 + c5 - c6 + c7]"
      ]
     },
     "execution_count": 117,
     "metadata": {},
     "output_type": "execute_result"
    }
   ],
   "source": [
    "linear=[]\n",
    "blow0=rela(s,t,0,0)\n",
    "for k in range(2):\n",
    "    po=Poly(blow0[k],s,t)\n",
    "    linear+=po.coeffs()\n",
    "    \n",
    "blow1=rela(s,t,1,1)\n",
    "for k in range(2):\n",
    "    po=Poly(blow1[k],s,t)\n",
    "    linear+=po.coeffs()\n",
    "    \n",
    "blow2=rela(s,t,-1,-1)\n",
    "for k in range(2):\n",
    "    po=Poly(blow2[k],s,t)\n",
    "    linear+=po.coeffs()\n",
    "linear"
   ]
  },
  {
   "cell_type": "code",
   "execution_count": 119,
   "metadata": {},
   "outputs": [],
   "source": [
    "calculate=solve(linear,\n",
    "[a0,a1,a2,a3,a4,b0,b1,b2,b3,b4,b5,c0,c1,c2,c3,c4,c5,c6,c7])"
   ]
  },
  {
   "cell_type": "code",
   "execution_count": 120,
   "metadata": {},
   "outputs": [
    {
     "data": {
      "text/plain": [
       "{c4: -2*c6,\n",
       " c1: 2*c6,\n",
       " c0: -c2/2 - c3 + c7,\n",
       " b4: 2*c6/(m*(m - 1)),\n",
       " b5: c2/2 - c2/m - c2/(2*m**2) + c3 + c5 - 2*c5/m - c5/m**2 + c7 - 4*c7/m - 2*c7/m**2,\n",
       " b3: -c2/2 + c2/m - c2/(2*m**2) - c3 - c5 + 2*c5/m - c5/m**2 - c7 + 4*c7/m - 2*c7/m**2,\n",
       " b2: -c6/(m*(m - 1)),\n",
       " b1: (-c2*m + c2 - 2*c5*m + 2*c5 - 4*c7*m + 4*c7)/m**2,\n",
       " b0: -c6/(m*(m - 1)),\n",
       " a3: c6/(m*(m - 1)),\n",
       " a4: -(c2/2 + c5 + 2*c7)/m**2,\n",
       " a2: (c2/2 + c5 + 2*c7)/m**2,\n",
       " a1: -c6/(m*(m - 1)),\n",
       " a0: 0}"
      ]
     },
     "execution_count": 120,
     "metadata": {},
     "output_type": "execute_result"
    }
   ],
   "source": [
    "calculate"
   ]
  },
  {
   "cell_type": "code",
   "execution_count": 121,
   "metadata": {},
   "outputs": [],
   "source": [
    "ex1=f(x).subs(calculate)\n",
    "ex2=g(x,y).subs(calculate)\n",
    "ex3=h(x,y).subs(calculate)"
   ]
  },
  {
   "cell_type": "code",
   "execution_count": 122,
   "metadata": {},
   "outputs": [
    {
     "data": {
      "text/plain": [
       "x*(2*c6*m*(x**2 - 1) + x*(m - 1)*(c2 + 2*c5 + 4*c7 - x**2*(c2 + 2*c5 + 4*c7)))/(2*m**2*(m - 1))"
      ]
     },
     "execution_count": 122,
     "metadata": {},
     "output_type": "execute_result"
    }
   ],
   "source": [
    "simplify(ex1)"
   ]
  },
  {
   "cell_type": "code",
   "execution_count": 123,
   "metadata": {},
   "outputs": [
    {
     "data": {
      "text/plain": [
       "y*(-2*c6*m*(x**2 + 1) + 2*m*x**3*(m - 1)*(c2 + 2*c5 + 4*c7) - 2*x*(m - 1)*(c2*m - c2 + 2*c5*m - 2*c5 + 4*c7*m - 4*c7) - y*(-4*c6*m*x + m**2*(m - 1)*(c2 + 2*c3 + 2*c5 + 2*c7) - 2*m*(m - 1)*(c2 + 2*c5 + 4*c7) + x**2*(m - 1)*(c2 + 2*c5 + 4*c7 - m**2*(c2 + 2*c3 + 2*c5 + 2*c7) + 2*m*(c2 + 2*c5 + 4*c7)) + (m - 1)*(c2 + 2*c5 + 4*c7)))/(2*m**2*(m - 1))"
      ]
     },
     "execution_count": 123,
     "metadata": {},
     "output_type": "execute_result"
    }
   ],
   "source": [
    "simplify(ex2)"
   ]
  },
  {
   "cell_type": "code",
   "execution_count": 124,
   "metadata": {},
   "outputs": [
    {
     "data": {
      "text/plain": [
       "y**2*(-c2/2 - c3 - c6*x + c7 - x**2*(c2 + 2*c5 + 4*c7)/2 + y*(c2*x + 2*c6 + y*(c3 + c5*x**2 + c6*x**3 - 2*c6*x + c7*x**4)))"
      ]
     },
     "execution_count": 124,
     "metadata": {},
     "output_type": "execute_result"
    }
   ],
   "source": [
    "simplify(ex3)"
   ]
  },
  {
   "cell_type": "code",
   "execution_count": 125,
   "metadata": {},
   "outputs": [
    {
     "data": {
      "text/plain": [
       "0"
      ]
     },
     "execution_count": 125,
     "metadata": {},
     "output_type": "execute_result"
    }
   ],
   "source": [
    "ex1.subs([(c2,-2*c5-4*c7),(c6,0)])"
   ]
  },
  {
   "cell_type": "code",
   "execution_count": 126,
   "metadata": {},
   "outputs": [
    {
     "data": {
      "text/plain": [
       "y**2*(-x**2 + 1)"
      ]
     },
     "execution_count": 126,
     "metadata": {},
     "output_type": "execute_result"
    }
   ],
   "source": [
    "ex2.subs([(c2,-2*c5-4*c7),(c6,0),(c3,0),(c5,-c7),(c7,1)])"
   ]
  },
  {
   "cell_type": "code",
   "execution_count": 127,
   "metadata": {},
   "outputs": [
    {
     "data": {
      "text/plain": [
       "-2*x*y**3 + y**4*(x**4 - x**2) + 2*y**2"
      ]
     },
     "execution_count": 127,
     "metadata": {},
     "output_type": "execute_result"
    }
   ],
   "source": [
    "ex3.subs([(c2,-2*c5-4*c7),(c6,0),(c3,0),(c5,-c7),(c7,1)])"
   ]
  },
  {
   "cell_type": "code",
   "execution_count": null,
   "metadata": {},
   "outputs": [],
   "source": []
  },
  {
   "cell_type": "code",
   "execution_count": 128,
   "metadata": {},
   "outputs": [],
   "source": [
    "L0=[(c2,0),(c3,0),(c5,0),(c6,0)]\n",
    "L1=[(c2,0),(c3,0),(c5,0),(c7,0)]\n",
    "L2=[(c2,0),(c3,0),(c7,0),(c6,0)]\n",
    "L3=[(c2,0),(c7,0),(c5,0),(c6,0)]\n",
    "L4=[(c7,0),(c3,0),(c5,0),(c6,0)]\n",
    "K=[L0,L1,L2,L3,L4]"
   ]
  },
  {
   "cell_type": "code",
   "execution_count": 13,
   "metadata": {
    "collapsed": true
   },
   "outputs": [
    {
     "name": "stdout",
     "output_type": "stream",
     "text": [
      "[-2*c7*x**4/m**2 + 2*c7*x**2/m**2, y**2*(-c7 + 4*c7/m - 2*c7/m**2 + x**2*(c7 - 4*c7/m - 2*c7/m**2)) + y*(4*c7*x**3/m + x*(-4*c7*m + 4*c7)/m**2), c7*x**4*y**4 + y**2*(-2*c7*x**2 + c7)]\n",
      "\n",
      "[c6*x**3/(m*(m - 1)) - c6*x/(m*(m - 1)), 2*c6*x*y**2/(m*(m - 1)) + y*(-c6*x**2/(m*(m - 1)) - c6/(m*(m - 1))), 2*c6*y**3 - x*y**2*(c6*m/(m - 1) - c6/(m - 1)) + y**4*(c6*x**3 - 2*c6*x)]\n",
      "\n",
      "[-c5*x**4/m**2 + c5*x**2/m**2, y**2*(-c5 + 2*c5/m - c5/m**2 + x**2*(c5 - 2*c5/m - c5/m**2)) + y*(2*c5*x**3/m + x*(-2*c5*m + 2*c5)/m**2), c5*x**2*y**4 - c5*x**2*y**2]\n",
      "\n",
      "[0, y**2*(c3*x**2 - c3), c3*y**4 - c3*y**2]\n",
      "\n",
      "[-c2*x**4/(2*m**2) + c2*x**2/(2*m**2), y**2*(-c2/2 + c2/m - c2/(2*m**2) + x**2*(c2/2 - c2/m - c2/(2*m**2))) + y*(c2*x**3/m + x*(-c2*m + c2)/m**2), c2*x*y**3 + y**2*(-c2*x**2/2 - c2/2)]\n",
      "\n"
     ]
    }
   ],
   "source": [
    "V=[]\n",
    "for k in K:\n",
    "    v=[ex1.subs(k),ex2.subs(k),ex3.subs(k)]\n",
    "    V.append(v)\n",
    "    print(v)\n",
    "    print()"
   ]
  },
  {
   "cell_type": "code",
   "execution_count": 54,
   "metadata": {},
   "outputs": [],
   "source": [
    "A=eye(3)"
   ]
  },
  {
   "cell_type": "code",
   "execution_count": 55,
   "metadata": {},
   "outputs": [
    {
     "name": "stdout",
     "output_type": "stream",
     "text": [
      "x**3 - x\n",
      "\n",
      "y*(-x**2 + 2*x*y - 1)\n",
      "\n",
      "m*y**2*(m - 1)*(x*y**2*(x**2 - 2) - x + 2*y)\n",
      "\n"
     ]
    }
   ],
   "source": [
    "for k in range(3):\n",
    "    poly=simplify(V[1][k].subs([(c6,m*(m-1)) ]))\n",
    "    print(poly)\n",
    "    A[0,k]=poly\n",
    "    print()"
   ]
  },
  {
   "cell_type": "code",
   "execution_count": 56,
   "metadata": {},
   "outputs": [
    {
     "name": "stdout",
     "output_type": "stream",
     "text": [
      "0\n",
      "\n",
      "y**2*(x**2 - 1)\n",
      "\n",
      "y**4 - y**2\n",
      "\n"
     ]
    }
   ],
   "source": [
    "for k in range(3):\n",
    "    poly=simplify(V[3][k].subs([(c3,1) ] ))\n",
    "    print(poly)\n",
    "    A[1,k]=poly\n",
    "    print()"
   ]
  },
  {
   "cell_type": "code",
   "execution_count": 57,
   "metadata": {},
   "outputs": [
    {
     "name": "stdout",
     "output_type": "stream",
     "text": [
      "0\n",
      "y**2*(-x**2 + 1)\n",
      "-2*x*y**3 + y**4*(x**4 - x**2) + 2*y**2\n"
     ]
    }
   ],
   "source": [
    "pol=[(c2,-2*c5-4*c7),(c6,0),(c3,0),(c5,-c7),(c7,1)]\n",
    "poly0=[ex1.subs(pol),ex2.subs(pol),ex3.subs(pol)]\n",
    "for k in range(3):\n",
    "    #poly=simplify(V[3][k].subs([(c3,1) ] ))\n",
    "    print(poly0[k])\n",
    "    A[2,k]=poly0[k]"
   ]
  },
  {
   "cell_type": "code",
   "execution_count": 58,
   "metadata": {},
   "outputs": [
    {
     "data": {
      "text/plain": [
       "Matrix([\n",
       "[x**3 - x, y*(-x**2 + 2*x*y - 1), m*y**2*(m - 1)*(x*y**2*(x**2 - 2) - x + 2*y)],\n",
       "[       0,       y**2*(x**2 - 1),                                  y**4 - y**2],\n",
       "[       0,      y**2*(-x**2 + 1),      -2*x*y**3 + y**4*(x**4 - x**2) + 2*y**2]])"
      ]
     },
     "execution_count": 58,
     "metadata": {},
     "output_type": "execute_result"
    }
   ],
   "source": [
    "A"
   ]
  },
  {
   "cell_type": "code",
   "execution_count": 59,
   "metadata": {},
   "outputs": [
    {
     "data": {
      "text/plain": [
       "x*y**4*(x**2 - 1)**2*(x**2*y**2*(x**2 - 1) - 2*x*y + y**2 + 1)"
      ]
     },
     "execution_count": 59,
     "metadata": {},
     "output_type": "execute_result"
    }
   ],
   "source": [
    "simplify(A.det())"
   ]
  },
  {
   "cell_type": "code",
   "execution_count": 60,
   "metadata": {},
   "outputs": [
    {
     "data": {
      "text/plain": [
       "[(-1, y),\n",
       " (0, y),\n",
       " (1, y),\n",
       " (x, 0),\n",
       " (-sqrt(3/4 - I/y) + I/2, y),\n",
       " (sqrt(3/4 - I/y) + I/2, y),\n",
       " (-sqrt(3/4 + I/y) - I/2, y),\n",
       " (sqrt(3/4 + I/y) - I/2, y)]"
      ]
     },
     "execution_count": 60,
     "metadata": {},
     "output_type": "execute_result"
    }
   ],
   "source": [
    "solve(simplify(A.det()),[x,y])"
   ]
  },
  {
   "cell_type": "code",
   "execution_count": 53,
   "metadata": {},
   "outputs": [
    {
     "data": {
      "text/plain": [
       "[-2*a0,\n",
       " a1 - b0,\n",
       " a0,\n",
       " -2*a0 - 2*a1 - 2*a2 - 2*a3 - 2*a4,\n",
       " -2*a4*m + b0 + b1 + b2 + b3 + b4 + b5,\n",
       " a1 + 2*a2 + 3*a3 + 2*a4*m + 4*a4 - b0 - b1 - b2 - 2*b3 - 2*b4 - 2*b5,\n",
       " -2*a3*m**2 - 2*a4*m**2 + 10*a4*m - b1 - 2*b2*m - 2*b2 - b4 - 2*b5 + 2*c0 + 3*c1 + 3*c2 + 4*c3 + 4*c4 + 4*c5 + 4*c6 + 4*c7,\n",
       " -a3*m**2 - 2*a4*m**2 + 4*a4*m - b2*m + c2 + c4 + 2*c5 + 3*c6 + 4*c7,\n",
       " a0 + a1 + a2 + a3 + a4,\n",
       " 2*a4*m - b0 - b1 - b2 - b3 - b4 - b5,\n",
       " -a3*m**2 - a4*m**2 + 2*a4*m - b2*m + c0 + c1 + c2 + c3 + c4 + c5 + c6 + c7,\n",
       " -2*a0 + 2*a1 - 2*a2 + 2*a3 - 2*a4,\n",
       " -2*a4*m - b0 + b1 - b2 + b3 - b4 + b5,\n",
       " a1 - 2*a2 + 3*a3 - 2*a4*m - 4*a4 - b0 + b1 - b2 + 2*b3 - 2*b4 + 2*b5,\n",
       " -2*a3*m**2 + 2*a4*m**2 - 10*a4*m + b1 - 2*b2*m - 2*b2 - b4 + 2*b5 - 2*c0 + 3*c1 - 3*c2 - 4*c3 + 4*c4 - 4*c5 + 4*c6 - 4*c7,\n",
       " -a3*m**2 + 2*a4*m**2 - 4*a4*m - b2*m - c2 + c4 - 2*c5 + 3*c6 - 4*c7,\n",
       " a0 - a1 + a2 - a3 + a4,\n",
       " 2*a4*m + b0 - b1 + b2 - b3 + b4 - b5,\n",
       " a3*m**2 - a4*m**2 + 2*a4*m + b2*m + c0 - c1 + c2 + c3 - c4 + c5 - c6 + c7,\n",
       " -2*a0 - 4*a1 - 8*a2 - 16*a3 - 32*a4,\n",
       " -48*a4*m + 3*b0 + 6*b1 + 12*b2 + 9*b3 + 18*b4 + 36*b5,\n",
       " a1 + 4*a2 + 12*a3 + 16*a4*m + 32*a4 - b0 - 2*b1 - 4*b2 - 6*b3 - 12*b4 - 24*b5,\n",
       " -12*a3*m**2 - 24*a4*m**2 + 120*a4*m - 3*b1 - 12*b2*m - 12*b2 - 9*b4 - 36*b5 + 6*c0 + 27*c1 + 54*c2 + 108*c3 + 216*c4 + 432*c5 + 864*c6 + 1728*c7,\n",
       " -9*a3*m**2 - 36*a4*m**2 + 72*a4*m - 9*b2*m + 27*c2 + 81*c4 + 324*c5 + 972*c6 + 2592*c7,\n",
       " a0 + 2*a1 + 4*a2 + 8*a3 + 16*a4,\n",
       " 48*a4*m - 3*b0 - 6*b1 - 12*b2 - 9*b3 - 18*b4 - 36*b5,\n",
       " -18*a3*m**2 - 36*a4*m**2 + 72*a4*m - 18*b2*m + 9*c0 + 27*c1 + 54*c2 + 81*c3 + 162*c4 + 324*c5 + 648*c6 + 1296*c7]"
      ]
     },
     "execution_count": 53,
     "metadata": {},
     "output_type": "execute_result"
    }
   ],
   "source": [
    "linear=[]\n",
    "blow0=rela(s,t,0,0)\n",
    "for k in range(2):\n",
    "    po=Poly(blow0[k],s,t)\n",
    "    linear+=po.coeffs()\n",
    "    \n",
    "blow1=rela(s,t,1,1)\n",
    "for k in range(2):\n",
    "    po=Poly(blow1[k],s,t)\n",
    "    linear+=po.coeffs()\n",
    "    \n",
    "blow2=rela(s,t,-1,-1)\n",
    "for k in range(2):\n",
    "    po=Poly(blow2[k],s,t)\n",
    "    linear+=po.coeffs()\n",
    "\n",
    "blow3=rela(s,t,2,3)\n",
    "for k in range(2):\n",
    "    po=Poly(blow3[k],s,t)\n",
    "    linear+=po.coeffs()\n",
    "linear"
   ]
  },
  {
   "cell_type": "code",
   "execution_count": 54,
   "metadata": {},
   "outputs": [],
   "source": [
    "calculate=solve(linear,\n",
    "[a0,a1,a2,a3,a4,b0,b1,b2,b3,b4,b5,c0,c1,c2,c3,c4,c5,c6,c7])"
   ]
  },
  {
   "cell_type": "code",
   "execution_count": 55,
   "metadata": {},
   "outputs": [
    {
     "data": {
      "text/plain": [
       "{c7: 0,\n",
       " c5: 0,\n",
       " c6: 0,\n",
       " c3: 0,\n",
       " c2: 0,\n",
       " c4: 0,\n",
       " c1: 0,\n",
       " c0: 0,\n",
       " b4: 0,\n",
       " b5: 0,\n",
       " b3: 0,\n",
       " b2: 0,\n",
       " b1: 0,\n",
       " b0: 0,\n",
       " a3: 0,\n",
       " a4: 0,\n",
       " a2: 0,\n",
       " a1: 0,\n",
       " a0: 0}"
      ]
     },
     "execution_count": 55,
     "metadata": {},
     "output_type": "execute_result"
    }
   ],
   "source": [
    "calculate"
   ]
  },
  {
   "cell_type": "code",
   "execution_count": 129,
   "metadata": {},
   "outputs": [
    {
     "data": {
      "text/plain": [
       "{c6: 0,\n",
       " c4: 0,\n",
       " c1: 0,\n",
       " c0: -c2/2 - c3 + c7,\n",
       " b5: -c2 + c3 - 2*c5 - 5*c7,\n",
       " b3: -c3 + c7,\n",
       " b2: -b4/2,\n",
       " b1: 0,\n",
       " b0: -b4/2,\n",
       " a3: b4/2,\n",
       " a4: -c2/2 - c5 - 2*c7,\n",
       " a2: c2/2 + c5 + 2*c7,\n",
       " a1: -b4/2,\n",
       " a0: 0}"
      ]
     },
     "execution_count": 129,
     "metadata": {},
     "output_type": "execute_result"
    }
   ],
   "source": [
    "x=Symbol('x')\n",
    "y=Symbol('y')\n",
    "s=Symbol('s')\n",
    "t=Symbol('t')\n",
    "m=1\n",
    "a0,a1,a2,a3,a4=symbols('a0:5')\n",
    "b0,b1,b2,b3,b4,b5=symbols('b0:6')\n",
    "c0,c1,c2,c3,c4,c5,c6,c7=symbols('c0:8')\n",
    "def f(x):\n",
    "    return a0+a1*x+a2*(x**2)+a3*(x**3)+a4*(x**4)\n",
    "def g(x,y):\n",
    "    return (b0+b1*x+b2*(x**2)-2*m*a4*(x**3))*y+(b3+b4*x+b5*(x**2) )*(y**2) \n",
    "def h(x,y):\n",
    "    return (c0-(m*b2+m*m*a3)*x+m*m*a4*(x**2))*(y**2)+(c1+c2*x)*(y**3)+(c3+c4*x+c5*(x**2)+c6*(x**3)+c7*(x**4))*(y**4)\n",
    "\n",
    "def rela(s,t,alpha,beta):\n",
    "    X=s+alpha\n",
    "    Y=s*t+beta\n",
    "    L1=-2*f(X)*t+g(X,Y)\n",
    "    L2=f(X)*(t**2)-g(X,Y)*t+h(X,Y)\n",
    "    f1=div(L1,s,s)[1]\n",
    "    f2=div(L2,s**2,s)[1]\n",
    "    return f1,f2\n",
    "\n",
    "linear=[]\n",
    "blow0=rela(s,t,0,0)\n",
    "for k in range(2):\n",
    "    po=Poly(blow0[k],s,t)\n",
    "    linear+=po.coeffs()\n",
    "    \n",
    "blow1=rela(s,t,1,1)\n",
    "for k in range(2):\n",
    "    po=Poly(blow1[k],s,t)\n",
    "    linear+=po.coeffs()\n",
    "    \n",
    "blow2=rela(s,t,-1,-1)\n",
    "for k in range(2):\n",
    "    po=Poly(blow2[k],s,t)\n",
    "    linear+=po.coeffs()\n",
    "calculate=solve(linear,\n",
    "[a0,a1,a2,a3,a4,b0,b1,b2,b3,b4,b5,c0,c1,c2,c3,c4,c5,c6,c7])\n",
    "calculate"
   ]
  },
  {
   "cell_type": "code",
   "execution_count": 130,
   "metadata": {},
   "outputs": [
    {
     "name": "stdout",
     "output_type": "stream",
     "text": [
      "b4*x**3/2 - b4*x/2 + x**4*(-c2/2 - c5 - 2*c7) + x**2*(c2/2 + c5 + 2*c7)\n",
      "y**2*(b4*x - c3 + c7 + x**2*(-c2 + c3 - 2*c5 - 5*c7)) + y*(-b4*x**2/2 - b4/2 - 2*x**3*(-c2/2 - c5 - 2*c7))\n",
      "c2*x*y**3 + y**4*(c3 + c5*x**2 + c7*x**4) + y**2*(-c2/2 - c3 + c7 + x**2*(-c2/2 - c5 - 2*c7))\n"
     ]
    }
   ],
   "source": [
    "ex1=f(x).subs(calculate)\n",
    "ex2=g(x,y).subs(calculate)\n",
    "ex3=h(x,y).subs(calculate)\n",
    "print(ex1)\n",
    "print(ex2)\n",
    "print(ex3)"
   ]
  },
  {
   "cell_type": "code",
   "execution_count": 131,
   "metadata": {},
   "outputs": [
    {
     "name": "stdout",
     "output_type": "stream",
     "text": [
      "x**3 - x\n",
      "y*(-x**2 + 2*x*y - 1)\n",
      "0\n"
     ]
    }
   ],
   "source": [
    "print(simplify(ex1.subs([(c2,0),(c3,0),(c5,0),(c7,0),(b4,2)])))\n",
    "print(simplify(ex2.subs([(c2,0),(c3,0),(c5,0),(c7,0),(b4,2)])))\n",
    "print(simplify(ex3.subs([(c2,0),(c3,0),(c5,0),(c7,0),(b4,2)])))"
   ]
  },
  {
   "cell_type": "code",
   "execution_count": 132,
   "metadata": {},
   "outputs": [
    {
     "name": "stdout",
     "output_type": "stream",
     "text": [
      "0\n",
      "y**2*(x**2 - 1)\n",
      "y**4 - y**2\n"
     ]
    }
   ],
   "source": [
    "print(simplify(ex1.subs([(c2,0),(c3,1),(c5,0),(c7,0),(b4,0)])))\n",
    "print(simplify(ex2.subs([(c2,0),(c3,1),(c5,0),(c7,0),(b4,0)])))\n",
    "print(simplify(ex3.subs([(c2,0),(c3,1),(c5,0),(c7,0),(b4,0)])))"
   ]
  },
  {
   "cell_type": "code",
   "execution_count": 133,
   "metadata": {},
   "outputs": [
    {
     "name": "stdout",
     "output_type": "stream",
     "text": [
      "0\n",
      "y**2*(x**2 - 1)\n",
      "y**2*(x**2*y**2*(-x**2 + 2) - 1)\n"
     ]
    }
   ],
   "source": [
    "print(simplify(ex1.subs([(c2,0),(c3,0),(c5,2),(c7,-1),(b4,0)])))\n",
    "print(simplify(ex2.subs([(c2,0),(c3,0),(c5,2),(c7,-1),(b4,0)])))\n",
    "print(simplify(ex3.subs([(c2,0),(c3,0),(c5,2),(c7,-1),(b4,0)])))"
   ]
  },
  {
   "cell_type": "code",
   "execution_count": 134,
   "metadata": {},
   "outputs": [],
   "source": [
    "A=Matrix([ [x**3 - x,y*(-x**2 + 2*x*y - 1),0],[0,y**2*(x**2 - 1),y**4 - y**2],[0,y**2*(x**2 - 1),y**2*(x**2*y**2*(-x**2 + 2) - 1)] ])"
   ]
  },
  {
   "cell_type": "code",
   "execution_count": 135,
   "metadata": {},
   "outputs": [
    {
     "data": {
      "text/plain": [
       "x*y**6*(-x**8 + 4*x**6 - 6*x**4 + 4*x**2 - 1)"
      ]
     },
     "execution_count": 135,
     "metadata": {},
     "output_type": "execute_result"
    }
   ],
   "source": [
    "simplify(A.det())"
   ]
  },
  {
   "cell_type": "code",
   "execution_count": 136,
   "metadata": {},
   "outputs": [
    {
     "data": {
      "text/plain": [
       "[(-1, y), (0, y), (1, y), (x, 0)]"
      ]
     },
     "execution_count": 136,
     "metadata": {},
     "output_type": "execute_result"
    }
   ],
   "source": [
    "solve(simplify(A.det()),[x,y])"
   ]
  },
  {
   "cell_type": "code",
   "execution_count": 138,
   "metadata": {},
   "outputs": [
    {
     "data": {
      "text/plain": [
       "{c4: -2*c6,\n",
       " c1: 2*c6,\n",
       " c0: -c2/2 - c3 + c7,\n",
       " b4: 2*c6/(m*(m - 1)),\n",
       " b5: c2/2 - c2/m - c2/(2*m**2) + c3 + c5 - 2*c5/m - c5/m**2 + c7 - 4*c7/m - 2*c7/m**2,\n",
       " b3: -c2/2 + c2/m - c2/(2*m**2) - c3 - c5 + 2*c5/m - c5/m**2 - c7 + 4*c7/m - 2*c7/m**2,\n",
       " b2: -c6/(m*(m - 1)),\n",
       " b1: (-c2*m + c2 - 2*c5*m + 2*c5 - 4*c7*m + 4*c7)/m**2,\n",
       " b0: -c6/(m*(m - 1)),\n",
       " a3: c6/(m*(m - 1)),\n",
       " a4: -(c2/2 + c5 + 2*c7)/m**2,\n",
       " a2: (c2/2 + c5 + 2*c7)/m**2,\n",
       " a1: -c6/(m*(m - 1)),\n",
       " a0: 0}"
      ]
     },
     "execution_count": 138,
     "metadata": {},
     "output_type": "execute_result"
    }
   ],
   "source": [
    "x=Symbol('x')\n",
    "y=Symbol('y')\n",
    "s=Symbol('s')\n",
    "t=Symbol('t')\n",
    "m=Symbol('m')\n",
    "a0,a1,a2,a3,a4=symbols('a0:5')\n",
    "b0,b1,b2,b3,b4,b5=symbols('b0:6')\n",
    "c0,c1,c2,c3,c4,c5,c6,c7=symbols('c0:8')\n",
    "def f(x):\n",
    "    return a0+a1*x+a2*(x**2)+a3*(x**3)+a4*(x**4)\n",
    "def g(x,y):\n",
    "    return (b0+b1*x+b2*(x**2)-2*m*a4*(x**3))*y+(b3+b4*x+b5*(x**2) )*(y**2) \n",
    "def h(x,y):\n",
    "    return (c0-(m*b2+m*m*a3)*x+m*m*a4*(x**2))*(y**2)+(c1+c2*x)*(y**3)+(c3+c4*x+c5*(x**2)+c6*(x**3)+c7*(x**4))*(y**4)\n",
    "def rela(s,t,alpha,beta):\n",
    "    X=s+alpha\n",
    "    Y=s*t+beta\n",
    "    L1=-2*f(X)*t+g(X,Y)\n",
    "    L2=f(X)*(t**2)-g(X,Y)*t+h(X,Y)\n",
    "    f1=div(L1,s,s)[1]\n",
    "    f2=div(L2,s**2,s)[1]\n",
    "    return f1,f2\n",
    "linear=[]\n",
    "blow0=rela(s,t,0,0)\n",
    "for k in range(2):\n",
    "    po=Poly(blow0[k],s,t)\n",
    "    linear+=po.coeffs()\n",
    "    \n",
    "blow1=rela(s,t,1,1)\n",
    "for k in range(2):\n",
    "    po=Poly(blow1[k],s,t)\n",
    "    linear+=po.coeffs()\n",
    "    \n",
    "blow2=rela(s,t,-1,-1)\n",
    "for k in range(2):\n",
    "    po=Poly(blow2[k],s,t)\n",
    "    linear+=po.coeffs()\n",
    "calculate=solve(linear,\n",
    "[a0,a1,a2,a3,a4,b0,b1,b2,b3,b4,b5,c0,c1,c2,c3,c4,c5,c6,c7])\n",
    "calculate"
   ]
  },
  {
   "cell_type": "code",
   "execution_count": 139,
   "metadata": {},
   "outputs": [
    {
     "name": "stdout",
     "output_type": "stream",
     "text": [
      "c6*x**3/(m*(m - 1)) - c6*x/(m*(m - 1)) - x**4*(c2/2 + c5 + 2*c7)/m**2 + x**2*(c2/2 + c5 + 2*c7)/m**2\n",
      "y**2*(-c2/2 + c2/m - c2/(2*m**2) - c3 - c5 + 2*c5/m - c5/m**2 + 2*c6*x/(m*(m - 1)) - c7 + 4*c7/m - 2*c7/m**2 + x**2*(c2/2 - c2/m - c2/(2*m**2) + c3 + c5 - 2*c5/m - c5/m**2 + c7 - 4*c7/m - 2*c7/m**2)) + y*(-c6*x**2/(m*(m - 1)) - c6/(m*(m - 1)) + 2*x**3*(c2/2 + c5 + 2*c7)/m + x*(-c2*m + c2 - 2*c5*m + 2*c5 - 4*c7*m + 4*c7)/m**2)\n",
      "y**4*(c3 + c5*x**2 + c6*x**3 - 2*c6*x + c7*x**4) + y**3*(c2*x + 2*c6) + y**2*(-c2/2 - c3 + c7 - x**2*(c2/2 + c5 + 2*c7) - x*(c6*m/(m - 1) - c6/(m - 1)))\n"
     ]
    }
   ],
   "source": [
    "ex1=f(x).subs(calculate)\n",
    "ex2=g(x,y).subs(calculate)\n",
    "ex3=h(x,y).subs(calculate)\n",
    "print(ex1)\n",
    "print(ex2)\n",
    "print(ex3)"
   ]
  },
  {
   "cell_type": "code",
   "execution_count": 140,
   "metadata": {},
   "outputs": [
    {
     "name": "stdout",
     "output_type": "stream",
     "text": [
      "x**3 - x\n",
      "y*(-x**2 + 2*x*y - 1)\n",
      "m*y**2*(m - 1)*(x*y**2*(x**2 - 2) - x + 2*y)\n"
     ]
    }
   ],
   "source": [
    "print(simplify(ex1.subs([(c2,0),(c3,0),(c5,0),(c7,0),(c6,m*(m-1))])))\n",
    "print(simplify(ex2.subs([(c2,0),(c3,0),(c5,0),(c7,0),(c6,m*(m-1))])))\n",
    "print(simplify(ex3.subs([(c2,0),(c3,0),(c5,0),(c7,0),(c6,m*(m-1))])))"
   ]
  },
  {
   "cell_type": "code",
   "execution_count": 141,
   "metadata": {},
   "outputs": [
    {
     "name": "stdout",
     "output_type": "stream",
     "text": [
      "0\n",
      "y**2*(x**2 - 1)\n",
      "y**4 - y**2\n"
     ]
    }
   ],
   "source": [
    "print(simplify(ex1.subs([(c2,0),(c3,1),(c5,0),(c7,0),(c6,0)  ])))\n",
    "print(simplify(ex2.subs([(c2,0),(c3,1),(c5,0),(c7,0),(c6,0)  ])))\n",
    "print(simplify(ex3.subs([(c2,0),(c3,1),(c5,0),(c7,0),(c6,0)  ])))"
   ]
  },
  {
   "cell_type": "code",
   "execution_count": 142,
   "metadata": {},
   "outputs": [
    {
     "name": "stdout",
     "output_type": "stream",
     "text": [
      "0\n",
      "y**2*(x**2 - 1)\n",
      "y**2*(x**2*y**2*(-x**2 + 2) - 1)\n"
     ]
    }
   ],
   "source": [
    "print(simplify(ex1.subs([(c2,0),(c3,0),(c5,2),(c7,-1),(c6,0)  ])))\n",
    "print(simplify(ex2.subs([(c2,0),(c3,0),(c5,2),(c7,-1),(c6,0)  ])))\n",
    "print(simplify(ex3.subs([(c2,0),(c3,0),(c5,2),(c7,-1),(c6,0)  ])))"
   ]
  },
  {
   "cell_type": "code",
   "execution_count": 143,
   "metadata": {},
   "outputs": [],
   "source": [
    "A=Matrix([ [x**3 - x,y*(-x**2 + 2*x*y - 1), m*y**2*(m - 1)*(x*y**2*(x**2 - 2) - x + 2*y)] , \n",
    "          [0,y**2*(x**2 - 1),y**4 - y**2] , \n",
    "          [0,y**2*(x**2 - 1),y**2*(x**2*y**2*(-x**2 + 2) - 1)] ])"
   ]
  },
  {
   "cell_type": "code",
   "execution_count": 144,
   "metadata": {},
   "outputs": [
    {
     "data": {
      "text/plain": [
       "x*y**6*(-x**8 + 4*x**6 - 6*x**4 + 4*x**2 - 1)"
      ]
     },
     "execution_count": 144,
     "metadata": {},
     "output_type": "execute_result"
    }
   ],
   "source": [
    "simplify(A.det())"
   ]
  },
  {
   "cell_type": "code",
   "execution_count": 145,
   "metadata": {},
   "outputs": [
    {
     "data": {
      "text/plain": [
       "[(-1, y), (0, y), (1, y), (x, 0)]"
      ]
     },
     "execution_count": 145,
     "metadata": {},
     "output_type": "execute_result"
    }
   ],
   "source": [
    "solve(simplify(A.det()),[x,y])"
   ]
  },
  {
   "cell_type": "code",
   "execution_count": null,
   "metadata": {},
   "outputs": [],
   "source": []
  },
  {
   "cell_type": "code",
   "execution_count": null,
   "metadata": {},
   "outputs": [],
   "source": []
  }
 ],
 "metadata": {
  "kernelspec": {
   "display_name": "python 3.6.3",
   "language": "python",
   "name": "python3.6"
  },
  "language_info": {
   "codemirror_mode": {
    "name": "ipython",
    "version": 3
   },
   "file_extension": ".py",
   "mimetype": "text/x-python",
   "name": "python",
   "nbconvert_exporter": "python",
   "pygments_lexer": "ipython3",
   "version": "3.6.3"
  },
  "toc": {
   "base_numbering": 1,
   "nav_menu": {},
   "number_sections": true,
   "sideBar": true,
   "skip_h1_title": false,
   "title_cell": "Table of Contents",
   "title_sidebar": "Contents",
   "toc_cell": false,
   "toc_position": {},
   "toc_section_display": true,
   "toc_window_display": false
  }
 },
 "nbformat": 4,
 "nbformat_minor": 2
}
